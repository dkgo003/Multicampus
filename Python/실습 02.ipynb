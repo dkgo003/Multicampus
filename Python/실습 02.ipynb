{
 "cells": [
  {
   "cell_type": "markdown",
   "metadata": {
    "id": "h6dVN3-DHMZb"
   },
   "source": [
    "## 화면 입출력"
   ]
  },
  {
   "cell_type": "code",
   "execution_count": 3,
   "metadata": {
    "colab": {
     "base_uri": "https://localhost:8080/"
    },
    "executionInfo": {
     "elapsed": 32746,
     "status": "ok",
     "timestamp": 1678752857300,
     "user": {
      "displayName": "이인규",
      "userId": "02133435011065455481"
     },
     "user_tz": -540
    },
    "id": "jDKiAp4gGugK",
    "outputId": "b3061b18-5d3d-4453-c018-4a349784d8bb"
   },
   "outputs": [
    {
     "name": "stdout",
     "output_type": "stream",
     "text": [
      "Enter your name : \n",
      "inklee\n",
      "Hi inklee How are you today?\n"
     ]
    }
   ],
   "source": [
    "### 표준 입력 함수 : input() 함수\n",
    "\n",
    "print(\"Enter your name : \")\n",
    "sombody = input()\n",
    "print(\"Hi\", sombody, \"How are you today?\")"
   ]
  },
  {
   "cell_type": "code",
   "execution_count": null,
   "metadata": {
    "colab": {
     "base_uri": "https://localhost:8080/"
    },
    "executionInfo": {
     "elapsed": 2,
     "status": "ok",
     "timestamp": 1678753407132,
     "user": {
      "displayName": "이인규",
      "userId": "02133435011065455481"
     },
     "user_tz": -540
    },
    "id": "yxfe2Gsudwrm",
    "outputId": "a9c63730-f1dc-4ba5-813d-aa51f864e1f4"
   },
   "outputs": [
    {
     "name": "stdout",
     "output_type": "stream",
     "text": [
      "Hello world! Hello Again!!\n",
      "Hello world!Hello Again!!\n"
     ]
    }
   ],
   "source": [
    "### 표준 출력 함수 : print() 함수\n",
    "\n",
    "print(\"Hello world!\", \"Hello Again!!\")\n",
    "print(\"Hello world!\" + \"Hello Again!!\")"
   ]
  },
  {
   "cell_type": "code",
   "execution_count": null,
   "metadata": {
    "colab": {
     "base_uri": "https://localhost:8080/"
    },
    "executionInfo": {
     "elapsed": 2176,
     "status": "ok",
     "timestamp": 1678754685018,
     "user": {
      "displayName": "이인규",
      "userId": "02133435011065455481"
     },
     "user_tz": -540
    },
    "id": "XPDLWGvtgB2f",
    "outputId": "8e14a7ea-0103-40f8-f5e9-b8057b6085ab"
   },
   "outputs": [
    {
     "name": "stdout",
     "output_type": "stream",
     "text": [
      "온도를 입력하세요 : 123.1\n",
      "123.1\n"
     ]
    }
   ],
   "source": [
    "### input() 함수에 바로 지시문 넣기\n",
    "\n",
    "temperature = float(input(\"온도를 입력하세요 : \"))\n",
    "print(temperature)"
   ]
  },
  {
   "cell_type": "markdown",
   "metadata": {
    "id": "5-AY5FXrjAf1"
   },
   "source": [
    "## 화씨 온도 변환기"
   ]
  },
  {
   "cell_type": "code",
   "execution_count": null,
   "metadata": {
    "colab": {
     "base_uri": "https://localhost:8080/"
    },
    "executionInfo": {
     "elapsed": 1640,
     "status": "ok",
     "timestamp": 1678754709113,
     "user": {
      "displayName": "이인규",
      "userId": "02133435011065455481"
     },
     "user_tz": -540
    },
    "id": "zKVHUSLciCJU",
    "outputId": "1c605e5a-616a-4af0-b859-71825478378b"
   },
   "outputs": [
    {
     "name": "stdout",
     "output_type": "stream",
     "text": [
      "본 프로그램은 섭씨온도를 화씨온도로 변환하는 프로그램입니다.\n",
      "변환하고 싶은 섭씨온도를 입력하세요.\n",
      "32.2\n",
      "섭씨온도 : 32.2\n",
      "화씨온도 : 89.96000000000001\n"
     ]
    }
   ],
   "source": [
    "print(\"본 프로그램은 섭씨온도를 화씨온도로 변환하는 프로그램입니다.\")\n",
    "print(\"변환하고 싶은 섭씨온도를 입력하세요.\")\n",
    "\n",
    "C = input()\n",
    "F = (float(C) * 1.8) + 32\n",
    "\n",
    "print(f\"섭씨온도 : {C}\")\n",
    "print(f\"화씨온도 : {F}\")"
   ]
  },
  {
   "cell_type": "markdown",
   "metadata": {
    "id": "rbOk5EL8nX_a"
   },
   "source": [
    "## 리스트의 이해"
   ]
  },
  {
   "cell_type": "code",
   "execution_count": null,
   "metadata": {
    "colab": {
     "base_uri": "https://localhost:8080/"
    },
    "executionInfo": {
     "elapsed": 1,
     "status": "ok",
     "timestamp": 1678756772248,
     "user": {
      "displayName": "이인규",
      "userId": "02133435011065455481"
     },
     "user_tz": -540
    },
    "id": "JscQBg87iudQ",
    "outputId": "bdebba69-fb7b-447b-8f58-6957d55bfa9b"
   },
   "outputs": [
    {
     "name": "stdout",
     "output_type": "stream",
     "text": [
      "['red', 'blue', 'green']\n",
      "[1, 2, 3, 4, 5]\n"
     ]
    }
   ],
   "source": [
    "### 리스트 자료형 데이터 생성\n",
    "\n",
    "colors = ['red', 'blue', 'green']\n",
    "print(colors)\n",
    "\n",
    "numbers = [1, 2, 3, 4, 5]\n",
    "print(numbers)"
   ]
  },
  {
   "cell_type": "code",
   "execution_count": null,
   "metadata": {
    "colab": {
     "base_uri": "https://localhost:8080/"
    },
    "executionInfo": {
     "elapsed": 2,
     "status": "ok",
     "timestamp": 1678757635054,
     "user": {
      "displayName": "이인규",
      "userId": "02133435011065455481"
     },
     "user_tz": -540
    },
    "id": "4Mh9zzYxqpqm",
    "outputId": "7e59d4ef-26ba-401b-afbf-34cf013d284f"
   },
   "outputs": [
    {
     "name": "stdout",
     "output_type": "stream",
     "text": [
      "red\n",
      "blue\n",
      "green\n",
      "3\n"
     ]
    }
   ],
   "source": [
    "### 인덱싱(indexing)\n",
    "\n",
    "colors = ['red', 'blue', 'green']\n",
    "# red 추출\n",
    "print(colors[0])\n",
    "# blue 추출\n",
    "print(colors[1])\n",
    "# green 추출\n",
    "print(colors[2])\n",
    "# 리스트안에 있는 성분 원소의 개수 확인\n",
    "print(len(colors))"
   ]
  },
  {
   "cell_type": "code",
   "execution_count": null,
   "metadata": {
    "colab": {
     "base_uri": "https://localhost:8080/"
    },
    "executionInfo": {
     "elapsed": 295,
     "status": "ok",
     "timestamp": 1678758609568,
     "user": {
      "displayName": "이인규",
      "userId": "02133435011065455481"
     },
     "user_tz": -540
    },
    "id": "CvZn7bzwwJ_k",
    "outputId": "b92ea028-30bd-4561-af35-1ea34211eac5"
   },
   "outputs": [
    {
     "name": "stdout",
     "output_type": "stream",
     "text": [
      "변수의 자료형 : <class 'list'>\n",
      "['서울', '부산', '인천', '대구', '대전', '광주']\n",
      "['서울', '부산', '인천', '대구', '대전']\n",
      "['광주', '울산', '수원']\n"
     ]
    }
   ],
   "source": [
    "### 슬라이싱(slicing)\n",
    "\n",
    "cities = ['서울', '부산', '인천', '대구', '대전', '광주', '울산', '수원']\n",
    "print(f\"변수의 자료형 : {type(cities)}\")\n",
    "# 서울에서 광주까지 범위를 지정해서 추출\n",
    "print(cities[0:6])\n",
    "# index 0 : 5 지정\n",
    "print(cities[0:5])\n",
    "# index 5번 원소부터 마지막 원소까지 추출\n",
    "print(cities[5:])"
   ]
  },
  {
   "cell_type": "code",
   "execution_count": null,
   "metadata": {
    "colab": {
     "base_uri": "https://localhost:8080/"
    },
    "executionInfo": {
     "elapsed": 2,
     "status": "ok",
     "timestamp": 1678759923884,
     "user": {
      "displayName": "이인규",
      "userId": "02133435011065455481"
     },
     "user_tz": -540
    },
    "id": "OoqhJEfZz36H",
    "outputId": "caa11889-b472-4456-d4f0-bf3eed304fb2"
   },
   "outputs": [
    {
     "name": "stdout",
     "output_type": "stream",
     "text": [
      "수원\n",
      "8\n",
      "['서울', '부산', '인천', '대구', '대전', '광주', '울산', '수원']\n"
     ]
    }
   ],
   "source": [
    "### 리버스 인덱스\n",
    "\n",
    "# 마지막 원소만 인덱싱 --> 추출\n",
    "print(cities[-1])\n",
    "\n",
    "# 처음부터 : 끝까지 추출 --> 슬라이싱\n",
    "numbers = len(cities)\n",
    "print(numbers)\n",
    "print(cities[-8:]) # 굳이 사용할 필요는 없다"
   ]
  },
  {
   "cell_type": "code",
   "execution_count": null,
   "metadata": {
    "colab": {
     "base_uri": "https://localhost:8080/"
    },
    "executionInfo": {
     "elapsed": 2,
     "status": "ok",
     "timestamp": 1678760498536,
     "user": {
      "displayName": "이인규",
      "userId": "02133435011065455481"
     },
     "user_tz": -540
    },
    "id": "j1AgmkpM44vQ",
    "outputId": "73b4e953-96ad-4845-a4a5-5abe4792a8ec"
   },
   "outputs": [
    {
     "name": "stdout",
     "output_type": "stream",
     "text": [
      "['서울', '부산', '인천', '대구', '대전', '광주', '울산', '수원']\n",
      "원본의 주소 : 139952999571584\n",
      "복사본의 주소 : 139953758900608\n"
     ]
    }
   ],
   "source": [
    "### 리스트 변수 복사(copy)\n",
    "\n",
    "# 전체 범위로 슬라이싱\n",
    "cities2 = cities[:]\n",
    "print(cities2)\n",
    "\n",
    "# 원본과 복사본의 주소(id) 확인\n",
    "print(f'원본의 주소 : {id(cities)}')\n",
    "print(f'복사본의 주소 : {id(cities2)}')"
   ]
  },
  {
   "cell_type": "code",
   "execution_count": null,
   "metadata": {
    "colab": {
     "base_uri": "https://localhost:8080/"
    },
    "executionInfo": {
     "elapsed": 2,
     "status": "ok",
     "timestamp": 1678761677216,
     "user": {
      "displayName": "이인규",
      "userId": "02133435011065455481"
     },
     "user_tz": -540
    },
    "id": "U9hdiEmp7FEg",
    "outputId": "f74f8e6c-0277-41c0-ab00-fe93697b99de"
   },
   "outputs": [
    {
     "name": "stdout",
     "output_type": "stream",
     "text": [
      "['서울', '부산', '인천', '대구', '대전', '광주', '울산', '수원']\n"
     ]
    }
   ],
   "source": [
    "### 범위를 넘어갈 경우 자동으로 최대 범위(시작부터 끝까지)를 지정\n",
    "\n",
    "print(cities[-50:50])"
   ]
  },
  {
   "cell_type": "code",
   "execution_count": null,
   "metadata": {
    "colab": {
     "base_uri": "https://localhost:8080/"
    },
    "executionInfo": {
     "elapsed": 1,
     "status": "ok",
     "timestamp": 1678762145360,
     "user": {
      "displayName": "이인규",
      "userId": "02133435011065455481"
     },
     "user_tz": -540
    },
    "id": "_Y5cXqP0_k1e",
    "outputId": "8137f4e3-9b66-4d0a-8c47-49e329e2cef7"
   },
   "outputs": [
    {
     "name": "stdout",
     "output_type": "stream",
     "text": [
      "['서울', '인천', '대전', '울산']\n",
      "['수원', '울산', '광주', '대전', '대구', '인천', '부산', '서울']\n"
     ]
    }
   ],
   "source": [
    "### 증가값(step)\n",
    "\n",
    "# 2칸 간격으로 슬라이싱\n",
    "print(cities[::2])\n",
    "\n",
    "# 역으로 슬라이싱\n",
    "print(cities[::-1])"
   ]
  },
  {
   "cell_type": "code",
   "execution_count": null,
   "metadata": {
    "colab": {
     "base_uri": "https://localhost:8080/"
    },
    "executionInfo": {
     "elapsed": 323,
     "status": "ok",
     "timestamp": 1678766891912,
     "user": {
      "displayName": "이인규",
      "userId": "02133435011065455481"
     },
     "user_tz": -540
    },
    "id": "SW4tRMc9BXG_",
    "outputId": "c3b3eb78-f015-4083-ac9e-f012382b1737"
   },
   "outputs": [
    {
     "name": "stdout",
     "output_type": "stream",
     "text": [
      "['res', 'blue', 'green', 'orange', 'black', 'white']\n",
      "['res', 'blue', 'green']\n",
      "['orange', 'black', 'white']\n",
      "['res', 'blue', 'green', 'orange', 'black', 'white']\n"
     ]
    }
   ],
   "source": [
    "### 덧셈 연산\n",
    "\n",
    "color1 = ['res', 'blue', 'green']\n",
    "color2 = ['orange', 'black', 'white']\n",
    "\n",
    "# 두 리스트 합치기\n",
    "print(color1 + color2)\n",
    "\n",
    "# 두 리스트 합치기 --> 기존 리스트(변수)에 영향을 주지 않는다\n",
    "print(color1)\n",
    "print(color2)\n",
    "\n",
    "# 두 리스트 합치기 --> 다른 변수에 저장\n",
    "total_color = color1 + color2\n",
    "print(total_color)"
   ]
  },
  {
   "cell_type": "code",
   "execution_count": null,
   "metadata": {
    "colab": {
     "base_uri": "https://localhost:8080/"
    },
    "executionInfo": {
     "elapsed": 318,
     "status": "ok",
     "timestamp": 1678767377931,
     "user": {
      "displayName": "이인규",
      "userId": "02133435011065455481"
     },
     "user_tz": -540
    },
    "id": "sd6_cB_eTeA4",
    "outputId": "f022346a-b695-42a1-e9b0-0c708f7a02f1"
   },
   "outputs": [
    {
     "name": "stdout",
     "output_type": "stream",
     "text": [
      "['res', 'blue', 'green', 'res', 'blue', 'green']\n",
      "['res', 'blue', 'green', 'res', 'blue', 'green']\n"
     ]
    }
   ],
   "source": [
    "### 곱셈 연산\n",
    "\n",
    "result1 = color1 * 2\n",
    "result2 = color1 + color1\n",
    "print(result1)\n",
    "print(result2)"
   ]
  },
  {
   "cell_type": "code",
   "execution_count": null,
   "metadata": {
    "colab": {
     "base_uri": "https://localhost:8080/"
    },
    "executionInfo": {
     "elapsed": 3,
     "status": "ok",
     "timestamp": 1678768997698,
     "user": {
      "displayName": "이인규",
      "userId": "02133435011065455481"
     },
     "user_tz": -540
    },
    "id": "N-iy4G6NVUrd",
    "outputId": "70d87181-e9e0-4cd6-f1cf-6105262424e3"
   },
   "outputs": [
    {
     "name": "stdout",
     "output_type": "stream",
     "text": [
      "False\n"
     ]
    }
   ],
   "source": [
    "### in 연산\n",
    "\n",
    "# color2 변수안에 문자열 'blue'의 존재 여부 확인 --> 결과 값 : True, False\n",
    "check = 'blue' in color2\n",
    "print(check)"
   ]
  },
  {
   "cell_type": "code",
   "execution_count": null,
   "metadata": {
    "colab": {
     "base_uri": "https://localhost:8080/"
    },
    "executionInfo": {
     "elapsed": 1,
     "status": "ok",
     "timestamp": 1678770786991,
     "user": {
      "displayName": "이인규",
      "userId": "02133435011065455481"
     },
     "user_tz": -540
    },
    "id": "rTyn5PljbgDG",
    "outputId": "578119b8-2754-4329-eb65-c7ecb0f8341f"
   },
   "outputs": [
    {
     "name": "stdout",
     "output_type": "stream",
     "text": [
      "['red', 'blue', 'green', 'white', 'black']\n",
      "['red', 'blue', 'green', 'white', 'black', ['a', 'b', 'c']]\n",
      "['a', 'b', 'c']\n",
      "b\n"
     ]
    }
   ],
   "source": [
    "### append() 함수\n",
    "\n",
    "color = ['red', 'blue', 'green']\n",
    "\n",
    "# 리스트 마지막 인덱스에 새로운 원소 'white' 추가\n",
    "color.append('white')\n",
    "color.append('black')\n",
    "print(color)\n",
    "\n",
    "# 리스트 마지막 인덱스에 새로운 원소 추가 --> 리스트추가\n",
    "color.append(['a', 'b', 'c'])\n",
    "print(color)\n",
    "print(color[5])\n",
    "\n",
    "# 추가한 리스트의 인덱스 추출\n",
    "print(color[5][1])"
   ]
  },
  {
   "cell_type": "code",
   "execution_count": null,
   "metadata": {
    "colab": {
     "base_uri": "https://localhost:8080/"
    },
    "executionInfo": {
     "elapsed": 301,
     "status": "ok",
     "timestamp": 1678771224137,
     "user": {
      "displayName": "이인규",
      "userId": "02133435011065455481"
     },
     "user_tz": -540
    },
    "id": "QrDptnLmiU5g",
    "outputId": "23da302e-8c16-419a-ab01-8b9455b14195"
   },
   "outputs": [
    {
     "name": "stdout",
     "output_type": "stream",
     "text": [
      "['red', 'blue', 'green', 'black', 'purple']\n"
     ]
    }
   ],
   "source": [
    "### extend() 함수\n",
    "\n",
    "color = ['red', 'blue', 'green']\n",
    "\n",
    "\"\"\"\n",
    "리스트의 마지막 인덱스\n",
    "--> 여러개의 원소를 동시에 추가\n",
    "--> 여러개의 원소를 리스트로 포장하되 리스트 형태로 추가(X)\n",
    "--> 리스트 덧셈 연산과 같은 효과를 발생\n",
    "\"\"\"\n",
    "\n",
    "color.extend(['black', 'purple'])\n",
    "print(color)"
   ]
  },
  {
   "cell_type": "code",
   "execution_count": null,
   "metadata": {
    "colab": {
     "base_uri": "https://localhost:8080/"
    },
    "executionInfo": {
     "elapsed": 2,
     "status": "ok",
     "timestamp": 1678771960098,
     "user": {
      "displayName": "이인규",
      "userId": "02133435011065455481"
     },
     "user_tz": -540
    },
    "id": "i8be9Mgkj_o3",
    "outputId": "cdcfd4be-0ea0-455a-e522-c2fa0320dffd"
   },
   "outputs": [
    {
     "name": "stdout",
     "output_type": "stream",
     "text": [
      "['orange', 'red', 'blue', 'green']\n",
      "['orange', ['black', 'purple'], 'red', 'blue', 'green']\n"
     ]
    }
   ],
   "source": [
    "### insert() 함수\n",
    "\n",
    "color = ['red', 'blue', 'green']\n",
    "color.insert(0, 'orange')\n",
    "print(color)\n",
    "\n",
    "# list 형태로 insert\n",
    "color.insert(1, ['black', 'purple'])\n",
    "print(color)"
   ]
  },
  {
   "cell_type": "code",
   "execution_count": null,
   "metadata": {
    "colab": {
     "base_uri": "https://localhost:8080/"
    },
    "executionInfo": {
     "elapsed": 3,
     "status": "ok",
     "timestamp": 1678772784312,
     "user": {
      "displayName": "이인규",
      "userId": "02133435011065455481"
     },
     "user_tz": -540
    },
    "id": "YZGayEe-mzS8",
    "outputId": "016e07af-a9eb-4fa4-d96d-a31a72d763e2"
   },
   "outputs": [
    {
     "name": "stdout",
     "output_type": "stream",
     "text": [
      "['blue', 'green']\n"
     ]
    }
   ],
   "source": [
    "### remove() 함수\n",
    "\n",
    "color = ['red', 'blue', 'green']\n",
    "color.remove('red')\n",
    "print(color)"
   ]
  },
  {
   "cell_type": "code",
   "execution_count": null,
   "metadata": {
    "colab": {
     "base_uri": "https://localhost:8080/"
    },
    "executionInfo": {
     "elapsed": 314,
     "status": "ok",
     "timestamp": 1678774621121,
     "user": {
      "displayName": "이인규",
      "userId": "02133435011065455481"
     },
     "user_tz": -540
    },
    "id": "6p2JB1WVp8in",
    "outputId": "33df066d-7234-4aea-9834-5fe68c836862"
   },
   "outputs": [
    {
     "name": "stdout",
     "output_type": "stream",
     "text": [
      "['orange', 'blue', 'green']\n",
      "['blue', 'green']\n"
     ]
    }
   ],
   "source": [
    "### 인덱스의 재할당과 삭제\n",
    "\n",
    "color = ['red', 'blue', 'green']\n",
    "\n",
    "# 수정(update)\n",
    "color[0] = 'orange'\n",
    "print(color)\n",
    "\n",
    "# del 명령어 사용 --> 특정 위치의 데이터 삭제\n",
    "del color[0]\n",
    "print(color)"
   ]
  },
  {
   "cell_type": "code",
   "execution_count": null,
   "metadata": {
    "colab": {
     "base_uri": "https://localhost:8080/"
    },
    "executionInfo": {
     "elapsed": 296,
     "status": "ok",
     "timestamp": 1678775275991,
     "user": {
      "displayName": "이인규",
      "userId": "02133435011065455481"
     },
     "user_tz": -540
    },
    "id": "1uJoXZi-w8-k",
    "outputId": "89651494-450a-4818-d01f-c4a78d4cba5a"
   },
   "outputs": [
    {
     "name": "stdout",
     "output_type": "stream",
     "text": [
      "1\n",
      "2\n",
      "3\n",
      "[1, 2, 3]\n"
     ]
    }
   ],
   "source": [
    "### 패킹과 언패킹(1)\n",
    "\n",
    "# 1, 2, 3을 변수 t에 패킹\n",
    "t = [1, 2, 3]\n",
    "\n",
    "# t에 있는 값 1, 2, 3을 변수 a, b, c에 언패킹\n",
    "a, b, c = t\n",
    "print(a)\n",
    "print(b)\n",
    "print(c)\n",
    "print(t)"
   ]
  },
  {
   "cell_type": "code",
   "execution_count": null,
   "metadata": {
    "id": "InUR1Fw0zc2w"
   },
   "outputs": [],
   "source": [
    "### 패킹과 언패킹(2)\n",
    "\n",
    "t = [1, 2, 3]\n",
    "\n",
    "# t에 있는 값 1, 2 ,3을 변수 a, b, c, d, e에 언패킹\n",
    "# a, b, c, d, e = t\n",
    "\n",
    "# t에 있는 값 1, 2, 3을 변수 a, b에 언패킹\n",
    "# a, b = t"
   ]
  },
  {
   "cell_type": "code",
   "execution_count": 4,
   "metadata": {
    "colab": {
     "base_uri": "https://localhost:8080/"
    },
    "executionInfo": {
     "elapsed": 2,
     "status": "ok",
     "timestamp": 1678778354312,
     "user": {
      "displayName": "이인규",
      "userId": "02133435011065455481"
     },
     "user_tz": -540
    },
    "id": "x7UcTRmb0NmX",
    "outputId": "bfc96ee0-f7df-41d0-e3ae-48b2264126c1"
   },
   "outputs": [
    {
     "name": "stdout",
     "output_type": "stream",
     "text": [
      "[[49, 79, 20, 100, 80], [43, 59, 85, 30, 90], [49, 79, 48, 60, 100]]\n",
      "20\n"
     ]
    }
   ],
   "source": [
    "### 이차원 리스트\n",
    "\n",
    "kor_score = [49, 79, 20, 100, 80]\n",
    "math_score = [43, 59, 85, 30, 90]\n",
    "eng_score = [49, 79, 48, 60, 100]\n",
    "\n",
    "midterm_score = [kor_score, math_score, eng_score]\n",
    "print(midterm_score)\n",
    "\n",
    "# 국어 점수 --> 3번째 원소(index = 2)\n",
    "print(midterm_score[0][2])"
   ]
  },
  {
   "cell_type": "code",
   "execution_count": null,
   "metadata": {},
   "outputs": [],
   "source": []
  }
 ],
 "metadata": {
  "colab": {
   "authorship_tag": "ABX9TyNK2YrU16+MjzbUL4e8iYNY",
   "provenance": [],
   "toc_visible": true
  },
  "kernelspec": {
   "display_name": "Python 3 (ipykernel)",
   "language": "python",
   "name": "python3"
  },
  "language_info": {
   "codemirror_mode": {
    "name": "ipython",
    "version": 3
   },
   "file_extension": ".py",
   "mimetype": "text/x-python",
   "name": "python",
   "nbconvert_exporter": "python",
   "pygments_lexer": "ipython3",
   "version": "3.9.13"
  }
 },
 "nbformat": 4,
 "nbformat_minor": 1
}
