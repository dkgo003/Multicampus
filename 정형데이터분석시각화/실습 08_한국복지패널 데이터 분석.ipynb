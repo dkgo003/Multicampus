{
  "cells": [
    {
      "cell_type": "markdown",
      "id": "7048898e-06c5-4e5c-9b21-8a385b85f4e0",
      "metadata": {
        "id": "7048898e-06c5-4e5c-9b21-8a385b85f4e0"
      },
      "source": [
        "# **셋째마당. 실전! 데이터 분석 프로젝트**\n",
        "---\n",
        "---\n"
      ]
    },
    {
      "cell_type": "markdown",
      "id": "84557add-2955-4498-b97a-fab479205142",
      "metadata": {
        "tags": [],
        "id": "84557add-2955-4498-b97a-fab479205142"
      },
      "source": [
        "# 데이터 분석 프로젝트  - 한국복지패널 데이터"
      ]
    },
    {
      "cell_type": "markdown",
      "id": "ba00bbc8-e705-4a60-8e6a-ff5d842c5538",
      "metadata": {
        "id": "ba00bbc8-e705-4a60-8e6a-ff5d842c5538"
      },
      "source": [
        "### 데이터 분석 준비하기"
      ]
    },
    {
      "cell_type": "markdown",
      "id": "3fa6ca30-2495-41ca-a399-1c226b4fc111",
      "metadata": {
        "id": "3fa6ca30-2495-41ca-a399-1c226b4fc111"
      },
      "source": [
        "#### 1. 데이터 준비하기\n",
        "\n"
      ]
    },
    {
      "cell_type": "code",
      "source": [
        "# 다른 통계 분석 소프트웨어 전용 파일 처리용 라이브러리 설치\n",
        "!pip install pyreadstat"
      ],
      "metadata": {
        "colab": {
          "base_uri": "https://localhost:8080/"
        },
        "id": "d-mInPfS-EbV",
        "outputId": "fdef64f6-4d3d-4575-8c67-b8deb0298927"
      },
      "id": "d-mInPfS-EbV",
      "execution_count": null,
      "outputs": [
        {
          "output_type": "stream",
          "name": "stdout",
          "text": [
            "Looking in indexes: https://pypi.org/simple, https://us-python.pkg.dev/colab-wheels/public/simple/\n",
            "Collecting pyreadstat\n",
            "  Downloading pyreadstat-1.2.1-cp39-cp39-manylinux_2_17_x86_64.manylinux2014_x86_64.whl (2.7 MB)\n",
            "\u001b[2K     \u001b[90m━━━━━━━━━━━━━━━━━━━━━━━━━━━━━━━━━━━━━━━━\u001b[0m \u001b[32m2.7/2.7 MB\u001b[0m \u001b[31m12.9 MB/s\u001b[0m eta \u001b[36m0:00:00\u001b[0m\n",
            "\u001b[?25hRequirement already satisfied: pandas>=1.2.0 in /usr/local/lib/python3.9/dist-packages (from pyreadstat) (1.4.4)\n",
            "Requirement already satisfied: python-dateutil>=2.8.1 in /usr/local/lib/python3.9/dist-packages (from pandas>=1.2.0->pyreadstat) (2.8.2)\n",
            "Requirement already satisfied: numpy>=1.18.5 in /usr/local/lib/python3.9/dist-packages (from pandas>=1.2.0->pyreadstat) (1.22.4)\n",
            "Requirement already satisfied: pytz>=2020.1 in /usr/local/lib/python3.9/dist-packages (from pandas>=1.2.0->pyreadstat) (2022.7.1)\n",
            "Requirement already satisfied: six>=1.5 in /usr/local/lib/python3.9/dist-packages (from python-dateutil>=2.8.1->pandas>=1.2.0->pyreadstat) (1.16.0)\n",
            "Installing collected packages: pyreadstat\n",
            "Successfully installed pyreadstat-1.2.1\n"
          ]
        }
      ]
    },
    {
      "cell_type": "code",
      "execution_count": null,
      "id": "d79d23d4",
      "metadata": {
        "id": "d79d23d4"
      },
      "outputs": [],
      "source": [
        "import pandas as pd\n",
        "import numpy as np\n",
        "import matplotlib.pyplot as plt\n",
        "import seaborn as sns\n",
        "import pyreadstat"
      ]
    },
    {
      "cell_type": "markdown",
      "id": "c553ee15",
      "metadata": {
        "id": "c553ee15"
      },
      "source": [
        "#### 2. 데이터 불러오기"
      ]
    },
    {
      "cell_type": "code",
      "execution_count": null,
      "id": "2f2bc49f",
      "metadata": {
        "eval": false,
        "id": "2f2bc49f",
        "colab": {
          "base_uri": "https://localhost:8080/"
        },
        "outputId": "a7cb1180-57ad-4a22-f9af-aed277895981"
      },
      "outputs": [
        {
          "output_type": "stream",
          "name": "stdout",
          "text": [
            "Mounted at /content/drive\n",
            "/content/drive/MyDrive/KDT/정형데이터분석시각화\n"
          ]
        }
      ],
      "source": [
        "### 데이터 불러오기\n",
        "\n",
        "# 구글 서버와 내 드라이브 연결\n",
        "from google.colab import drive\n",
        "drive.mount('/content/drive')\n",
        "\n",
        "# 현재 작업 경로 변경\n",
        "%cd '/content/drive/MyDrive/KDT/정형데이터분석시각화'\n",
        "\n",
        "# raw_welfare = pd.read_spss('Koweps_hpwc14_2019_beta2.sav')\n",
        "raw_welfare, meta = pyreadstat.read_sav('Koweps_hpwc14_2019_beta2.sav')\n",
        "\n",
        "# 복사본 만들기 \n",
        "welfare = raw_welfare.copy()"
      ]
    },
    {
      "cell_type": "markdown",
      "id": "d3653496",
      "metadata": {
        "id": "d3653496"
      },
      "source": [
        "#### 3. 데이터 검토하기"
      ]
    },
    {
      "cell_type": "code",
      "execution_count": null,
      "id": "4e362c2e-b484-4f8c-925e-275f3389daa6",
      "metadata": {
        "eval": false,
        "colab": {
          "base_uri": "https://localhost:8080/",
          "height": 487
        },
        "id": "4e362c2e-b484-4f8c-925e-275f3389daa6",
        "outputId": "54ca11fc-6cb7-4284-f69e-e3104c79960d"
      },
      "outputs": [
        {
          "output_type": "execute_result",
          "data": {
            "text/plain": [
              "       h14_id  h14_ind  h14_sn  h14_merkey  h_new  h14_cobf   p14_wsc  \\\n",
              "0         2.0      1.0     1.0     20101.0    0.0       NaN  0.291589   \n",
              "1         3.0      1.0     1.0     30101.0    0.0       NaN  0.419753   \n",
              "2         4.0      1.0     1.0     40101.0    0.0       NaN  0.265263   \n",
              "3         6.0      1.0     1.0     60101.0    0.0       NaN  0.494906   \n",
              "4         6.0      1.0     1.0     60101.0    0.0       NaN  1.017935   \n",
              "...       ...      ...     ...         ...    ...       ...       ...   \n",
              "14413  9800.0      7.0     1.0  98000701.0    1.0       NaN       NaN   \n",
              "14414  9800.0      7.0     1.0  98000701.0    1.0       NaN       NaN   \n",
              "14415  9800.0      7.0     1.0  98000701.0    1.0       NaN       NaN   \n",
              "14416  9800.0      7.0     1.0  98000701.0    1.0       NaN       NaN   \n",
              "14417  9800.0      7.0     1.0  98000701.0    1.0       NaN       NaN   \n",
              "\n",
              "        p14_wsl      p14_wgc      p14_wgl  ...  wc14_64  wc14_65  wc14_5aq4  \\\n",
              "0      0.291589  1307.764781  1307.764781  ...      NaN                 NaN   \n",
              "1      0.419753  1882.570960  1882.570960  ...      NaN                 NaN   \n",
              "2      0.265980  1189.691668  1192.908537  ...      NaN                 NaN   \n",
              "3      0.495941  2219.630833  2224.273816  ...      1.0        .        2.0   \n",
              "4      1.017935  4565.389177  4565.389177  ...      1.0        .        1.0   \n",
              "...         ...          ...          ...  ...      ...      ...        ...   \n",
              "14413       NaN          NaN          NaN  ...      NaN                 NaN   \n",
              "14414       NaN          NaN          NaN  ...      NaN                 NaN   \n",
              "14415       NaN          NaN          NaN  ...      NaN                 NaN   \n",
              "14416       NaN          NaN          NaN  ...      5.0        .        4.0   \n",
              "14417       NaN          NaN          NaN  ...      NaN                 NaN   \n",
              "\n",
              "       wc14_5aq5  wc14_5aq6  h14_pers_income1  h14_pers_income2  \\\n",
              "0            NaN        NaN               NaN               NaN   \n",
              "1            NaN        NaN               NaN               NaN   \n",
              "2            NaN        NaN               NaN            1284.0   \n",
              "3            4.0        4.0            2304.0               NaN   \n",
              "4            5.0        2.0               NaN               NaN   \n",
              "...          ...        ...               ...               ...   \n",
              "14413        NaN        NaN               NaN               NaN   \n",
              "14414        NaN        NaN               NaN               NaN   \n",
              "14415        NaN        NaN               NaN             208.0   \n",
              "14416        3.0        3.0               NaN            1200.0   \n",
              "14417        NaN        NaN               NaN               NaN   \n",
              "\n",
              "       h14_pers_income3  h14_pers_income4  h14_pers_income5  \n",
              "0                   NaN               0.0               NaN  \n",
              "1                   NaN               0.0               NaN  \n",
              "2                   NaN               0.0               NaN  \n",
              "3                1800.0               0.0               NaN  \n",
              "4                   NaN               0.0               NaN  \n",
              "...                 ...               ...               ...  \n",
              "14413               NaN               0.0               NaN  \n",
              "14414               NaN               0.0               NaN  \n",
              "14415               NaN               0.0               NaN  \n",
              "14416               NaN               0.0               NaN  \n",
              "14417               NaN               0.0               NaN  \n",
              "\n",
              "[14418 rows x 830 columns]"
            ],
            "text/html": [
              "\n",
              "  <div id=\"df-b1c4e777-f501-41de-8fc6-be768811642a\">\n",
              "    <div class=\"colab-df-container\">\n",
              "      <div>\n",
              "<style scoped>\n",
              "    .dataframe tbody tr th:only-of-type {\n",
              "        vertical-align: middle;\n",
              "    }\n",
              "\n",
              "    .dataframe tbody tr th {\n",
              "        vertical-align: top;\n",
              "    }\n",
              "\n",
              "    .dataframe thead th {\n",
              "        text-align: right;\n",
              "    }\n",
              "</style>\n",
              "<table border=\"1\" class=\"dataframe\">\n",
              "  <thead>\n",
              "    <tr style=\"text-align: right;\">\n",
              "      <th></th>\n",
              "      <th>h14_id</th>\n",
              "      <th>h14_ind</th>\n",
              "      <th>h14_sn</th>\n",
              "      <th>h14_merkey</th>\n",
              "      <th>h_new</th>\n",
              "      <th>h14_cobf</th>\n",
              "      <th>p14_wsc</th>\n",
              "      <th>p14_wsl</th>\n",
              "      <th>p14_wgc</th>\n",
              "      <th>p14_wgl</th>\n",
              "      <th>...</th>\n",
              "      <th>wc14_64</th>\n",
              "      <th>wc14_65</th>\n",
              "      <th>wc14_5aq4</th>\n",
              "      <th>wc14_5aq5</th>\n",
              "      <th>wc14_5aq6</th>\n",
              "      <th>h14_pers_income1</th>\n",
              "      <th>h14_pers_income2</th>\n",
              "      <th>h14_pers_income3</th>\n",
              "      <th>h14_pers_income4</th>\n",
              "      <th>h14_pers_income5</th>\n",
              "    </tr>\n",
              "  </thead>\n",
              "  <tbody>\n",
              "    <tr>\n",
              "      <th>0</th>\n",
              "      <td>2.0</td>\n",
              "      <td>1.0</td>\n",
              "      <td>1.0</td>\n",
              "      <td>20101.0</td>\n",
              "      <td>0.0</td>\n",
              "      <td>NaN</td>\n",
              "      <td>0.291589</td>\n",
              "      <td>0.291589</td>\n",
              "      <td>1307.764781</td>\n",
              "      <td>1307.764781</td>\n",
              "      <td>...</td>\n",
              "      <td>NaN</td>\n",
              "      <td></td>\n",
              "      <td>NaN</td>\n",
              "      <td>NaN</td>\n",
              "      <td>NaN</td>\n",
              "      <td>NaN</td>\n",
              "      <td>NaN</td>\n",
              "      <td>NaN</td>\n",
              "      <td>0.0</td>\n",
              "      <td>NaN</td>\n",
              "    </tr>\n",
              "    <tr>\n",
              "      <th>1</th>\n",
              "      <td>3.0</td>\n",
              "      <td>1.0</td>\n",
              "      <td>1.0</td>\n",
              "      <td>30101.0</td>\n",
              "      <td>0.0</td>\n",
              "      <td>NaN</td>\n",
              "      <td>0.419753</td>\n",
              "      <td>0.419753</td>\n",
              "      <td>1882.570960</td>\n",
              "      <td>1882.570960</td>\n",
              "      <td>...</td>\n",
              "      <td>NaN</td>\n",
              "      <td></td>\n",
              "      <td>NaN</td>\n",
              "      <td>NaN</td>\n",
              "      <td>NaN</td>\n",
              "      <td>NaN</td>\n",
              "      <td>NaN</td>\n",
              "      <td>NaN</td>\n",
              "      <td>0.0</td>\n",
              "      <td>NaN</td>\n",
              "    </tr>\n",
              "    <tr>\n",
              "      <th>2</th>\n",
              "      <td>4.0</td>\n",
              "      <td>1.0</td>\n",
              "      <td>1.0</td>\n",
              "      <td>40101.0</td>\n",
              "      <td>0.0</td>\n",
              "      <td>NaN</td>\n",
              "      <td>0.265263</td>\n",
              "      <td>0.265980</td>\n",
              "      <td>1189.691668</td>\n",
              "      <td>1192.908537</td>\n",
              "      <td>...</td>\n",
              "      <td>NaN</td>\n",
              "      <td></td>\n",
              "      <td>NaN</td>\n",
              "      <td>NaN</td>\n",
              "      <td>NaN</td>\n",
              "      <td>NaN</td>\n",
              "      <td>1284.0</td>\n",
              "      <td>NaN</td>\n",
              "      <td>0.0</td>\n",
              "      <td>NaN</td>\n",
              "    </tr>\n",
              "    <tr>\n",
              "      <th>3</th>\n",
              "      <td>6.0</td>\n",
              "      <td>1.0</td>\n",
              "      <td>1.0</td>\n",
              "      <td>60101.0</td>\n",
              "      <td>0.0</td>\n",
              "      <td>NaN</td>\n",
              "      <td>0.494906</td>\n",
              "      <td>0.495941</td>\n",
              "      <td>2219.630833</td>\n",
              "      <td>2224.273816</td>\n",
              "      <td>...</td>\n",
              "      <td>1.0</td>\n",
              "      <td>.</td>\n",
              "      <td>2.0</td>\n",
              "      <td>4.0</td>\n",
              "      <td>4.0</td>\n",
              "      <td>2304.0</td>\n",
              "      <td>NaN</td>\n",
              "      <td>1800.0</td>\n",
              "      <td>0.0</td>\n",
              "      <td>NaN</td>\n",
              "    </tr>\n",
              "    <tr>\n",
              "      <th>4</th>\n",
              "      <td>6.0</td>\n",
              "      <td>1.0</td>\n",
              "      <td>1.0</td>\n",
              "      <td>60101.0</td>\n",
              "      <td>0.0</td>\n",
              "      <td>NaN</td>\n",
              "      <td>1.017935</td>\n",
              "      <td>1.017935</td>\n",
              "      <td>4565.389177</td>\n",
              "      <td>4565.389177</td>\n",
              "      <td>...</td>\n",
              "      <td>1.0</td>\n",
              "      <td>.</td>\n",
              "      <td>1.0</td>\n",
              "      <td>5.0</td>\n",
              "      <td>2.0</td>\n",
              "      <td>NaN</td>\n",
              "      <td>NaN</td>\n",
              "      <td>NaN</td>\n",
              "      <td>0.0</td>\n",
              "      <td>NaN</td>\n",
              "    </tr>\n",
              "    <tr>\n",
              "      <th>...</th>\n",
              "      <td>...</td>\n",
              "      <td>...</td>\n",
              "      <td>...</td>\n",
              "      <td>...</td>\n",
              "      <td>...</td>\n",
              "      <td>...</td>\n",
              "      <td>...</td>\n",
              "      <td>...</td>\n",
              "      <td>...</td>\n",
              "      <td>...</td>\n",
              "      <td>...</td>\n",
              "      <td>...</td>\n",
              "      <td>...</td>\n",
              "      <td>...</td>\n",
              "      <td>...</td>\n",
              "      <td>...</td>\n",
              "      <td>...</td>\n",
              "      <td>...</td>\n",
              "      <td>...</td>\n",
              "      <td>...</td>\n",
              "      <td>...</td>\n",
              "    </tr>\n",
              "    <tr>\n",
              "      <th>14413</th>\n",
              "      <td>9800.0</td>\n",
              "      <td>7.0</td>\n",
              "      <td>1.0</td>\n",
              "      <td>98000701.0</td>\n",
              "      <td>1.0</td>\n",
              "      <td>NaN</td>\n",
              "      <td>NaN</td>\n",
              "      <td>NaN</td>\n",
              "      <td>NaN</td>\n",
              "      <td>NaN</td>\n",
              "      <td>...</td>\n",
              "      <td>NaN</td>\n",
              "      <td></td>\n",
              "      <td>NaN</td>\n",
              "      <td>NaN</td>\n",
              "      <td>NaN</td>\n",
              "      <td>NaN</td>\n",
              "      <td>NaN</td>\n",
              "      <td>NaN</td>\n",
              "      <td>0.0</td>\n",
              "      <td>NaN</td>\n",
              "    </tr>\n",
              "    <tr>\n",
              "      <th>14414</th>\n",
              "      <td>9800.0</td>\n",
              "      <td>7.0</td>\n",
              "      <td>1.0</td>\n",
              "      <td>98000701.0</td>\n",
              "      <td>1.0</td>\n",
              "      <td>NaN</td>\n",
              "      <td>NaN</td>\n",
              "      <td>NaN</td>\n",
              "      <td>NaN</td>\n",
              "      <td>NaN</td>\n",
              "      <td>...</td>\n",
              "      <td>NaN</td>\n",
              "      <td></td>\n",
              "      <td>NaN</td>\n",
              "      <td>NaN</td>\n",
              "      <td>NaN</td>\n",
              "      <td>NaN</td>\n",
              "      <td>NaN</td>\n",
              "      <td>NaN</td>\n",
              "      <td>0.0</td>\n",
              "      <td>NaN</td>\n",
              "    </tr>\n",
              "    <tr>\n",
              "      <th>14415</th>\n",
              "      <td>9800.0</td>\n",
              "      <td>7.0</td>\n",
              "      <td>1.0</td>\n",
              "      <td>98000701.0</td>\n",
              "      <td>1.0</td>\n",
              "      <td>NaN</td>\n",
              "      <td>NaN</td>\n",
              "      <td>NaN</td>\n",
              "      <td>NaN</td>\n",
              "      <td>NaN</td>\n",
              "      <td>...</td>\n",
              "      <td>NaN</td>\n",
              "      <td></td>\n",
              "      <td>NaN</td>\n",
              "      <td>NaN</td>\n",
              "      <td>NaN</td>\n",
              "      <td>NaN</td>\n",
              "      <td>208.0</td>\n",
              "      <td>NaN</td>\n",
              "      <td>0.0</td>\n",
              "      <td>NaN</td>\n",
              "    </tr>\n",
              "    <tr>\n",
              "      <th>14416</th>\n",
              "      <td>9800.0</td>\n",
              "      <td>7.0</td>\n",
              "      <td>1.0</td>\n",
              "      <td>98000701.0</td>\n",
              "      <td>1.0</td>\n",
              "      <td>NaN</td>\n",
              "      <td>NaN</td>\n",
              "      <td>NaN</td>\n",
              "      <td>NaN</td>\n",
              "      <td>NaN</td>\n",
              "      <td>...</td>\n",
              "      <td>5.0</td>\n",
              "      <td>.</td>\n",
              "      <td>4.0</td>\n",
              "      <td>3.0</td>\n",
              "      <td>3.0</td>\n",
              "      <td>NaN</td>\n",
              "      <td>1200.0</td>\n",
              "      <td>NaN</td>\n",
              "      <td>0.0</td>\n",
              "      <td>NaN</td>\n",
              "    </tr>\n",
              "    <tr>\n",
              "      <th>14417</th>\n",
              "      <td>9800.0</td>\n",
              "      <td>7.0</td>\n",
              "      <td>1.0</td>\n",
              "      <td>98000701.0</td>\n",
              "      <td>1.0</td>\n",
              "      <td>NaN</td>\n",
              "      <td>NaN</td>\n",
              "      <td>NaN</td>\n",
              "      <td>NaN</td>\n",
              "      <td>NaN</td>\n",
              "      <td>...</td>\n",
              "      <td>NaN</td>\n",
              "      <td></td>\n",
              "      <td>NaN</td>\n",
              "      <td>NaN</td>\n",
              "      <td>NaN</td>\n",
              "      <td>NaN</td>\n",
              "      <td>NaN</td>\n",
              "      <td>NaN</td>\n",
              "      <td>0.0</td>\n",
              "      <td>NaN</td>\n",
              "    </tr>\n",
              "  </tbody>\n",
              "</table>\n",
              "<p>14418 rows × 830 columns</p>\n",
              "</div>\n",
              "      <button class=\"colab-df-convert\" onclick=\"convertToInteractive('df-b1c4e777-f501-41de-8fc6-be768811642a')\"\n",
              "              title=\"Convert this dataframe to an interactive table.\"\n",
              "              style=\"display:none;\">\n",
              "        \n",
              "  <svg xmlns=\"http://www.w3.org/2000/svg\" height=\"24px\"viewBox=\"0 0 24 24\"\n",
              "       width=\"24px\">\n",
              "    <path d=\"M0 0h24v24H0V0z\" fill=\"none\"/>\n",
              "    <path d=\"M18.56 5.44l.94 2.06.94-2.06 2.06-.94-2.06-.94-.94-2.06-.94 2.06-2.06.94zm-11 1L8.5 8.5l.94-2.06 2.06-.94-2.06-.94L8.5 2.5l-.94 2.06-2.06.94zm10 10l.94 2.06.94-2.06 2.06-.94-2.06-.94-.94-2.06-.94 2.06-2.06.94z\"/><path d=\"M17.41 7.96l-1.37-1.37c-.4-.4-.92-.59-1.43-.59-.52 0-1.04.2-1.43.59L10.3 9.45l-7.72 7.72c-.78.78-.78 2.05 0 2.83L4 21.41c.39.39.9.59 1.41.59.51 0 1.02-.2 1.41-.59l7.78-7.78 2.81-2.81c.8-.78.8-2.07 0-2.86zM5.41 20L4 18.59l7.72-7.72 1.47 1.35L5.41 20z\"/>\n",
              "  </svg>\n",
              "      </button>\n",
              "      \n",
              "  <style>\n",
              "    .colab-df-container {\n",
              "      display:flex;\n",
              "      flex-wrap:wrap;\n",
              "      gap: 12px;\n",
              "    }\n",
              "\n",
              "    .colab-df-convert {\n",
              "      background-color: #E8F0FE;\n",
              "      border: none;\n",
              "      border-radius: 50%;\n",
              "      cursor: pointer;\n",
              "      display: none;\n",
              "      fill: #1967D2;\n",
              "      height: 32px;\n",
              "      padding: 0 0 0 0;\n",
              "      width: 32px;\n",
              "    }\n",
              "\n",
              "    .colab-df-convert:hover {\n",
              "      background-color: #E2EBFA;\n",
              "      box-shadow: 0px 1px 2px rgba(60, 64, 67, 0.3), 0px 1px 3px 1px rgba(60, 64, 67, 0.15);\n",
              "      fill: #174EA6;\n",
              "    }\n",
              "\n",
              "    [theme=dark] .colab-df-convert {\n",
              "      background-color: #3B4455;\n",
              "      fill: #D2E3FC;\n",
              "    }\n",
              "\n",
              "    [theme=dark] .colab-df-convert:hover {\n",
              "      background-color: #434B5C;\n",
              "      box-shadow: 0px 1px 3px 1px rgba(0, 0, 0, 0.15);\n",
              "      filter: drop-shadow(0px 1px 2px rgba(0, 0, 0, 0.3));\n",
              "      fill: #FFFFFF;\n",
              "    }\n",
              "  </style>\n",
              "\n",
              "      <script>\n",
              "        const buttonEl =\n",
              "          document.querySelector('#df-b1c4e777-f501-41de-8fc6-be768811642a button.colab-df-convert');\n",
              "        buttonEl.style.display =\n",
              "          google.colab.kernel.accessAllowed ? 'block' : 'none';\n",
              "\n",
              "        async function convertToInteractive(key) {\n",
              "          const element = document.querySelector('#df-b1c4e777-f501-41de-8fc6-be768811642a');\n",
              "          const dataTable =\n",
              "            await google.colab.kernel.invokeFunction('convertToInteractive',\n",
              "                                                     [key], {});\n",
              "          if (!dataTable) return;\n",
              "\n",
              "          const docLinkHtml = 'Like what you see? Visit the ' +\n",
              "            '<a target=\"_blank\" href=https://colab.research.google.com/notebooks/data_table.ipynb>data table notebook</a>'\n",
              "            + ' to learn more about interactive tables.';\n",
              "          element.innerHTML = '';\n",
              "          dataTable['output_type'] = 'display_data';\n",
              "          await google.colab.output.renderOutput(dataTable, element);\n",
              "          const docLink = document.createElement('div');\n",
              "          docLink.innerHTML = docLinkHtml;\n",
              "          element.appendChild(docLink);\n",
              "        }\n",
              "      </script>\n",
              "    </div>\n",
              "  </div>\n",
              "  "
            ]
          },
          "metadata": {},
          "execution_count": 4
        }
      ],
      "source": [
        "welfare             # 앞부분, 뒷부분 출력"
      ]
    },
    {
      "cell_type": "code",
      "execution_count": null,
      "id": "bc164146-4793-458d-9882-8da8190cf68f",
      "metadata": {
        "eval": false,
        "colab": {
          "base_uri": "https://localhost:8080/"
        },
        "id": "bc164146-4793-458d-9882-8da8190cf68f",
        "outputId": "7d6d59f8-1a48-48d8-97b7-f00079756afc"
      },
      "outputs": [
        {
          "output_type": "execute_result",
          "data": {
            "text/plain": [
              "(14418, 830)"
            ]
          },
          "metadata": {},
          "execution_count": 5
        }
      ],
      "source": [
        "welfare.shape       # 행, 열 개수 출력"
      ]
    },
    {
      "cell_type": "code",
      "execution_count": null,
      "id": "872665e6-1dca-4339-8309-ef7c5ff423e9",
      "metadata": {
        "eval": false,
        "colab": {
          "base_uri": "https://localhost:8080/"
        },
        "id": "872665e6-1dca-4339-8309-ef7c5ff423e9",
        "outputId": "0fff05d8-b418-4931-d3ce-92990bbb5e77"
      },
      "outputs": [
        {
          "output_type": "stream",
          "name": "stdout",
          "text": [
            "<class 'pandas.core.frame.DataFrame'>\n",
            "RangeIndex: 14418 entries, 0 to 14417\n",
            "Columns: 830 entries, h14_id to h14_pers_income5\n",
            "dtypes: float64(826), object(4)\n",
            "memory usage: 91.3+ MB\n"
          ]
        }
      ],
      "source": [
        "welfare.info()      # 변수 속성 출력"
      ]
    },
    {
      "cell_type": "code",
      "execution_count": null,
      "id": "d382ce64-310b-4910-84a9-41af3c710dad",
      "metadata": {
        "eval": false,
        "colab": {
          "base_uri": "https://localhost:8080/",
          "height": 393
        },
        "id": "d382ce64-310b-4910-84a9-41af3c710dad",
        "outputId": "1bdc4fc9-2822-4f86-c606-a55c31b42fd6"
      },
      "outputs": [
        {
          "output_type": "execute_result",
          "data": {
            "text/plain": [
              "             h14_id       h14_ind        h14_sn    h14_merkey         h_new  \\\n",
              "count  14418.000000  14418.000000  14418.000000  1.441800e+04  14418.000000   \n",
              "mean    4672.108406      3.121723      1.004855  4.672140e+07      0.201484   \n",
              "std     2792.998128      3.297963      0.143205  2.793014e+07      0.401123   \n",
              "min        2.000000      1.000000      1.000000  2.010100e+04      0.000000   \n",
              "25%     2356.000000      1.000000      1.000000  2.356030e+07      0.000000   \n",
              "50%     4535.000000      1.000000      1.000000  4.535010e+07      0.000000   \n",
              "75%     6616.000000      7.000000      1.000000  6.616010e+07      0.000000   \n",
              "max     9800.000000     14.000000      9.000000  9.800070e+07      1.000000   \n",
              "\n",
              "         h14_cobf       p14_wsc       p14_wsl       p14_wgc       p14_wgl  \\\n",
              "count  121.000000  11513.000000  11513.000000  11513.000000  11513.000000   \n",
              "mean     2.256198      1.000000      1.000000   4484.952219   4484.952541   \n",
              "std      1.675952      0.906021      1.016782   4063.459773   4560.218659   \n",
              "min      1.000000      0.001998      0.000000      8.960093      0.000000   \n",
              "25%      1.000000      0.341814      0.269286   1533.021553   1207.736094   \n",
              "50%      2.000000      0.726304      0.704045   3257.436901   3157.609630   \n",
              "75%      2.000000      1.366071      1.390045   6126.762919   6234.287538   \n",
              "max      7.000000      4.727006      5.790039  21200.393903  25968.049029   \n",
              "\n",
              "       ...      wc14_63      wc14_64    wc14_5aq4    wc14_5aq5    wc14_5aq6  \\\n",
              "count  ...  2027.000000  2027.000000  2027.000000  2027.000000  2027.000000   \n",
              "mean   ...     3.211643     3.743957     3.513567     4.100641     3.233350   \n",
              "std    ...     2.174768     3.138629     1.045929     0.937712     1.289456   \n",
              "min    ...     1.000000     1.000000     1.000000     1.000000     1.000000   \n",
              "25%    ...     1.000000     2.000000     3.000000     4.000000     2.000000   \n",
              "50%    ...     3.000000     3.000000     4.000000     4.000000     3.000000   \n",
              "75%    ...     5.000000     5.000000     4.000000     5.000000     4.000000   \n",
              "max    ...     9.000000    99.000000     9.000000     9.000000     9.000000   \n",
              "\n",
              "       h14_pers_income1  h14_pers_income2  h14_pers_income3  h14_pers_income4  \\\n",
              "count       2659.000000       3331.000000        989.000000      14418.000000   \n",
              "mean        4141.380594       1389.440408       3457.835187          2.038702   \n",
              "std         2583.755449       1211.910836       6619.516319         32.965477   \n",
              "min            0.000000          0.000000     -47000.000000          0.000000   \n",
              "25%         2448.000000        391.500000       1000.000000          0.000000   \n",
              "50%         3540.000000       1116.000000       2498.000000          0.000000   \n",
              "75%         5378.500000       2040.000000       4687.000000          0.000000   \n",
              "max        22700.000000      11500.000000     170000.000000       3000.000000   \n",
              "\n",
              "       h14_pers_income5  \n",
              "count        715.000000  \n",
              "mean        1183.292308  \n",
              "std         2147.418274  \n",
              "min       -10600.000000  \n",
              "25%          206.000000  \n",
              "50%          530.000000  \n",
              "75%         1295.000000  \n",
              "max        22644.000000  \n",
              "\n",
              "[8 rows x 826 columns]"
            ],
            "text/html": [
              "\n",
              "  <div id=\"df-0b55d6d7-5f87-4162-9170-e0e646e644ec\">\n",
              "    <div class=\"colab-df-container\">\n",
              "      <div>\n",
              "<style scoped>\n",
              "    .dataframe tbody tr th:only-of-type {\n",
              "        vertical-align: middle;\n",
              "    }\n",
              "\n",
              "    .dataframe tbody tr th {\n",
              "        vertical-align: top;\n",
              "    }\n",
              "\n",
              "    .dataframe thead th {\n",
              "        text-align: right;\n",
              "    }\n",
              "</style>\n",
              "<table border=\"1\" class=\"dataframe\">\n",
              "  <thead>\n",
              "    <tr style=\"text-align: right;\">\n",
              "      <th></th>\n",
              "      <th>h14_id</th>\n",
              "      <th>h14_ind</th>\n",
              "      <th>h14_sn</th>\n",
              "      <th>h14_merkey</th>\n",
              "      <th>h_new</th>\n",
              "      <th>h14_cobf</th>\n",
              "      <th>p14_wsc</th>\n",
              "      <th>p14_wsl</th>\n",
              "      <th>p14_wgc</th>\n",
              "      <th>p14_wgl</th>\n",
              "      <th>...</th>\n",
              "      <th>wc14_63</th>\n",
              "      <th>wc14_64</th>\n",
              "      <th>wc14_5aq4</th>\n",
              "      <th>wc14_5aq5</th>\n",
              "      <th>wc14_5aq6</th>\n",
              "      <th>h14_pers_income1</th>\n",
              "      <th>h14_pers_income2</th>\n",
              "      <th>h14_pers_income3</th>\n",
              "      <th>h14_pers_income4</th>\n",
              "      <th>h14_pers_income5</th>\n",
              "    </tr>\n",
              "  </thead>\n",
              "  <tbody>\n",
              "    <tr>\n",
              "      <th>count</th>\n",
              "      <td>14418.000000</td>\n",
              "      <td>14418.000000</td>\n",
              "      <td>14418.000000</td>\n",
              "      <td>1.441800e+04</td>\n",
              "      <td>14418.000000</td>\n",
              "      <td>121.000000</td>\n",
              "      <td>11513.000000</td>\n",
              "      <td>11513.000000</td>\n",
              "      <td>11513.000000</td>\n",
              "      <td>11513.000000</td>\n",
              "      <td>...</td>\n",
              "      <td>2027.000000</td>\n",
              "      <td>2027.000000</td>\n",
              "      <td>2027.000000</td>\n",
              "      <td>2027.000000</td>\n",
              "      <td>2027.000000</td>\n",
              "      <td>2659.000000</td>\n",
              "      <td>3331.000000</td>\n",
              "      <td>989.000000</td>\n",
              "      <td>14418.000000</td>\n",
              "      <td>715.000000</td>\n",
              "    </tr>\n",
              "    <tr>\n",
              "      <th>mean</th>\n",
              "      <td>4672.108406</td>\n",
              "      <td>3.121723</td>\n",
              "      <td>1.004855</td>\n",
              "      <td>4.672140e+07</td>\n",
              "      <td>0.201484</td>\n",
              "      <td>2.256198</td>\n",
              "      <td>1.000000</td>\n",
              "      <td>1.000000</td>\n",
              "      <td>4484.952219</td>\n",
              "      <td>4484.952541</td>\n",
              "      <td>...</td>\n",
              "      <td>3.211643</td>\n",
              "      <td>3.743957</td>\n",
              "      <td>3.513567</td>\n",
              "      <td>4.100641</td>\n",
              "      <td>3.233350</td>\n",
              "      <td>4141.380594</td>\n",
              "      <td>1389.440408</td>\n",
              "      <td>3457.835187</td>\n",
              "      <td>2.038702</td>\n",
              "      <td>1183.292308</td>\n",
              "    </tr>\n",
              "    <tr>\n",
              "      <th>std</th>\n",
              "      <td>2792.998128</td>\n",
              "      <td>3.297963</td>\n",
              "      <td>0.143205</td>\n",
              "      <td>2.793014e+07</td>\n",
              "      <td>0.401123</td>\n",
              "      <td>1.675952</td>\n",
              "      <td>0.906021</td>\n",
              "      <td>1.016782</td>\n",
              "      <td>4063.459773</td>\n",
              "      <td>4560.218659</td>\n",
              "      <td>...</td>\n",
              "      <td>2.174768</td>\n",
              "      <td>3.138629</td>\n",
              "      <td>1.045929</td>\n",
              "      <td>0.937712</td>\n",
              "      <td>1.289456</td>\n",
              "      <td>2583.755449</td>\n",
              "      <td>1211.910836</td>\n",
              "      <td>6619.516319</td>\n",
              "      <td>32.965477</td>\n",
              "      <td>2147.418274</td>\n",
              "    </tr>\n",
              "    <tr>\n",
              "      <th>min</th>\n",
              "      <td>2.000000</td>\n",
              "      <td>1.000000</td>\n",
              "      <td>1.000000</td>\n",
              "      <td>2.010100e+04</td>\n",
              "      <td>0.000000</td>\n",
              "      <td>1.000000</td>\n",
              "      <td>0.001998</td>\n",
              "      <td>0.000000</td>\n",
              "      <td>8.960093</td>\n",
              "      <td>0.000000</td>\n",
              "      <td>...</td>\n",
              "      <td>1.000000</td>\n",
              "      <td>1.000000</td>\n",
              "      <td>1.000000</td>\n",
              "      <td>1.000000</td>\n",
              "      <td>1.000000</td>\n",
              "      <td>0.000000</td>\n",
              "      <td>0.000000</td>\n",
              "      <td>-47000.000000</td>\n",
              "      <td>0.000000</td>\n",
              "      <td>-10600.000000</td>\n",
              "    </tr>\n",
              "    <tr>\n",
              "      <th>25%</th>\n",
              "      <td>2356.000000</td>\n",
              "      <td>1.000000</td>\n",
              "      <td>1.000000</td>\n",
              "      <td>2.356030e+07</td>\n",
              "      <td>0.000000</td>\n",
              "      <td>1.000000</td>\n",
              "      <td>0.341814</td>\n",
              "      <td>0.269286</td>\n",
              "      <td>1533.021553</td>\n",
              "      <td>1207.736094</td>\n",
              "      <td>...</td>\n",
              "      <td>1.000000</td>\n",
              "      <td>2.000000</td>\n",
              "      <td>3.000000</td>\n",
              "      <td>4.000000</td>\n",
              "      <td>2.000000</td>\n",
              "      <td>2448.000000</td>\n",
              "      <td>391.500000</td>\n",
              "      <td>1000.000000</td>\n",
              "      <td>0.000000</td>\n",
              "      <td>206.000000</td>\n",
              "    </tr>\n",
              "    <tr>\n",
              "      <th>50%</th>\n",
              "      <td>4535.000000</td>\n",
              "      <td>1.000000</td>\n",
              "      <td>1.000000</td>\n",
              "      <td>4.535010e+07</td>\n",
              "      <td>0.000000</td>\n",
              "      <td>2.000000</td>\n",
              "      <td>0.726304</td>\n",
              "      <td>0.704045</td>\n",
              "      <td>3257.436901</td>\n",
              "      <td>3157.609630</td>\n",
              "      <td>...</td>\n",
              "      <td>3.000000</td>\n",
              "      <td>3.000000</td>\n",
              "      <td>4.000000</td>\n",
              "      <td>4.000000</td>\n",
              "      <td>3.000000</td>\n",
              "      <td>3540.000000</td>\n",
              "      <td>1116.000000</td>\n",
              "      <td>2498.000000</td>\n",
              "      <td>0.000000</td>\n",
              "      <td>530.000000</td>\n",
              "    </tr>\n",
              "    <tr>\n",
              "      <th>75%</th>\n",
              "      <td>6616.000000</td>\n",
              "      <td>7.000000</td>\n",
              "      <td>1.000000</td>\n",
              "      <td>6.616010e+07</td>\n",
              "      <td>0.000000</td>\n",
              "      <td>2.000000</td>\n",
              "      <td>1.366071</td>\n",
              "      <td>1.390045</td>\n",
              "      <td>6126.762919</td>\n",
              "      <td>6234.287538</td>\n",
              "      <td>...</td>\n",
              "      <td>5.000000</td>\n",
              "      <td>5.000000</td>\n",
              "      <td>4.000000</td>\n",
              "      <td>5.000000</td>\n",
              "      <td>4.000000</td>\n",
              "      <td>5378.500000</td>\n",
              "      <td>2040.000000</td>\n",
              "      <td>4687.000000</td>\n",
              "      <td>0.000000</td>\n",
              "      <td>1295.000000</td>\n",
              "    </tr>\n",
              "    <tr>\n",
              "      <th>max</th>\n",
              "      <td>9800.000000</td>\n",
              "      <td>14.000000</td>\n",
              "      <td>9.000000</td>\n",
              "      <td>9.800070e+07</td>\n",
              "      <td>1.000000</td>\n",
              "      <td>7.000000</td>\n",
              "      <td>4.727006</td>\n",
              "      <td>5.790039</td>\n",
              "      <td>21200.393903</td>\n",
              "      <td>25968.049029</td>\n",
              "      <td>...</td>\n",
              "      <td>9.000000</td>\n",
              "      <td>99.000000</td>\n",
              "      <td>9.000000</td>\n",
              "      <td>9.000000</td>\n",
              "      <td>9.000000</td>\n",
              "      <td>22700.000000</td>\n",
              "      <td>11500.000000</td>\n",
              "      <td>170000.000000</td>\n",
              "      <td>3000.000000</td>\n",
              "      <td>22644.000000</td>\n",
              "    </tr>\n",
              "  </tbody>\n",
              "</table>\n",
              "<p>8 rows × 826 columns</p>\n",
              "</div>\n",
              "      <button class=\"colab-df-convert\" onclick=\"convertToInteractive('df-0b55d6d7-5f87-4162-9170-e0e646e644ec')\"\n",
              "              title=\"Convert this dataframe to an interactive table.\"\n",
              "              style=\"display:none;\">\n",
              "        \n",
              "  <svg xmlns=\"http://www.w3.org/2000/svg\" height=\"24px\"viewBox=\"0 0 24 24\"\n",
              "       width=\"24px\">\n",
              "    <path d=\"M0 0h24v24H0V0z\" fill=\"none\"/>\n",
              "    <path d=\"M18.56 5.44l.94 2.06.94-2.06 2.06-.94-2.06-.94-.94-2.06-.94 2.06-2.06.94zm-11 1L8.5 8.5l.94-2.06 2.06-.94-2.06-.94L8.5 2.5l-.94 2.06-2.06.94zm10 10l.94 2.06.94-2.06 2.06-.94-2.06-.94-.94-2.06-.94 2.06-2.06.94z\"/><path d=\"M17.41 7.96l-1.37-1.37c-.4-.4-.92-.59-1.43-.59-.52 0-1.04.2-1.43.59L10.3 9.45l-7.72 7.72c-.78.78-.78 2.05 0 2.83L4 21.41c.39.39.9.59 1.41.59.51 0 1.02-.2 1.41-.59l7.78-7.78 2.81-2.81c.8-.78.8-2.07 0-2.86zM5.41 20L4 18.59l7.72-7.72 1.47 1.35L5.41 20z\"/>\n",
              "  </svg>\n",
              "      </button>\n",
              "      \n",
              "  <style>\n",
              "    .colab-df-container {\n",
              "      display:flex;\n",
              "      flex-wrap:wrap;\n",
              "      gap: 12px;\n",
              "    }\n",
              "\n",
              "    .colab-df-convert {\n",
              "      background-color: #E8F0FE;\n",
              "      border: none;\n",
              "      border-radius: 50%;\n",
              "      cursor: pointer;\n",
              "      display: none;\n",
              "      fill: #1967D2;\n",
              "      height: 32px;\n",
              "      padding: 0 0 0 0;\n",
              "      width: 32px;\n",
              "    }\n",
              "\n",
              "    .colab-df-convert:hover {\n",
              "      background-color: #E2EBFA;\n",
              "      box-shadow: 0px 1px 2px rgba(60, 64, 67, 0.3), 0px 1px 3px 1px rgba(60, 64, 67, 0.15);\n",
              "      fill: #174EA6;\n",
              "    }\n",
              "\n",
              "    [theme=dark] .colab-df-convert {\n",
              "      background-color: #3B4455;\n",
              "      fill: #D2E3FC;\n",
              "    }\n",
              "\n",
              "    [theme=dark] .colab-df-convert:hover {\n",
              "      background-color: #434B5C;\n",
              "      box-shadow: 0px 1px 3px 1px rgba(0, 0, 0, 0.15);\n",
              "      filter: drop-shadow(0px 1px 2px rgba(0, 0, 0, 0.3));\n",
              "      fill: #FFFFFF;\n",
              "    }\n",
              "  </style>\n",
              "\n",
              "      <script>\n",
              "        const buttonEl =\n",
              "          document.querySelector('#df-0b55d6d7-5f87-4162-9170-e0e646e644ec button.colab-df-convert');\n",
              "        buttonEl.style.display =\n",
              "          google.colab.kernel.accessAllowed ? 'block' : 'none';\n",
              "\n",
              "        async function convertToInteractive(key) {\n",
              "          const element = document.querySelector('#df-0b55d6d7-5f87-4162-9170-e0e646e644ec');\n",
              "          const dataTable =\n",
              "            await google.colab.kernel.invokeFunction('convertToInteractive',\n",
              "                                                     [key], {});\n",
              "          if (!dataTable) return;\n",
              "\n",
              "          const docLinkHtml = 'Like what you see? Visit the ' +\n",
              "            '<a target=\"_blank\" href=https://colab.research.google.com/notebooks/data_table.ipynb>data table notebook</a>'\n",
              "            + ' to learn more about interactive tables.';\n",
              "          element.innerHTML = '';\n",
              "          dataTable['output_type'] = 'display_data';\n",
              "          await google.colab.output.renderOutput(dataTable, element);\n",
              "          const docLink = document.createElement('div');\n",
              "          docLink.innerHTML = docLinkHtml;\n",
              "          element.appendChild(docLink);\n",
              "        }\n",
              "      </script>\n",
              "    </div>\n",
              "  </div>\n",
              "  "
            ]
          },
          "metadata": {},
          "execution_count": 7
        }
      ],
      "source": [
        "welfare.describe()  # 요약 통계량"
      ]
    },
    {
      "cell_type": "markdown",
      "id": "3c72cb13",
      "metadata": {
        "id": "3c72cb13"
      },
      "source": [
        "#### 4. 변수명 바꾸기"
      ]
    },
    {
      "cell_type": "code",
      "execution_count": null,
      "id": "1b17969d",
      "metadata": {
        "id": "1b17969d"
      },
      "outputs": [],
      "source": [
        "### 컬럼 이름 --> 부분적으로 변경 --> df.rename(columns={'old':'new'})\n",
        "\n",
        "welfare = welfare.rename(columns = {'h14_g3'     : 'gender',            #  성별\n",
        "                                    'h14_g4'     : 'birth',          #  태어난 연도\n",
        "                                    'h14_g10'    : 'marriage_type',  #  혼인 상태\n",
        "                                    'h14_g11'    : 'religion',       #  종교 \n",
        "                                    'p1402_8aq1' : 'income',         #  월급 \n",
        "                                    'h14_eco9'   : 'code_job',       #  직업 코드\n",
        "                                    'h14_reg7'   : 'code_region'})   #  지역 코드"
      ]
    },
    {
      "cell_type": "markdown",
      "id": "4973e90e-181a-496c-a1ce-c42419ae51a3",
      "metadata": {
        "id": "4973e90e-181a-496c-a1ce-c42419ae51a3"
      },
      "source": [
        "## 01 성별에 따른 월급 차이 - 성별에 따라 월급이 다를까?"
      ]
    },
    {
      "cell_type": "markdown",
      "id": "ef8df942-a714-4fc5-814d-561ab884c3b1",
      "metadata": {
        "id": "ef8df942-a714-4fc5-814d-561ab884c3b1"
      },
      "source": [
        "### 성별 변수 검토 및 전처리하기"
      ]
    },
    {
      "cell_type": "markdown",
      "id": "788bf87c-cebf-43cc-90de-a118bb7a7f19",
      "metadata": {
        "id": "788bf87c-cebf-43cc-90de-a118bb7a7f19"
      },
      "source": [
        "#### 1. 변수 검토하기"
      ]
    },
    {
      "cell_type": "code",
      "execution_count": null,
      "id": "3a8f8601",
      "metadata": {
        "colab": {
          "base_uri": "https://localhost:8080/"
        },
        "id": "3a8f8601",
        "outputId": "70ec7bc9-fc55-4dd7-d6f6-9296ca41226a"
      },
      "outputs": [
        {
          "output_type": "execute_result",
          "data": {
            "text/plain": [
              "dtype('float64')"
            ]
          },
          "metadata": {},
          "execution_count": 9
        }
      ],
      "source": [
        "# 변수 타입 출력\n",
        "welfare['gender'].dtypes  "
      ]
    },
    {
      "cell_type": "markdown",
      "id": "be0316e4",
      "metadata": {
        "id": "be0316e4"
      },
      "source": [
        "#### 2. 전처리하기"
      ]
    },
    {
      "cell_type": "code",
      "execution_count": null,
      "id": "3412385c",
      "metadata": {
        "colab": {
          "base_uri": "https://localhost:8080/"
        },
        "id": "3412385c",
        "outputId": "f9ccd188-5b8f-48c0-f4fe-5f2d96694da9"
      },
      "outputs": [
        {
          "output_type": "execute_result",
          "data": {
            "text/plain": [
              "0"
            ]
          },
          "metadata": {},
          "execution_count": 10
        }
      ],
      "source": [
        "# 이상치 결측 처리\n",
        "welfare['gender'] = np.where(welfare['gender'] == 9, np.nan, welfare['gender'])\n",
        " \n",
        "# 결측치 확인\n",
        "welfare['gender'].isna().sum()"
      ]
    },
    {
      "cell_type": "code",
      "source": [
        "# 항목별 빈도수 구하기\n",
        "welfare['gender'].value_counts()  "
      ],
      "metadata": {
        "colab": {
          "base_uri": "https://localhost:8080/"
        },
        "id": "2CwKoKvs9rtx",
        "outputId": "1ec194dc-480b-4916-ba1a-d72f0e75b502"
      },
      "id": "2CwKoKvs9rtx",
      "execution_count": null,
      "outputs": [
        {
          "output_type": "execute_result",
          "data": {
            "text/plain": [
              "2.0    7913\n",
              "1.0    6505\n",
              "Name: gender, dtype: int64"
            ]
          },
          "metadata": {},
          "execution_count": 11
        }
      ]
    },
    {
      "cell_type": "code",
      "source": [
        "# gender 컬럼 --> 항목 --> 이름 부여\n",
        "welfare.gender.replace({1.0:'male', 2.0:'female'}, inplace=True)"
      ],
      "metadata": {
        "id": "bnWJnDZR9CUh"
      },
      "id": "bnWJnDZR9CUh",
      "execution_count": null,
      "outputs": []
    },
    {
      "cell_type": "code",
      "source": [
        "# 항목별 빈도수 구하기\n",
        "welfare['gender'].value_counts()"
      ],
      "metadata": {
        "colab": {
          "base_uri": "https://localhost:8080/"
        },
        "id": "riHT72wP9-Fh",
        "outputId": "248d5718-065e-4b74-9c2d-07254da6b65a"
      },
      "id": "riHT72wP9-Fh",
      "execution_count": null,
      "outputs": [
        {
          "output_type": "execute_result",
          "data": {
            "text/plain": [
              "female    7913\n",
              "male      6505\n",
              "Name: gender, dtype: int64"
            ]
          },
          "metadata": {},
          "execution_count": 13
        }
      ]
    },
    {
      "cell_type": "code",
      "execution_count": null,
      "id": "adb786ef-d214-480e-95ce-5e5358384249",
      "metadata": {
        "eval": false,
        "colab": {
          "base_uri": "https://localhost:8080/",
          "height": 449
        },
        "id": "adb786ef-d214-480e-95ce-5e5358384249",
        "outputId": "aa86d262-c070-4a3c-b9e8-f5c85babe2ab"
      },
      "outputs": [
        {
          "output_type": "display_data",
          "data": {
            "text/plain": [
              "<Figure size 640x480 with 1 Axes>"
            ],
            "image/png": "[encoded data removed]"
          },
          "metadata": {}
        }
      ],
      "source": [
        "# 빈도 막대 그래프 만들기\n",
        "sns.countplot(data = welfare, x = 'gender')\n",
        "plt.show()"
      ]
    },
    {
      "cell_type": "markdown",
      "id": "0c1c30c6",
      "metadata": {
        "id": "0c1c30c6"
      },
      "source": [
        "### 월급 변수 검토 및 전처리하기\n",
        "\n",
        "#### 1. 변수 검토하기"
      ]
    },
    {
      "cell_type": "code",
      "execution_count": null,
      "id": "4d16dd00",
      "metadata": {
        "colab": {
          "base_uri": "https://localhost:8080/"
        },
        "id": "4d16dd00",
        "outputId": "f1559f61-d8d5-4f10-aa2b-734a0138733b"
      },
      "outputs": [
        {
          "output_type": "execute_result",
          "data": {
            "text/plain": [
              "dtype('float64')"
            ]
          },
          "metadata": {},
          "execution_count": 15
        }
      ],
      "source": [
        "# 변수 타입 출력\n",
        "welfare['income'].dtypes  "
      ]
    },
    {
      "cell_type": "markdown",
      "source": [
        "#### 2. 전처리하기"
      ],
      "metadata": {
        "id": "MDcl-RYj-dMi"
      },
      "id": "MDcl-RYj-dMi"
    },
    {
      "cell_type": "code",
      "execution_count": null,
      "id": "d5edafa9",
      "metadata": {
        "eval": false,
        "colab": {
          "base_uri": "https://localhost:8080/"
        },
        "id": "d5edafa9",
        "outputId": "0827b17a-04c7-45e4-a924-b1acd7240dbf"
      },
      "outputs": [
        {
          "output_type": "execute_result",
          "data": {
            "text/plain": [
              "9884"
            ]
          },
          "metadata": {},
          "execution_count": 16
        }
      ],
      "source": [
        "# 코드북 --> 누락 데이터 처리\n",
        "welfare['income'] = np.where(welfare['income'] == 9999, np.nan, welfare['income'])\n",
        "\n",
        "# 누락 데이터 확인\n",
        "welfare['income'].isnull().sum()"
      ]
    },
    {
      "cell_type": "code",
      "execution_count": null,
      "id": "3f2999f0",
      "metadata": {
        "colab": {
          "base_uri": "https://localhost:8080/"
        },
        "id": "3f2999f0",
        "outputId": "f64feeaf-ba5f-41a2-b4e2-fb7bb351e7fb"
      },
      "outputs": [
        {
          "output_type": "execute_result",
          "data": {
            "text/plain": [
              "0"
            ]
          },
          "metadata": {},
          "execution_count": 17
        }
      ],
      "source": [
        "### 누락 데이터 제거하기\n",
        "cleaned_income = welfare['income'].dropna()\n",
        "\n",
        "# 결과 확인하기\n",
        "cleaned_income.isnull().sum()"
      ]
    },
    {
      "cell_type": "code",
      "execution_count": null,
      "id": "567a20e5",
      "metadata": {
        "colab": {
          "base_uri": "https://localhost:8080/"
        },
        "id": "567a20e5",
        "outputId": "70bf2484-324d-4806-c42f-99f313cc93af"
      },
      "outputs": [
        {
          "output_type": "execute_result",
          "data": {
            "text/plain": [
              "count    4534.000000\n",
              "mean      268.455007\n",
              "std       198.021206\n",
              "min         0.000000\n",
              "25%       150.000000\n",
              "50%       220.000000\n",
              "75%       345.750000\n",
              "max      1892.000000\n",
              "Name: income, dtype: float64"
            ]
          },
          "metadata": {},
          "execution_count": 18
        }
      ],
      "source": [
        "### 요약 통계량 구하기\n",
        "cleaned_income.describe()  "
      ]
    },
    {
      "cell_type": "code",
      "execution_count": null,
      "id": "3adad7d1",
      "metadata": {
        "eval": false,
        "colab": {
          "base_uri": "https://localhost:8080/",
          "height": 430
        },
        "id": "3adad7d1",
        "outputId": "82d9891e-6e03-4977-c1cd-1e9c7df3984d"
      },
      "outputs": [
        {
          "output_type": "display_data",
          "data": {
            "text/plain": [
              "<Figure size 640x480 with 1 Axes>"
            ],
            "image/png": "[encoded data removed]"
          },
          "metadata": {}
        }
      ],
      "source": [
        "### boxplot --> 이상치 시각화\n",
        "cleaned_income.plot(kind='box')\n",
        "plt.show()"
      ]
    },
    {
      "cell_type": "code",
      "source": [
        "### 이상치 확인하기 - 4분위 수 구하기\n",
        "\n",
        "'''\n",
        "cleaned_income.quantile(q=)\n",
        "'''\n",
        "\n",
        "# 1/4 분위수 구하기\n",
        "q1 = cleaned_income.quantile(q=0.25)\n",
        "print(f'1사분위수 = {q1}')\n",
        "\n",
        "print('-'*80)\n",
        "\n",
        "# 2/4 분위수 구하기\n",
        "q2 = cleaned_income.quantile(q=0.5)\n",
        "print(f'2사분위수 = {q2}')\n",
        "\n",
        "print('-'*80)\n",
        "\n",
        "# 3/4 분위수 구하기\n",
        "q3 = cleaned_income.quantile(q=0.75)\n",
        "print(f'3사분위수 = {q3}')"
      ],
      "metadata": {
        "colab": {
          "base_uri": "https://localhost:8080/"
        },
        "id": "4QYzpxO6Bh6L",
        "outputId": "69561444-d100-430c-a576-2e19cd3dfc1e"
      },
      "id": "4QYzpxO6Bh6L",
      "execution_count": null,
      "outputs": [
        {
          "output_type": "stream",
          "name": "stdout",
          "text": [
            "1사분위수 = 150.0\n",
            "--------------------------------------------------------------------------------\n",
            "2사분위수 = 220.0\n",
            "--------------------------------------------------------------------------------\n",
            "3사분위수 = 345.75\n"
          ]
        }
      ]
    },
    {
      "cell_type": "code",
      "source": [
        "### 이상치 확인하기 - IQR 구하기\n",
        "IQR = q3 - q1\n",
        "\n",
        "print(IQR)"
      ],
      "metadata": {
        "colab": {
          "base_uri": "https://localhost:8080/"
        },
        "id": "iubg9BJLCavc",
        "outputId": "f7a8a7b2-1985-4afb-b874-7e2016bfc967"
      },
      "id": "iubg9BJLCavc",
      "execution_count": null,
      "outputs": [
        {
          "output_type": "stream",
          "name": "stdout",
          "text": [
            "195.75\n"
          ]
        }
      ]
    },
    {
      "cell_type": "code",
      "source": [
        "### 이상치 확인하기 - 정상 범위 데이터의 최소값 / 최대값 구하기\n",
        "\n",
        "'''\n",
        "1. min = q1 - (1.5 * IQR)\n",
        "2. max = q3 + (1.5 * IQR)\n",
        "3, 정상 데이터 : (min, max)\n",
        "'''\n",
        "\n",
        "# 최소값 구하기\n",
        "min = q1 - (1.5 * IQR)\n",
        "print(f'정상 데이터의 최소값 : {min}')\n",
        "\n",
        "print('-'*80)\n",
        "\n",
        "# 최대값 구하기\n",
        "max = q3 + (1.5 * IQR)\n",
        "print(f'정상 데이터의 최대값 : {max}')"
      ],
      "metadata": {
        "colab": {
          "base_uri": "https://localhost:8080/"
        },
        "id": "-kww-k_oCSpN",
        "outputId": "ef74434a-232d-4e13-d200-72c15dde451d"
      },
      "id": "-kww-k_oCSpN",
      "execution_count": null,
      "outputs": [
        {
          "output_type": "stream",
          "name": "stdout",
          "text": [
            "정상 데이터의 최소값 : -143.625\n",
            "--------------------------------------------------------------------------------\n",
            "정상 데이터의 최대값 : 639.375\n"
          ]
        }
      ]
    },
    {
      "cell_type": "code",
      "source": [
        "### 이상치 제거하기 --> boolean 배열 이용\n",
        "income_drop_outlier = cleaned_income[cleaned_income <= 639.375]\n",
        "\n",
        "# 결과 확인하기\n",
        "income_drop_outlier"
      ],
      "metadata": {
        "colab": {
          "base_uri": "https://localhost:8080/"
        },
        "id": "RY-_tXPqCwk0",
        "outputId": "113e8c47-5618-4e9d-f6c6-e4855aadba95"
      },
      "id": "RY-_tXPqCwk0",
      "execution_count": null,
      "outputs": [
        {
          "output_type": "execute_result",
          "data": {
            "text/plain": [
              "2        107.0\n",
              "3        192.0\n",
              "7         27.0\n",
              "8         27.0\n",
              "14       338.0\n",
              "         ...  \n",
              "14401    280.0\n",
              "14402    209.0\n",
              "14405     27.0\n",
              "14410    200.0\n",
              "14416    200.0\n",
              "Name: income, Length: 4273, dtype: float64"
            ]
          },
          "metadata": {},
          "execution_count": 23
        }
      ]
    },
    {
      "cell_type": "code",
      "source": [
        "### boxplot --> 이상치 시각화(2)\n",
        "income_drop_outlier.plot(kind='box')\n",
        "plt.show()"
      ],
      "metadata": {
        "colab": {
          "base_uri": "https://localhost:8080/",
          "height": 430
        },
        "id": "SQOp0r2ABWRB",
        "outputId": "25d85473-d53e-4c7e-9425-7afc83dd986d"
      },
      "id": "SQOp0r2ABWRB",
      "execution_count": null,
      "outputs": [
        {
          "output_type": "display_data",
          "data": {
            "text/plain": [
              "<Figure size 640x480 with 1 Axes>"
            ],
            "image/png": "[encoded data removed]"
          },
          "metadata": {}
        }
      ]
    },
    {
      "cell_type": "code",
      "source": [
        "### 이상치 확인하기(2) - 4분위 수 구하기\n",
        "\n",
        "'''\n",
        "income_drop_outlier.quantile(q=)\n",
        "'''\n",
        "\n",
        "# 1/4 분위수 구하기\n",
        "q1 = income_drop_outlier.quantile(q=0.25)\n",
        "print(f'1사분위수 = {q1}')\n",
        "\n",
        "print('-'*80)\n",
        "\n",
        "# 2/4 분위수 구하기\n",
        "q2 = income_drop_outlier.quantile(q=0.5)\n",
        "print(f'2사분위수 = {q2}')\n",
        "\n",
        "print('-'*80)\n",
        "\n",
        "# 3/4 분위수 구하기\n",
        "q3 = income_drop_outlier.quantile(q=0.75)\n",
        "print(f'3사분위수 = {q3}')"
      ],
      "metadata": {
        "colab": {
          "base_uri": "https://localhost:8080/"
        },
        "id": "fpPIgz03Bdg_",
        "outputId": "9c042e7d-f98f-4826-ba54-90a2d2316fa7"
      },
      "id": "fpPIgz03Bdg_",
      "execution_count": null,
      "outputs": [
        {
          "output_type": "stream",
          "name": "stdout",
          "text": [
            "1사분위수 = 140.0\n",
            "--------------------------------------------------------------------------------\n",
            "2사분위수 = 210.0\n",
            "--------------------------------------------------------------------------------\n",
            "3사분위수 = 314.0\n"
          ]
        }
      ]
    },
    {
      "cell_type": "code",
      "source": [
        "### 이상치 확인하기(2) - IQR 구하기\n",
        "IQR = q3 - q1\n",
        "\n",
        "print(IQR)"
      ],
      "metadata": {
        "colab": {
          "base_uri": "https://localhost:8080/"
        },
        "id": "4CDi7Z9FBobI",
        "outputId": "39c5fad5-78b6-43bf-8302-39b2b31df32f"
      },
      "id": "4CDi7Z9FBobI",
      "execution_count": null,
      "outputs": [
        {
          "output_type": "stream",
          "name": "stdout",
          "text": [
            "174.0\n"
          ]
        }
      ]
    },
    {
      "cell_type": "code",
      "source": [
        "### 이상치 확인하기(2) - 정상 범위 데이터의 최소값 / 최대값 구하기\n",
        "\n",
        "'''\n",
        "1. min = q1 - (1.5 * IQR)\n",
        "2. max = q3 + (1.5 * IQR)\n",
        "3, 정상 데이터 : (min, max)\n",
        "'''\n",
        "\n",
        "# 최소값 구하기\n",
        "min = q1 - (1.5 * IQR)\n",
        "print(f'정상 데이터의 최소값 : {min}')\n",
        "\n",
        "print('-'*80)\n",
        "\n",
        "# 최대값 구하기\n",
        "max = q3 + (1.5 * IQR)\n",
        "print(f'정상 데이터의 최대값 : {max}')"
      ],
      "metadata": {
        "colab": {
          "base_uri": "https://localhost:8080/"
        },
        "id": "2mBE-81aBuLQ",
        "outputId": "3a8e619c-cf94-4d6d-a560-12c2322b458d"
      },
      "id": "2mBE-81aBuLQ",
      "execution_count": null,
      "outputs": [
        {
          "output_type": "stream",
          "name": "stdout",
          "text": [
            "정상 데이터의 최소값 : -121.0\n",
            "--------------------------------------------------------------------------------\n",
            "정상 데이터의 최대값 : 575.0\n"
          ]
        }
      ]
    },
    {
      "cell_type": "code",
      "source": [
        "### 이상치 제거하기(2) --> boolean 배열 이용\n",
        "income_drop_outlier = income_drop_outlier[income_drop_outlier <= 575.0]\n",
        "\n",
        "# 결과 확인하기\n",
        "income_drop_outlier.plot(kind='box')\n",
        "plt.show()"
      ],
      "metadata": {
        "colab": {
          "base_uri": "https://localhost:8080/",
          "height": 433
        },
        "id": "nxdKkZxpB2ko",
        "outputId": "2fe35ce4-8a8d-4efc-a818-321d4460ee98"
      },
      "id": "nxdKkZxpB2ko",
      "execution_count": null,
      "outputs": [
        {
          "output_type": "display_data",
          "data": {
            "text/plain": [
              "<Figure size 640x480 with 1 Axes>"
            ],
            "image/png": "[encoded data removed]"
          },
          "metadata": {}
        }
      ]
    },
    {
      "cell_type": "code",
      "source": [
        "### 이상치 확인하기(3) - 4분위 수 구하기\n",
        "\n",
        "'''\n",
        "income_drop_outlier.quantile(q=)\n",
        "'''\n",
        "\n",
        "# 1/4 분위수 구하기\n",
        "q1 = income_drop_outlier.quantile(q=0.25)\n",
        "print(f'1사분위수 = {q1}')\n",
        "\n",
        "print('-'*80)\n",
        "\n",
        "# 2/4 분위수 구하기\n",
        "q2 = income_drop_outlier.quantile(q=0.5)\n",
        "print(f'2사분위수 = {q2}')\n",
        "\n",
        "print('-'*80)\n",
        "\n",
        "# 3/4 분위수 구하기\n",
        "q3 = income_drop_outlier.quantile(q=0.75)\n",
        "print(f'3사분위수 = {q3}')"
      ],
      "metadata": {
        "colab": {
          "base_uri": "https://localhost:8080/"
        },
        "id": "pZgTbiU8CWvG",
        "outputId": "eff6daab-4040-4952-bc98-3ac1d9708ec7"
      },
      "id": "pZgTbiU8CWvG",
      "execution_count": null,
      "outputs": [
        {
          "output_type": "stream",
          "name": "stdout",
          "text": [
            "1사분위수 = 136.0\n",
            "--------------------------------------------------------------------------------\n",
            "2사분위수 = 208.0\n",
            "--------------------------------------------------------------------------------\n",
            "3사분위수 = 304.0\n"
          ]
        }
      ]
    },
    {
      "cell_type": "code",
      "source": [
        "### 이상치 확인하기(3) - IQR 구하기\n",
        "IQR = q3 - q1\n",
        "\n",
        "print(IQR)"
      ],
      "metadata": {
        "colab": {
          "base_uri": "https://localhost:8080/"
        },
        "id": "Q-iFZpxHCbvX",
        "outputId": "809103cf-c025-4db4-987d-14fd35df5ab1"
      },
      "id": "Q-iFZpxHCbvX",
      "execution_count": null,
      "outputs": [
        {
          "output_type": "stream",
          "name": "stdout",
          "text": [
            "168.0\n"
          ]
        }
      ]
    },
    {
      "cell_type": "code",
      "source": [
        "### 이상치 확인하기(3) - 정상 범위 데이터의 최소값 / 최대값 구하기\n",
        "\n",
        "'''\n",
        "1. min = q1 - (1.5 * IQR)\n",
        "2. max = q3 + (1.5 * IQR)\n",
        "3, 정상 데이터 : (min, max)\n",
        "'''\n",
        "\n",
        "# 최소값 구하기\n",
        "min = q1 - (1.5 * IQR)\n",
        "print(f'정상 데이터의 최소값 : {min}')\n",
        "\n",
        "print('-'*80)\n",
        "\n",
        "# 최대값 구하기\n",
        "max = q3 + (1.5 * IQR)\n",
        "print(f'정상 데이터의 최대값 : {max}')"
      ],
      "metadata": {
        "colab": {
          "base_uri": "https://localhost:8080/"
        },
        "id": "PODcyo8zCeFY",
        "outputId": "80880da3-59f5-4d43-ffb8-56cf9375184e"
      },
      "id": "PODcyo8zCeFY",
      "execution_count": null,
      "outputs": [
        {
          "output_type": "stream",
          "name": "stdout",
          "text": [
            "정상 데이터의 최소값 : -116.0\n",
            "--------------------------------------------------------------------------------\n",
            "정상 데이터의 최대값 : 556.0\n"
          ]
        }
      ]
    },
    {
      "cell_type": "code",
      "source": [
        "### 이상치 제거하기(3) --> boolean 배열 이용\n",
        "income_drop_outlier = income_drop_outlier[income_drop_outlier <= 556.0]\n",
        "\n",
        "# 결과 확인하기\n",
        "income_drop_outlier.plot(kind='box')\n",
        "plt.show()"
      ],
      "metadata": {
        "colab": {
          "base_uri": "https://localhost:8080/",
          "height": 430
        },
        "id": "3vsEHVp9CkHQ",
        "outputId": "bc71cbf1-6732-4ebe-c349-2bee48dd0bb6"
      },
      "id": "3vsEHVp9CkHQ",
      "execution_count": null,
      "outputs": [
        {
          "output_type": "display_data",
          "data": {
            "text/plain": [
              "<Figure size 640x480 with 1 Axes>"
            ],
            "image/png": "[encoded data removed]"
          },
          "metadata": {}
        }
      ]
    },
    {
      "cell_type": "code",
      "source": [
        "### 이상치 확인하기(4) - 4분위 수 구하기\n",
        "\n",
        "'''\n",
        "income_drop_outlier.quantile(q=)\n",
        "'''\n",
        "\n",
        "# 1/4 분위수 구하기\n",
        "q1 = income_drop_outlier.quantile(q=0.25)\n",
        "print(f'1사분위수 = {q1}')\n",
        "\n",
        "print('-'*80)\n",
        "\n",
        "# 2/4 분위수 구하기\n",
        "q2 = income_drop_outlier.quantile(q=0.5)\n",
        "print(f'2사분위수 = {q2}')\n",
        "\n",
        "print('-'*80)\n",
        "\n",
        "# 3/4 분위수 구하기\n",
        "q3 = income_drop_outlier.quantile(q=0.75)\n",
        "print(f'3사분위수 = {q3}')"
      ],
      "metadata": {
        "colab": {
          "base_uri": "https://localhost:8080/"
        },
        "id": "SerQ5vkLCrE4",
        "outputId": "4d318d1f-adc1-41ad-b3f3-200c528c779c"
      },
      "id": "SerQ5vkLCrE4",
      "execution_count": null,
      "outputs": [
        {
          "output_type": "stream",
          "name": "stdout",
          "text": [
            "1사분위수 = 135.0\n",
            "--------------------------------------------------------------------------------\n",
            "2사분위수 = 208.0\n",
            "--------------------------------------------------------------------------------\n",
            "3사분위수 = 300.0\n"
          ]
        }
      ]
    },
    {
      "cell_type": "code",
      "source": [
        "### 이상치 확인하기(4) - IQR 구하기\n",
        "IQR = q3 - q1\n",
        "\n",
        "print(IQR)"
      ],
      "metadata": {
        "colab": {
          "base_uri": "https://localhost:8080/"
        },
        "id": "-WXdZSGNCyBg",
        "outputId": "fd244ab1-bbd1-4b47-9bec-68e4b5740850"
      },
      "id": "-WXdZSGNCyBg",
      "execution_count": null,
      "outputs": [
        {
          "output_type": "stream",
          "name": "stdout",
          "text": [
            "165.0\n"
          ]
        }
      ]
    },
    {
      "cell_type": "code",
      "source": [
        "### 이상치 확인하기(4) - 정상 범위 데이터의 최소값 / 최대값 구하기\n",
        "\n",
        "'''\n",
        "1. min = q1 - (1.5 * IQR)\n",
        "2. max = q3 + (1.5 * IQR)\n",
        "3, 정상 데이터 : (min, max)\n",
        "'''\n",
        "\n",
        "# 최소값 구하기\n",
        "min = q1 - (1.5 * IQR)\n",
        "print(f'정상 데이터의 최소값 : {min}')\n",
        "\n",
        "print('-'*80)\n",
        "\n",
        "# 최대값 구하기\n",
        "max = q3 + (1.5 * IQR)\n",
        "print(f'정상 데이터의 최대값 : {max}')"
      ],
      "metadata": {
        "colab": {
          "base_uri": "https://localhost:8080/"
        },
        "id": "BNhIxBHYCzEf",
        "outputId": "c5586adf-7074-42df-9a32-cf482855cddd"
      },
      "id": "BNhIxBHYCzEf",
      "execution_count": null,
      "outputs": [
        {
          "output_type": "stream",
          "name": "stdout",
          "text": [
            "정상 데이터의 최소값 : -112.5\n",
            "--------------------------------------------------------------------------------\n",
            "정상 데이터의 최대값 : 547.5\n"
          ]
        }
      ]
    },
    {
      "cell_type": "code",
      "source": [
        "### 이상치 제거하기(4) --> boolean 배열 이용\n",
        "income_drop_outlier = income_drop_outlier[income_drop_outlier <= 547.5]\n",
        "\n",
        "# 결과 확인하기\n",
        "income_drop_outlier.plot(kind='box')\n",
        "plt.show()"
      ],
      "metadata": {
        "colab": {
          "base_uri": "https://localhost:8080/",
          "height": 430
        },
        "id": "Li_E4h6zC7la",
        "outputId": "34628deb-43f0-4764-881c-e17a422c90c5"
      },
      "id": "Li_E4h6zC7la",
      "execution_count": null,
      "outputs": [
        {
          "output_type": "display_data",
          "data": {
            "text/plain": [
              "<Figure size 640x480 with 1 Axes>"
            ],
            "image/png": "[encoded data removed]"
          },
          "metadata": {}
        }
      ]
    },
    {
      "cell_type": "code",
      "execution_count": null,
      "id": "929159da",
      "metadata": {
        "colab": {
          "base_uri": "https://localhost:8080/"
        },
        "id": "929159da",
        "outputId": "568ff3be-62e1-4ac3-a17c-be99edb67bba"
      },
      "outputs": [
        {
          "output_type": "execute_result",
          "data": {
            "text/plain": [
              "count    4121.000000\n",
              "mean      222.335841\n",
              "std       127.529339\n",
              "min         0.000000\n",
              "25%       133.000000\n",
              "50%       208.000000\n",
              "75%       300.000000\n",
              "max       546.000000\n",
              "Name: income, dtype: float64"
            ]
          },
          "metadata": {},
          "execution_count": 37
        }
      ],
      "source": [
        "### 요약 통계량 확인\n",
        "income_drop_outlier.describe()"
      ]
    },
    {
      "cell_type": "code",
      "source": [
        "### income --> 정상 --> 인덱스 추출\n",
        "normal_index = income_drop_outlier.index\n",
        "print(normal_index)"
      ],
      "metadata": {
        "colab": {
          "base_uri": "https://localhost:8080/"
        },
        "id": "gkUFRckz14IK",
        "outputId": "036ee2ed-2135-4987-eb66-544f9384ccbc"
      },
      "id": "gkUFRckz14IK",
      "execution_count": null,
      "outputs": [
        {
          "output_type": "stream",
          "name": "stdout",
          "text": [
            "Int64Index([    2,     3,     7,     8,    14,    15,    19,    25,    26,\n",
            "               27,\n",
            "            ...\n",
            "            14376, 14387, 14388, 14389, 14398, 14401, 14402, 14405, 14410,\n",
            "            14416],\n",
            "           dtype='int64', length=4121)\n"
          ]
        }
      ]
    },
    {
      "cell_type": "code",
      "source": [
        "### income --> 정상 --> 데이터프레임 추출\n",
        "welfare1 = welfare.iloc[normal_index, :]\n",
        "welfare1"
      ],
      "metadata": {
        "colab": {
          "base_uri": "https://localhost:8080/",
          "height": 487
        },
        "id": "iW2Cfwvi2IxX",
        "outputId": "19c06f6a-245d-4eaa-e07b-5ea2025940bb"
      },
      "id": "iW2Cfwvi2IxX",
      "execution_count": null,
      "outputs": [
        {
          "output_type": "execute_result",
          "data": {
            "text/plain": [
              "       h14_id  h14_ind  h14_sn  h14_merkey  h_new  h14_cobf   p14_wsc  \\\n",
              "2         4.0      1.0     1.0     40101.0    0.0       NaN  0.265263   \n",
              "3         6.0      1.0     1.0     60101.0    0.0       NaN  0.494906   \n",
              "7         6.0      1.0     1.0     60101.0    0.0       NaN  0.262072   \n",
              "8         8.0      1.0     1.0     80101.0    0.0       NaN  0.133319   \n",
              "14       15.0      1.0     1.0    150101.0    0.0       NaN  0.511827   \n",
              "...       ...      ...     ...         ...    ...       ...       ...   \n",
              "14401  9793.0      7.0     1.0  97930701.0    1.0       NaN       NaN   \n",
              "14402  9793.0      7.0     1.0  97930701.0    1.0       NaN       NaN   \n",
              "14405  9794.0      7.0     1.0  97940701.0    1.0       NaN       NaN   \n",
              "14410  9798.0      7.0     1.0  97980701.0    1.0       NaN       NaN   \n",
              "14416  9800.0      7.0     1.0  98000701.0    1.0       NaN       NaN   \n",
              "\n",
              "        p14_wsl      p14_wgc      p14_wgl  ...  wc14_64  wc14_65  wc14_5aq4  \\\n",
              "2      0.265980  1189.691668  1192.908537  ...      NaN                 NaN   \n",
              "3      0.495941  2219.630833  2224.273816  ...      1.0        .        2.0   \n",
              "7      0.262072  1175.380055  1175.380055  ...      NaN                 NaN   \n",
              "8      0.133319   597.930077   597.930077  ...      NaN                 NaN   \n",
              "14     0.540321  2295.519261  2423.314062  ...      7.0        .        2.0   \n",
              "...         ...          ...          ...  ...      ...      ...        ...   \n",
              "14401       NaN          NaN          NaN  ...      3.0        .        4.0   \n",
              "14402       NaN          NaN          NaN  ...      NaN                 NaN   \n",
              "14405       NaN          NaN          NaN  ...      NaN                 NaN   \n",
              "14410       NaN          NaN          NaN  ...      NaN                 NaN   \n",
              "14416       NaN          NaN          NaN  ...      5.0        .        4.0   \n",
              "\n",
              "       wc14_5aq5  wc14_5aq6  h14_pers_income1  h14_pers_income2  \\\n",
              "2            NaN        NaN               NaN            1284.0   \n",
              "3            4.0        4.0            2304.0               NaN   \n",
              "7            NaN        NaN               NaN             243.0   \n",
              "8            NaN        NaN               NaN             410.0   \n",
              "14           5.0        4.0            4060.0               NaN   \n",
              "...          ...        ...               ...               ...   \n",
              "14401        3.0        3.0               NaN            3360.0   \n",
              "14402        NaN        NaN               NaN            2506.0   \n",
              "14405        NaN        NaN               NaN             243.0   \n",
              "14410        NaN        NaN            2400.0               NaN   \n",
              "14416        3.0        3.0               NaN            1200.0   \n",
              "\n",
              "       h14_pers_income3  h14_pers_income4  h14_pers_income5  \n",
              "2                   NaN               0.0               NaN  \n",
              "3                1800.0               0.0               NaN  \n",
              "7                   NaN               0.0               NaN  \n",
              "8                   NaN               0.0               NaN  \n",
              "14                  NaN               0.0               NaN  \n",
              "...                 ...               ...               ...  \n",
              "14401               NaN               0.0               NaN  \n",
              "14402               NaN               0.0               NaN  \n",
              "14405               NaN              20.0               NaN  \n",
              "14410               NaN               0.0               NaN  \n",
              "14416               NaN               0.0               NaN  \n",
              "\n",
              "[4121 rows x 830 columns]"
            ],
            "text/html": [
              "\n",
              "  <div id=\"df-b4e43e84-8b39-4c64-a76f-3d68aa4eb414\">\n",
              "    <div class=\"colab-df-container\">\n",
              "      <div>\n",
              "<style scoped>\n",
              "    .dataframe tbody tr th:only-of-type {\n",
              "        vertical-align: middle;\n",
              "    }\n",
              "\n",
              "    .dataframe tbody tr th {\n",
              "        vertical-align: top;\n",
              "    }\n",
              "\n",
              "    .dataframe thead th {\n",
              "        text-align: right;\n",
              "    }\n",
              "</style>\n",
              "<table border=\"1\" class=\"dataframe\">\n",
              "  <thead>\n",
              "    <tr style=\"text-align: right;\">\n",
              "      <th></th>\n",
              "      <th>h14_id</th>\n",
              "      <th>h14_ind</th>\n",
              "      <th>h14_sn</th>\n",
              "      <th>h14_merkey</th>\n",
              "      <th>h_new</th>\n",
              "      <th>h14_cobf</th>\n",
              "      <th>p14_wsc</th>\n",
              "      <th>p14_wsl</th>\n",
              "      <th>p14_wgc</th>\n",
              "      <th>p14_wgl</th>\n",
              "      <th>...</th>\n",
              "      <th>wc14_64</th>\n",
              "      <th>wc14_65</th>\n",
              "      <th>wc14_5aq4</th>\n",
              "      <th>wc14_5aq5</th>\n",
              "      <th>wc14_5aq6</th>\n",
              "      <th>h14_pers_income1</th>\n",
              "      <th>h14_pers_income2</th>\n",
              "      <th>h14_pers_income3</th>\n",
              "      <th>h14_pers_income4</th>\n",
              "      <th>h14_pers_income5</th>\n",
              "    </tr>\n",
              "  </thead>\n",
              "  <tbody>\n",
              "    <tr>\n",
              "      <th>2</th>\n",
              "      <td>4.0</td>\n",
              "      <td>1.0</td>\n",
              "      <td>1.0</td>\n",
              "      <td>40101.0</td>\n",
              "      <td>0.0</td>\n",
              "      <td>NaN</td>\n",
              "      <td>0.265263</td>\n",
              "      <td>0.265980</td>\n",
              "      <td>1189.691668</td>\n",
              "      <td>1192.908537</td>\n",
              "      <td>...</td>\n",
              "      <td>NaN</td>\n",
              "      <td></td>\n",
              "      <td>NaN</td>\n",
              "      <td>NaN</td>\n",
              "      <td>NaN</td>\n",
              "      <td>NaN</td>\n",
              "      <td>1284.0</td>\n",
              "      <td>NaN</td>\n",
              "      <td>0.0</td>\n",
              "      <td>NaN</td>\n",
              "    </tr>\n",
              "    <tr>\n",
              "      <th>3</th>\n",
              "      <td>6.0</td>\n",
              "      <td>1.0</td>\n",
              "      <td>1.0</td>\n",
              "      <td>60101.0</td>\n",
              "      <td>0.0</td>\n",
              "      <td>NaN</td>\n",
              "      <td>0.494906</td>\n",
              "      <td>0.495941</td>\n",
              "      <td>2219.630833</td>\n",
              "      <td>2224.273816</td>\n",
              "      <td>...</td>\n",
              "      <td>1.0</td>\n",
              "      <td>.</td>\n",
              "      <td>2.0</td>\n",
              "      <td>4.0</td>\n",
              "      <td>4.0</td>\n",
              "      <td>2304.0</td>\n",
              "      <td>NaN</td>\n",
              "      <td>1800.0</td>\n",
              "      <td>0.0</td>\n",
              "      <td>NaN</td>\n",
              "    </tr>\n",
              "    <tr>\n",
              "      <th>7</th>\n",
              "      <td>6.0</td>\n",
              "      <td>1.0</td>\n",
              "      <td>1.0</td>\n",
              "      <td>60101.0</td>\n",
              "      <td>0.0</td>\n",
              "      <td>NaN</td>\n",
              "      <td>0.262072</td>\n",
              "      <td>0.262072</td>\n",
              "      <td>1175.380055</td>\n",
              "      <td>1175.380055</td>\n",
              "      <td>...</td>\n",
              "      <td>NaN</td>\n",
              "      <td></td>\n",
              "      <td>NaN</td>\n",
              "      <td>NaN</td>\n",
              "      <td>NaN</td>\n",
              "      <td>NaN</td>\n",
              "      <td>243.0</td>\n",
              "      <td>NaN</td>\n",
              "      <td>0.0</td>\n",
              "      <td>NaN</td>\n",
              "    </tr>\n",
              "    <tr>\n",
              "      <th>8</th>\n",
              "      <td>8.0</td>\n",
              "      <td>1.0</td>\n",
              "      <td>1.0</td>\n",
              "      <td>80101.0</td>\n",
              "      <td>0.0</td>\n",
              "      <td>NaN</td>\n",
              "      <td>0.133319</td>\n",
              "      <td>0.133319</td>\n",
              "      <td>597.930077</td>\n",
              "      <td>597.930077</td>\n",
              "      <td>...</td>\n",
              "      <td>NaN</td>\n",
              "      <td></td>\n",
              "      <td>NaN</td>\n",
              "      <td>NaN</td>\n",
              "      <td>NaN</td>\n",
              "      <td>NaN</td>\n",
              "      <td>410.0</td>\n",
              "      <td>NaN</td>\n",
              "      <td>0.0</td>\n",
              "      <td>NaN</td>\n",
              "    </tr>\n",
              "    <tr>\n",
              "      <th>14</th>\n",
              "      <td>15.0</td>\n",
              "      <td>1.0</td>\n",
              "      <td>1.0</td>\n",
              "      <td>150101.0</td>\n",
              "      <td>0.0</td>\n",
              "      <td>NaN</td>\n",
              "      <td>0.511827</td>\n",
              "      <td>0.540321</td>\n",
              "      <td>2295.519261</td>\n",
              "      <td>2423.314062</td>\n",
              "      <td>...</td>\n",
              "      <td>7.0</td>\n",
              "      <td>.</td>\n",
              "      <td>2.0</td>\n",
              "      <td>5.0</td>\n",
              "      <td>4.0</td>\n",
              "      <td>4060.0</td>\n",
              "      <td>NaN</td>\n",
              "      <td>NaN</td>\n",
              "      <td>0.0</td>\n",
              "      <td>NaN</td>\n",
              "    </tr>\n",
              "    <tr>\n",
              "      <th>...</th>\n",
              "      <td>...</td>\n",
              "      <td>...</td>\n",
              "      <td>...</td>\n",
              "      <td>...</td>\n",
              "      <td>...</td>\n",
              "      <td>...</td>\n",
              "      <td>...</td>\n",
              "      <td>...</td>\n",
              "      <td>...</td>\n",
              "      <td>...</td>\n",
              "      <td>...</td>\n",
              "      <td>...</td>\n",
              "      <td>...</td>\n",
              "      <td>...</td>\n",
              "      <td>...</td>\n",
              "      <td>...</td>\n",
              "      <td>...</td>\n",
              "      <td>...</td>\n",
              "      <td>...</td>\n",
              "      <td>...</td>\n",
              "      <td>...</td>\n",
              "    </tr>\n",
              "    <tr>\n",
              "      <th>14401</th>\n",
              "      <td>9793.0</td>\n",
              "      <td>7.0</td>\n",
              "      <td>1.0</td>\n",
              "      <td>97930701.0</td>\n",
              "      <td>1.0</td>\n",
              "      <td>NaN</td>\n",
              "      <td>NaN</td>\n",
              "      <td>NaN</td>\n",
              "      <td>NaN</td>\n",
              "      <td>NaN</td>\n",
              "      <td>...</td>\n",
              "      <td>3.0</td>\n",
              "      <td>.</td>\n",
              "      <td>4.0</td>\n",
              "      <td>3.0</td>\n",
              "      <td>3.0</td>\n",
              "      <td>NaN</td>\n",
              "      <td>3360.0</td>\n",
              "      <td>NaN</td>\n",
              "      <td>0.0</td>\n",
              "      <td>NaN</td>\n",
              "    </tr>\n",
              "    <tr>\n",
              "      <th>14402</th>\n",
              "      <td>9793.0</td>\n",
              "      <td>7.0</td>\n",
              "      <td>1.0</td>\n",
              "      <td>97930701.0</td>\n",
              "      <td>1.0</td>\n",
              "      <td>NaN</td>\n",
              "      <td>NaN</td>\n",
              "      <td>NaN</td>\n",
              "      <td>NaN</td>\n",
              "      <td>NaN</td>\n",
              "      <td>...</td>\n",
              "      <td>NaN</td>\n",
              "      <td></td>\n",
              "      <td>NaN</td>\n",
              "      <td>NaN</td>\n",
              "      <td>NaN</td>\n",
              "      <td>NaN</td>\n",
              "      <td>2506.0</td>\n",
              "      <td>NaN</td>\n",
              "      <td>0.0</td>\n",
              "      <td>NaN</td>\n",
              "    </tr>\n",
              "    <tr>\n",
              "      <th>14405</th>\n",
              "      <td>9794.0</td>\n",
              "      <td>7.0</td>\n",
              "      <td>1.0</td>\n",
              "      <td>97940701.0</td>\n",
              "      <td>1.0</td>\n",
              "      <td>NaN</td>\n",
              "      <td>NaN</td>\n",
              "      <td>NaN</td>\n",
              "      <td>NaN</td>\n",
              "      <td>NaN</td>\n",
              "      <td>...</td>\n",
              "      <td>NaN</td>\n",
              "      <td></td>\n",
              "      <td>NaN</td>\n",
              "      <td>NaN</td>\n",
              "      <td>NaN</td>\n",
              "      <td>NaN</td>\n",
              "      <td>243.0</td>\n",
              "      <td>NaN</td>\n",
              "      <td>20.0</td>\n",
              "      <td>NaN</td>\n",
              "    </tr>\n",
              "    <tr>\n",
              "      <th>14410</th>\n",
              "      <td>9798.0</td>\n",
              "      <td>7.0</td>\n",
              "      <td>1.0</td>\n",
              "      <td>97980701.0</td>\n",
              "      <td>1.0</td>\n",
              "      <td>NaN</td>\n",
              "      <td>NaN</td>\n",
              "      <td>NaN</td>\n",
              "      <td>NaN</td>\n",
              "      <td>NaN</td>\n",
              "      <td>...</td>\n",
              "      <td>NaN</td>\n",
              "      <td></td>\n",
              "      <td>NaN</td>\n",
              "      <td>NaN</td>\n",
              "      <td>NaN</td>\n",
              "      <td>2400.0</td>\n",
              "      <td>NaN</td>\n",
              "      <td>NaN</td>\n",
              "      <td>0.0</td>\n",
              "      <td>NaN</td>\n",
              "    </tr>\n",
              "    <tr>\n",
              "      <th>14416</th>\n",
              "      <td>9800.0</td>\n",
              "      <td>7.0</td>\n",
              "      <td>1.0</td>\n",
              "      <td>98000701.0</td>\n",
              "      <td>1.0</td>\n",
              "      <td>NaN</td>\n",
              "      <td>NaN</td>\n",
              "      <td>NaN</td>\n",
              "      <td>NaN</td>\n",
              "      <td>NaN</td>\n",
              "      <td>...</td>\n",
              "      <td>5.0</td>\n",
              "      <td>.</td>\n",
              "      <td>4.0</td>\n",
              "      <td>3.0</td>\n",
              "      <td>3.0</td>\n",
              "      <td>NaN</td>\n",
              "      <td>1200.0</td>\n",
              "      <td>NaN</td>\n",
              "      <td>0.0</td>\n",
              "      <td>NaN</td>\n",
              "    </tr>\n",
              "  </tbody>\n",
              "</table>\n",
              "<p>4121 rows × 830 columns</p>\n",
              "</div>\n",
              "      <button class=\"colab-df-convert\" onclick=\"convertToInteractive('df-b4e43e84-8b39-4c64-a76f-3d68aa4eb414')\"\n",
              "              title=\"Convert this dataframe to an interactive table.\"\n",
              "              style=\"display:none;\">\n",
              "        \n",
              "  <svg xmlns=\"http://www.w3.org/2000/svg\" height=\"24px\"viewBox=\"0 0 24 24\"\n",
              "       width=\"24px\">\n",
              "    <path d=\"M0 0h24v24H0V0z\" fill=\"none\"/>\n",
              "    <path d=\"M18.56 5.44l.94 2.06.94-2.06 2.06-.94-2.06-.94-.94-2.06-.94 2.06-2.06.94zm-11 1L8.5 8.5l.94-2.06 2.06-.94-2.06-.94L8.5 2.5l-.94 2.06-2.06.94zm10 10l.94 2.06.94-2.06 2.06-.94-2.06-.94-.94-2.06-.94 2.06-2.06.94z\"/><path d=\"M17.41 7.96l-1.37-1.37c-.4-.4-.92-.59-1.43-.59-.52 0-1.04.2-1.43.59L10.3 9.45l-7.72 7.72c-.78.78-.78 2.05 0 2.83L4 21.41c.39.39.9.59 1.41.59.51 0 1.02-.2 1.41-.59l7.78-7.78 2.81-2.81c.8-.78.8-2.07 0-2.86zM5.41 20L4 18.59l7.72-7.72 1.47 1.35L5.41 20z\"/>\n",
              "  </svg>\n",
              "      </button>\n",
              "      \n",
              "  <style>\n",
              "    .colab-df-container {\n",
              "      display:flex;\n",
              "      flex-wrap:wrap;\n",
              "      gap: 12px;\n",
              "    }\n",
              "\n",
              "    .colab-df-convert {\n",
              "      background-color: #E8F0FE;\n",
              "      border: none;\n",
              "      border-radius: 50%;\n",
              "      cursor: pointer;\n",
              "      display: none;\n",
              "      fill: #1967D2;\n",
              "      height: 32px;\n",
              "      padding: 0 0 0 0;\n",
              "      width: 32px;\n",
              "    }\n",
              "\n",
              "    .colab-df-convert:hover {\n",
              "      background-color: #E2EBFA;\n",
              "      box-shadow: 0px 1px 2px rgba(60, 64, 67, 0.3), 0px 1px 3px 1px rgba(60, 64, 67, 0.15);\n",
              "      fill: #174EA6;\n",
              "    }\n",
              "\n",
              "    [theme=dark] .colab-df-convert {\n",
              "      background-color: #3B4455;\n",
              "      fill: #D2E3FC;\n",
              "    }\n",
              "\n",
              "    [theme=dark] .colab-df-convert:hover {\n",
              "      background-color: #434B5C;\n",
              "      box-shadow: 0px 1px 3px 1px rgba(0, 0, 0, 0.15);\n",
              "      filter: drop-shadow(0px 1px 2px rgba(0, 0, 0, 0.3));\n",
              "      fill: #FFFFFF;\n",
              "    }\n",
              "  </style>\n",
              "\n",
              "      <script>\n",
              "        const buttonEl =\n",
              "          document.querySelector('#df-b4e43e84-8b39-4c64-a76f-3d68aa4eb414 button.colab-df-convert');\n",
              "        buttonEl.style.display =\n",
              "          google.colab.kernel.accessAllowed ? 'block' : 'none';\n",
              "\n",
              "        async function convertToInteractive(key) {\n",
              "          const element = document.querySelector('#df-b4e43e84-8b39-4c64-a76f-3d68aa4eb414');\n",
              "          const dataTable =\n",
              "            await google.colab.kernel.invokeFunction('convertToInteractive',\n",
              "                                                     [key], {});\n",
              "          if (!dataTable) return;\n",
              "\n",
              "          const docLinkHtml = 'Like what you see? Visit the ' +\n",
              "            '<a target=\"_blank\" href=https://colab.research.google.com/notebooks/data_table.ipynb>data table notebook</a>'\n",
              "            + ' to learn more about interactive tables.';\n",
              "          element.innerHTML = '';\n",
              "          dataTable['output_type'] = 'display_data';\n",
              "          await google.colab.output.renderOutput(dataTable, element);\n",
              "          const docLink = document.createElement('div');\n",
              "          docLink.innerHTML = docLinkHtml;\n",
              "          element.appendChild(docLink);\n",
              "        }\n",
              "      </script>\n",
              "    </div>\n",
              "  </div>\n",
              "  "
            ]
          },
          "metadata": {},
          "execution_count": 39
        }
      ]
    },
    {
      "cell_type": "markdown",
      "id": "f29b769b",
      "metadata": {
        "id": "f29b769b"
      },
      "source": [
        "### 성별에 따른 월급 차이 분석하기\n",
        "\n",
        "#### 1. 성별 월급 평균표 만들기"
      ]
    },
    {
      "cell_type": "code",
      "source": [
        "## 성별 월급 평균표 만들기\n",
        "\n",
        "'''\n",
        "1. income 결측치 제거\n",
        "2. gender별 분리\n",
        "3. income 평균 구하기\n",
        "'''\n",
        "gender_income1 = welfare1[['gender','income']].groupby(by=['gender']).mean()\n",
        "gender_income1"
      ],
      "metadata": {
        "colab": {
          "base_uri": "https://localhost:8080/",
          "height": 143
        },
        "id": "DKnLwBUFLEAQ",
        "outputId": "12abcbb0-e1c7-4c0b-c2f1-2dcf5ac375a6"
      },
      "id": "DKnLwBUFLEAQ",
      "execution_count": null,
      "outputs": [
        {
          "output_type": "execute_result",
          "data": {
            "text/plain": [
              "            income\n",
              "gender            \n",
              "female  173.992234\n",
              "male    277.110248"
            ],
            "text/html": [
              "\n",
              "  <div id=\"df-56618ecd-2062-409e-9a6a-c16c8aa236f3\">\n",
              "    <div class=\"colab-df-container\">\n",
              "      <div>\n",
              "<style scoped>\n",
              "    .dataframe tbody tr th:only-of-type {\n",
              "        vertical-align: middle;\n",
              "    }\n",
              "\n",
              "    .dataframe tbody tr th {\n",
              "        vertical-align: top;\n",
              "    }\n",
              "\n",
              "    .dataframe thead th {\n",
              "        text-align: right;\n",
              "    }\n",
              "</style>\n",
              "<table border=\"1\" class=\"dataframe\">\n",
              "  <thead>\n",
              "    <tr style=\"text-align: right;\">\n",
              "      <th></th>\n",
              "      <th>income</th>\n",
              "    </tr>\n",
              "    <tr>\n",
              "      <th>gender</th>\n",
              "      <th></th>\n",
              "    </tr>\n",
              "  </thead>\n",
              "  <tbody>\n",
              "    <tr>\n",
              "      <th>female</th>\n",
              "      <td>173.992234</td>\n",
              "    </tr>\n",
              "    <tr>\n",
              "      <th>male</th>\n",
              "      <td>277.110248</td>\n",
              "    </tr>\n",
              "  </tbody>\n",
              "</table>\n",
              "</div>\n",
              "      <button class=\"colab-df-convert\" onclick=\"convertToInteractive('df-56618ecd-2062-409e-9a6a-c16c8aa236f3')\"\n",
              "              title=\"Convert this dataframe to an interactive table.\"\n",
              "              style=\"display:none;\">\n",
              "        \n",
              "  <svg xmlns=\"http://www.w3.org/2000/svg\" height=\"24px\"viewBox=\"0 0 24 24\"\n",
              "       width=\"24px\">\n",
              "    <path d=\"M0 0h24v24H0V0z\" fill=\"none\"/>\n",
              "    <path d=\"M18.56 5.44l.94 2.06.94-2.06 2.06-.94-2.06-.94-.94-2.06-.94 2.06-2.06.94zm-11 1L8.5 8.5l.94-2.06 2.06-.94-2.06-.94L8.5 2.5l-.94 2.06-2.06.94zm10 10l.94 2.06.94-2.06 2.06-.94-2.06-.94-.94-2.06-.94 2.06-2.06.94z\"/><path d=\"M17.41 7.96l-1.37-1.37c-.4-.4-.92-.59-1.43-.59-.52 0-1.04.2-1.43.59L10.3 9.45l-7.72 7.72c-.78.78-.78 2.05 0 2.83L4 21.41c.39.39.9.59 1.41.59.51 0 1.02-.2 1.41-.59l7.78-7.78 2.81-2.81c.8-.78.8-2.07 0-2.86zM5.41 20L4 18.59l7.72-7.72 1.47 1.35L5.41 20z\"/>\n",
              "  </svg>\n",
              "      </button>\n",
              "      \n",
              "  <style>\n",
              "    .colab-df-container {\n",
              "      display:flex;\n",
              "      flex-wrap:wrap;\n",
              "      gap: 12px;\n",
              "    }\n",
              "\n",
              "    .colab-df-convert {\n",
              "      background-color: #E8F0FE;\n",
              "      border: none;\n",
              "      border-radius: 50%;\n",
              "      cursor: pointer;\n",
              "      display: none;\n",
              "      fill: #1967D2;\n",
              "      height: 32px;\n",
              "      padding: 0 0 0 0;\n",
              "      width: 32px;\n",
              "    }\n",
              "\n",
              "    .colab-df-convert:hover {\n",
              "      background-color: #E2EBFA;\n",
              "      box-shadow: 0px 1px 2px rgba(60, 64, 67, 0.3), 0px 1px 3px 1px rgba(60, 64, 67, 0.15);\n",
              "      fill: #174EA6;\n",
              "    }\n",
              "\n",
              "    [theme=dark] .colab-df-convert {\n",
              "      background-color: #3B4455;\n",
              "      fill: #D2E3FC;\n",
              "    }\n",
              "\n",
              "    [theme=dark] .colab-df-convert:hover {\n",
              "      background-color: #434B5C;\n",
              "      box-shadow: 0px 1px 3px 1px rgba(0, 0, 0, 0.15);\n",
              "      filter: drop-shadow(0px 1px 2px rgba(0, 0, 0, 0.3));\n",
              "      fill: #FFFFFF;\n",
              "    }\n",
              "  </style>\n",
              "\n",
              "      <script>\n",
              "        const buttonEl =\n",
              "          document.querySelector('#df-56618ecd-2062-409e-9a6a-c16c8aa236f3 button.colab-df-convert');\n",
              "        buttonEl.style.display =\n",
              "          google.colab.kernel.accessAllowed ? 'block' : 'none';\n",
              "\n",
              "        async function convertToInteractive(key) {\n",
              "          const element = document.querySelector('#df-56618ecd-2062-409e-9a6a-c16c8aa236f3');\n",
              "          const dataTable =\n",
              "            await google.colab.kernel.invokeFunction('convertToInteractive',\n",
              "                                                     [key], {});\n",
              "          if (!dataTable) return;\n",
              "\n",
              "          const docLinkHtml = 'Like what you see? Visit the ' +\n",
              "            '<a target=\"_blank\" href=https://colab.research.google.com/notebooks/data_table.ipynb>data table notebook</a>'\n",
              "            + ' to learn more about interactive tables.';\n",
              "          element.innerHTML = '';\n",
              "          dataTable['output_type'] = 'display_data';\n",
              "          await google.colab.output.renderOutput(dataTable, element);\n",
              "          const docLink = document.createElement('div');\n",
              "          docLink.innerHTML = docLinkHtml;\n",
              "          element.appendChild(docLink);\n",
              "        }\n",
              "      </script>\n",
              "    </div>\n",
              "  </div>\n",
              "  "
            ]
          },
          "metadata": {},
          "execution_count": 40
        }
      ]
    },
    {
      "cell_type": "code",
      "source": [
        "# ## 성별 월급 평균표 만들기\n",
        "\n",
        "# '''\n",
        "# 1. income 결측치 제거\n",
        "# 2. gender별 분리\n",
        "# 3. income 평균 구하기\n",
        "# '''\n",
        "# gender_income1 = welfare.dropna(subset = ['income'])[['gender','income']].groupby(by=['gender']).mean()\n",
        "# gender_income1"
      ],
      "metadata": {
        "id": "pHghntriQEfm"
      },
      "id": "pHghntriQEfm",
      "execution_count": null,
      "outputs": []
    },
    {
      "cell_type": "code",
      "source": [
        "## 성별 월급 평균표 만들기\n",
        "\n",
        "'''\n",
        "1. income 결측치 제거\n",
        "2. gender별 분리\n",
        "3. income 평균 구하기\n",
        "'''\n",
        "gender_income2 = welfare1.groupby('gender')['income'].mean()\n",
        "gender_income2"
      ],
      "metadata": {
        "colab": {
          "base_uri": "https://localhost:8080/"
        },
        "id": "JctuQl6PK8mp",
        "outputId": "352bc9e4-a415-4f42-b59f-9d3a0a9e87bd"
      },
      "id": "JctuQl6PK8mp",
      "execution_count": null,
      "outputs": [
        {
          "output_type": "execute_result",
          "data": {
            "text/plain": [
              "gender\n",
              "female    173.992234\n",
              "male      277.110248\n",
              "Name: income, dtype: float64"
            ]
          },
          "metadata": {},
          "execution_count": 42
        }
      ]
    },
    {
      "cell_type": "code",
      "source": [
        "## 성별 월급 평균표 만들기\n",
        "\n",
        "# income 결측치 제거\n",
        "# sex별 분리\n",
        "# income 평균 구하기\n",
        "gender_income3 = welfare1.groupby('gender').agg({'income':'mean'})\n",
        "gender_income3"
      ],
      "metadata": {
        "colab": {
          "base_uri": "https://localhost:8080/",
          "height": 143
        },
        "id": "xIOxSYlAMD6v",
        "outputId": "3b4575ea-030d-4774-a2e7-762af00ee1d9"
      },
      "id": "xIOxSYlAMD6v",
      "execution_count": null,
      "outputs": [
        {
          "output_type": "execute_result",
          "data": {
            "text/plain": [
              "            income\n",
              "gender            \n",
              "female  173.992234\n",
              "male    277.110248"
            ],
            "text/html": [
              "\n",
              "  <div id=\"df-40eacd36-96dd-4238-834a-4ae61cce9391\">\n",
              "    <div class=\"colab-df-container\">\n",
              "      <div>\n",
              "<style scoped>\n",
              "    .dataframe tbody tr th:only-of-type {\n",
              "        vertical-align: middle;\n",
              "    }\n",
              "\n",
              "    .dataframe tbody tr th {\n",
              "        vertical-align: top;\n",
              "    }\n",
              "\n",
              "    .dataframe thead th {\n",
              "        text-align: right;\n",
              "    }\n",
              "</style>\n",
              "<table border=\"1\" class=\"dataframe\">\n",
              "  <thead>\n",
              "    <tr style=\"text-align: right;\">\n",
              "      <th></th>\n",
              "      <th>income</th>\n",
              "    </tr>\n",
              "    <tr>\n",
              "      <th>gender</th>\n",
              "      <th></th>\n",
              "    </tr>\n",
              "  </thead>\n",
              "  <tbody>\n",
              "    <tr>\n",
              "      <th>female</th>\n",
              "      <td>173.992234</td>\n",
              "    </tr>\n",
              "    <tr>\n",
              "      <th>male</th>\n",
              "      <td>277.110248</td>\n",
              "    </tr>\n",
              "  </tbody>\n",
              "</table>\n",
              "</div>\n",
              "      <button class=\"colab-df-convert\" onclick=\"convertToInteractive('df-40eacd36-96dd-4238-834a-4ae61cce9391')\"\n",
              "              title=\"Convert this dataframe to an interactive table.\"\n",
              "              style=\"display:none;\">\n",
              "        \n",
              "  <svg xmlns=\"http://www.w3.org/2000/svg\" height=\"24px\"viewBox=\"0 0 24 24\"\n",
              "       width=\"24px\">\n",
              "    <path d=\"M0 0h24v24H0V0z\" fill=\"none\"/>\n",
              "    <path d=\"M18.56 5.44l.94 2.06.94-2.06 2.06-.94-2.06-.94-.94-2.06-.94 2.06-2.06.94zm-11 1L8.5 8.5l.94-2.06 2.06-.94-2.06-.94L8.5 2.5l-.94 2.06-2.06.94zm10 10l.94 2.06.94-2.06 2.06-.94-2.06-.94-.94-2.06-.94 2.06-2.06.94z\"/><path d=\"M17.41 7.96l-1.37-1.37c-.4-.4-.92-.59-1.43-.59-.52 0-1.04.2-1.43.59L10.3 9.45l-7.72 7.72c-.78.78-.78 2.05 0 2.83L4 21.41c.39.39.9.59 1.41.59.51 0 1.02-.2 1.41-.59l7.78-7.78 2.81-2.81c.8-.78.8-2.07 0-2.86zM5.41 20L4 18.59l7.72-7.72 1.47 1.35L5.41 20z\"/>\n",
              "  </svg>\n",
              "      </button>\n",
              "      \n",
              "  <style>\n",
              "    .colab-df-container {\n",
              "      display:flex;\n",
              "      flex-wrap:wrap;\n",
              "      gap: 12px;\n",
              "    }\n",
              "\n",
              "    .colab-df-convert {\n",
              "      background-color: #E8F0FE;\n",
              "      border: none;\n",
              "      border-radius: 50%;\n",
              "      cursor: pointer;\n",
              "      display: none;\n",
              "      fill: #1967D2;\n",
              "      height: 32px;\n",
              "      padding: 0 0 0 0;\n",
              "      width: 32px;\n",
              "    }\n",
              "\n",
              "    .colab-df-convert:hover {\n",
              "      background-color: #E2EBFA;\n",
              "      box-shadow: 0px 1px 2px rgba(60, 64, 67, 0.3), 0px 1px 3px 1px rgba(60, 64, 67, 0.15);\n",
              "      fill: #174EA6;\n",
              "    }\n",
              "\n",
              "    [theme=dark] .colab-df-convert {\n",
              "      background-color: #3B4455;\n",
              "      fill: #D2E3FC;\n",
              "    }\n",
              "\n",
              "    [theme=dark] .colab-df-convert:hover {\n",
              "      background-color: #434B5C;\n",
              "      box-shadow: 0px 1px 3px 1px rgba(0, 0, 0, 0.15);\n",
              "      filter: drop-shadow(0px 1px 2px rgba(0, 0, 0, 0.3));\n",
              "      fill: #FFFFFF;\n",
              "    }\n",
              "  </style>\n",
              "\n",
              "      <script>\n",
              "        const buttonEl =\n",
              "          document.querySelector('#df-40eacd36-96dd-4238-834a-4ae61cce9391 button.colab-df-convert');\n",
              "        buttonEl.style.display =\n",
              "          google.colab.kernel.accessAllowed ? 'block' : 'none';\n",
              "\n",
              "        async function convertToInteractive(key) {\n",
              "          const element = document.querySelector('#df-40eacd36-96dd-4238-834a-4ae61cce9391');\n",
              "          const dataTable =\n",
              "            await google.colab.kernel.invokeFunction('convertToInteractive',\n",
              "                                                     [key], {});\n",
              "          if (!dataTable) return;\n",
              "\n",
              "          const docLinkHtml = 'Like what you see? Visit the ' +\n",
              "            '<a target=\"_blank\" href=https://colab.research.google.com/notebooks/data_table.ipynb>data table notebook</a>'\n",
              "            + ' to learn more about interactive tables.';\n",
              "          element.innerHTML = '';\n",
              "          dataTable['output_type'] = 'display_data';\n",
              "          await google.colab.output.renderOutput(dataTable, element);\n",
              "          const docLink = document.createElement('div');\n",
              "          docLink.innerHTML = docLinkHtml;\n",
              "          element.appendChild(docLink);\n",
              "        }\n",
              "      </script>\n",
              "    </div>\n",
              "  </div>\n",
              "  "
            ]
          },
          "metadata": {},
          "execution_count": 43
        }
      ]
    },
    {
      "cell_type": "code",
      "source": [
        "## 성별 월급 평균표 만들기\n",
        "\n",
        "# income 결측치 제거\n",
        "# sex별 분리\n",
        "# income 평균 구하기\n",
        "gender_income4 = welfare1.groupby('gender', as_index=False).agg({'income':'mean'})\n",
        "gender_income4"
      ],
      "metadata": {
        "colab": {
          "base_uri": "https://localhost:8080/",
          "height": 112
        },
        "id": "qaxApToLNB6v",
        "outputId": "bc77593c-133b-45e8-8206-32ff60cfe7ee"
      },
      "id": "qaxApToLNB6v",
      "execution_count": null,
      "outputs": [
        {
          "output_type": "execute_result",
          "data": {
            "text/plain": [
              "   gender      income\n",
              "0  female  173.992234\n",
              "1    male  277.110248"
            ],
            "text/html": [
              "\n",
              "  <div id=\"df-5fb5c066-7d9a-4265-95f2-448509c0d4a7\">\n",
              "    <div class=\"colab-df-container\">\n",
              "      <div>\n",
              "<style scoped>\n",
              "    .dataframe tbody tr th:only-of-type {\n",
              "        vertical-align: middle;\n",
              "    }\n",
              "\n",
              "    .dataframe tbody tr th {\n",
              "        vertical-align: top;\n",
              "    }\n",
              "\n",
              "    .dataframe thead th {\n",
              "        text-align: right;\n",
              "    }\n",
              "</style>\n",
              "<table border=\"1\" class=\"dataframe\">\n",
              "  <thead>\n",
              "    <tr style=\"text-align: right;\">\n",
              "      <th></th>\n",
              "      <th>gender</th>\n",
              "      <th>income</th>\n",
              "    </tr>\n",
              "  </thead>\n",
              "  <tbody>\n",
              "    <tr>\n",
              "      <th>0</th>\n",
              "      <td>female</td>\n",
              "      <td>173.992234</td>\n",
              "    </tr>\n",
              "    <tr>\n",
              "      <th>1</th>\n",
              "      <td>male</td>\n",
              "      <td>277.110248</td>\n",
              "    </tr>\n",
              "  </tbody>\n",
              "</table>\n",
              "</div>\n",
              "      <button class=\"colab-df-convert\" onclick=\"convertToInteractive('df-5fb5c066-7d9a-4265-95f2-448509c0d4a7')\"\n",
              "              title=\"Convert this dataframe to an interactive table.\"\n",
              "              style=\"display:none;\">\n",
              "        \n",
              "  <svg xmlns=\"http://www.w3.org/2000/svg\" height=\"24px\"viewBox=\"0 0 24 24\"\n",
              "       width=\"24px\">\n",
              "    <path d=\"M0 0h24v24H0V0z\" fill=\"none\"/>\n",
              "    <path d=\"M18.56 5.44l.94 2.06.94-2.06 2.06-.94-2.06-.94-.94-2.06-.94 2.06-2.06.94zm-11 1L8.5 8.5l.94-2.06 2.06-.94-2.06-.94L8.5 2.5l-.94 2.06-2.06.94zm10 10l.94 2.06.94-2.06 2.06-.94-2.06-.94-.94-2.06-.94 2.06-2.06.94z\"/><path d=\"M17.41 7.96l-1.37-1.37c-.4-.4-.92-.59-1.43-.59-.52 0-1.04.2-1.43.59L10.3 9.45l-7.72 7.72c-.78.78-.78 2.05 0 2.83L4 21.41c.39.39.9.59 1.41.59.51 0 1.02-.2 1.41-.59l7.78-7.78 2.81-2.81c.8-.78.8-2.07 0-2.86zM5.41 20L4 18.59l7.72-7.72 1.47 1.35L5.41 20z\"/>\n",
              "  </svg>\n",
              "      </button>\n",
              "      \n",
              "  <style>\n",
              "    .colab-df-container {\n",
              "      display:flex;\n",
              "      flex-wrap:wrap;\n",
              "      gap: 12px;\n",
              "    }\n",
              "\n",
              "    .colab-df-convert {\n",
              "      background-color: #E8F0FE;\n",
              "      border: none;\n",
              "      border-radius: 50%;\n",
              "      cursor: pointer;\n",
              "      display: none;\n",
              "      fill: #1967D2;\n",
              "      height: 32px;\n",
              "      padding: 0 0 0 0;\n",
              "      width: 32px;\n",
              "    }\n",
              "\n",
              "    .colab-df-convert:hover {\n",
              "      background-color: #E2EBFA;\n",
              "      box-shadow: 0px 1px 2px rgba(60, 64, 67, 0.3), 0px 1px 3px 1px rgba(60, 64, 67, 0.15);\n",
              "      fill: #174EA6;\n",
              "    }\n",
              "\n",
              "    [theme=dark] .colab-df-convert {\n",
              "      background-color: #3B4455;\n",
              "      fill: #D2E3FC;\n",
              "    }\n",
              "\n",
              "    [theme=dark] .colab-df-convert:hover {\n",
              "      background-color: #434B5C;\n",
              "      box-shadow: 0px 1px 3px 1px rgba(0, 0, 0, 0.15);\n",
              "      filter: drop-shadow(0px 1px 2px rgba(0, 0, 0, 0.3));\n",
              "      fill: #FFFFFF;\n",
              "    }\n",
              "  </style>\n",
              "\n",
              "      <script>\n",
              "        const buttonEl =\n",
              "          document.querySelector('#df-5fb5c066-7d9a-4265-95f2-448509c0d4a7 button.colab-df-convert');\n",
              "        buttonEl.style.display =\n",
              "          google.colab.kernel.accessAllowed ? 'block' : 'none';\n",
              "\n",
              "        async function convertToInteractive(key) {\n",
              "          const element = document.querySelector('#df-5fb5c066-7d9a-4265-95f2-448509c0d4a7');\n",
              "          const dataTable =\n",
              "            await google.colab.kernel.invokeFunction('convertToInteractive',\n",
              "                                                     [key], {});\n",
              "          if (!dataTable) return;\n",
              "\n",
              "          const docLinkHtml = 'Like what you see? Visit the ' +\n",
              "            '<a target=\"_blank\" href=https://colab.research.google.com/notebooks/data_table.ipynb>data table notebook</a>'\n",
              "            + ' to learn more about interactive tables.';\n",
              "          element.innerHTML = '';\n",
              "          dataTable['output_type'] = 'display_data';\n",
              "          await google.colab.output.renderOutput(dataTable, element);\n",
              "          const docLink = document.createElement('div');\n",
              "          docLink.innerHTML = docLinkHtml;\n",
              "          element.appendChild(docLink);\n",
              "        }\n",
              "      </script>\n",
              "    </div>\n",
              "  </div>\n",
              "  "
            ]
          },
          "metadata": {},
          "execution_count": 44
        }
      ]
    },
    {
      "cell_type": "code",
      "source": [
        "## 성별 월급 평균표 만들기\n",
        "\n",
        "# income 결측치 제거\n",
        "# sex별 분리\n",
        "# income 평균 구하기\n",
        "gender_income5 = welfare1.groupby('gender').agg({'income':['mean','median']})\n",
        "gender_income5"
      ],
      "metadata": {
        "colab": {
          "base_uri": "https://localhost:8080/",
          "height": 175
        },
        "id": "p1snKr9VKIzA",
        "outputId": "3011ec06-86bf-47ea-f189-83871a87608c"
      },
      "id": "p1snKr9VKIzA",
      "execution_count": null,
      "outputs": [
        {
          "output_type": "execute_result",
          "data": {
            "text/plain": [
              "            income       \n",
              "              mean median\n",
              "gender                   \n",
              "female  173.992234  174.0\n",
              "male    277.110248  270.0"
            ],
            "text/html": [
              "\n",
              "  <div id=\"df-834144a6-bf25-43c9-86ac-29bd78621789\">\n",
              "    <div class=\"colab-df-container\">\n",
              "      <div>\n",
              "<style scoped>\n",
              "    .dataframe tbody tr th:only-of-type {\n",
              "        vertical-align: middle;\n",
              "    }\n",
              "\n",
              "    .dataframe tbody tr th {\n",
              "        vertical-align: top;\n",
              "    }\n",
              "\n",
              "    .dataframe thead tr th {\n",
              "        text-align: left;\n",
              "    }\n",
              "\n",
              "    .dataframe thead tr:last-of-type th {\n",
              "        text-align: right;\n",
              "    }\n",
              "</style>\n",
              "<table border=\"1\" class=\"dataframe\">\n",
              "  <thead>\n",
              "    <tr>\n",
              "      <th></th>\n",
              "      <th colspan=\"2\" halign=\"left\">income</th>\n",
              "    </tr>\n",
              "    <tr>\n",
              "      <th></th>\n",
              "      <th>mean</th>\n",
              "      <th>median</th>\n",
              "    </tr>\n",
              "    <tr>\n",
              "      <th>gender</th>\n",
              "      <th></th>\n",
              "      <th></th>\n",
              "    </tr>\n",
              "  </thead>\n",
              "  <tbody>\n",
              "    <tr>\n",
              "      <th>female</th>\n",
              "      <td>173.992234</td>\n",
              "      <td>174.0</td>\n",
              "    </tr>\n",
              "    <tr>\n",
              "      <th>male</th>\n",
              "      <td>277.110248</td>\n",
              "      <td>270.0</td>\n",
              "    </tr>\n",
              "  </tbody>\n",
              "</table>\n",
              "</div>\n",
              "      <button class=\"colab-df-convert\" onclick=\"convertToInteractive('df-834144a6-bf25-43c9-86ac-29bd78621789')\"\n",
              "              title=\"Convert this dataframe to an interactive table.\"\n",
              "              style=\"display:none;\">\n",
              "        \n",
              "  <svg xmlns=\"http://www.w3.org/2000/svg\" height=\"24px\"viewBox=\"0 0 24 24\"\n",
              "       width=\"24px\">\n",
              "    <path d=\"M0 0h24v24H0V0z\" fill=\"none\"/>\n",
              "    <path d=\"M18.56 5.44l.94 2.06.94-2.06 2.06-.94-2.06-.94-.94-2.06-.94 2.06-2.06.94zm-11 1L8.5 8.5l.94-2.06 2.06-.94-2.06-.94L8.5 2.5l-.94 2.06-2.06.94zm10 10l.94 2.06.94-2.06 2.06-.94-2.06-.94-.94-2.06-.94 2.06-2.06.94z\"/><path d=\"M17.41 7.96l-1.37-1.37c-.4-.4-.92-.59-1.43-.59-.52 0-1.04.2-1.43.59L10.3 9.45l-7.72 7.72c-.78.78-.78 2.05 0 2.83L4 21.41c.39.39.9.59 1.41.59.51 0 1.02-.2 1.41-.59l7.78-7.78 2.81-2.81c.8-.78.8-2.07 0-2.86zM5.41 20L4 18.59l7.72-7.72 1.47 1.35L5.41 20z\"/>\n",
              "  </svg>\n",
              "      </button>\n",
              "      \n",
              "  <style>\n",
              "    .colab-df-container {\n",
              "      display:flex;\n",
              "      flex-wrap:wrap;\n",
              "      gap: 12px;\n",
              "    }\n",
              "\n",
              "    .colab-df-convert {\n",
              "      background-color: #E8F0FE;\n",
              "      border: none;\n",
              "      border-radius: 50%;\n",
              "      cursor: pointer;\n",
              "      display: none;\n",
              "      fill: #1967D2;\n",
              "      height: 32px;\n",
              "      padding: 0 0 0 0;\n",
              "      width: 32px;\n",
              "    }\n",
              "\n",
              "    .colab-df-convert:hover {\n",
              "      background-color: #E2EBFA;\n",
              "      box-shadow: 0px 1px 2px rgba(60, 64, 67, 0.3), 0px 1px 3px 1px rgba(60, 64, 67, 0.15);\n",
              "      fill: #174EA6;\n",
              "    }\n",
              "\n",
              "    [theme=dark] .colab-df-convert {\n",
              "      background-color: #3B4455;\n",
              "      fill: #D2E3FC;\n",
              "    }\n",
              "\n",
              "    [theme=dark] .colab-df-convert:hover {\n",
              "      background-color: #434B5C;\n",
              "      box-shadow: 0px 1px 3px 1px rgba(0, 0, 0, 0.15);\n",
              "      filter: drop-shadow(0px 1px 2px rgba(0, 0, 0, 0.3));\n",
              "      fill: #FFFFFF;\n",
              "    }\n",
              "  </style>\n",
              "\n",
              "      <script>\n",
              "        const buttonEl =\n",
              "          document.querySelector('#df-834144a6-bf25-43c9-86ac-29bd78621789 button.colab-df-convert');\n",
              "        buttonEl.style.display =\n",
              "          google.colab.kernel.accessAllowed ? 'block' : 'none';\n",
              "\n",
              "        async function convertToInteractive(key) {\n",
              "          const element = document.querySelector('#df-834144a6-bf25-43c9-86ac-29bd78621789');\n",
              "          const dataTable =\n",
              "            await google.colab.kernel.invokeFunction('convertToInteractive',\n",
              "                                                     [key], {});\n",
              "          if (!dataTable) return;\n",
              "\n",
              "          const docLinkHtml = 'Like what you see? Visit the ' +\n",
              "            '<a target=\"_blank\" href=https://colab.research.google.com/notebooks/data_table.ipynb>data table notebook</a>'\n",
              "            + ' to learn more about interactive tables.';\n",
              "          element.innerHTML = '';\n",
              "          dataTable['output_type'] = 'display_data';\n",
              "          await google.colab.output.renderOutput(dataTable, element);\n",
              "          const docLink = document.createElement('div');\n",
              "          docLink.innerHTML = docLinkHtml;\n",
              "          element.appendChild(docLink);\n",
              "        }\n",
              "      </script>\n",
              "    </div>\n",
              "  </div>\n",
              "  "
            ]
          },
          "metadata": {},
          "execution_count": 45
        }
      ]
    },
    {
      "cell_type": "markdown",
      "id": "a09e2e54",
      "metadata": {
        "id": "a09e2e54"
      },
      "source": [
        "#### 2. 그래프 만들기"
      ]
    },
    {
      "cell_type": "code",
      "execution_count": null,
      "id": "10f5d3f8",
      "metadata": {
        "eval": false,
        "id": "10f5d3f8",
        "outputId": "d43a8a96-0122-4491-acc5-5f3a984f3dc9",
        "colab": {
          "base_uri": "https://localhost:8080/",
          "height": 449
        }
      },
      "outputs": [
        {
          "output_type": "display_data",
          "data": {
            "text/plain": [
              "<Figure size 640x480 with 1 Axes>"
            ],
            "image/png": "[encoded data removed]"
          },
          "metadata": {}
        }
      ],
      "source": [
        "# 막대 그래프 만들기\n",
        "sns.barplot(data = gender_income4, x = 'gender', y = 'income')  \n",
        "plt.show()"
      ]
    },
    {
      "cell_type": "markdown",
      "id": "f86fab2e",
      "metadata": {
        "id": "f86fab2e"
      },
      "source": [
        "## 02 나이와 월급의 관계 - 몇 살 때 월급을 가장 많이 받을까?\n",
        "\n",
        "### 나이 변수 검토 및 전처리하기\n",
        "\n",
        "#### 1. 변수 검토하기"
      ]
    },
    {
      "cell_type": "code",
      "execution_count": null,
      "id": "861c3bf4",
      "metadata": {
        "id": "861c3bf4",
        "outputId": "163138be-fdd6-49e8-a437-4046227e885b",
        "colab": {
          "base_uri": "https://localhost:8080/"
        }
      },
      "outputs": [
        {
          "output_type": "execute_result",
          "data": {
            "text/plain": [
              "dtype('float64')"
            ]
          },
          "metadata": {},
          "execution_count": 47
        }
      ],
      "source": [
        "### 변수 타입 출력\n",
        "welfare1['birth'].dtypes  "
      ]
    },
    {
      "cell_type": "markdown",
      "source": [
        "#### 2. 전처리하기"
      ],
      "metadata": {
        "id": "iW5gnW1zDuVZ"
      },
      "id": "iW5gnW1zDuVZ"
    },
    {
      "cell_type": "code",
      "source": [
        "# 이상치 결측 처리\n",
        "welfare1.loc[welfare1['birth'] == 9999, 'birth'] = np.nan\n",
        "\n",
        "# 결측치 확인\n",
        "welfare1['birth'].isnull().sum()"
      ],
      "metadata": {
        "colab": {
          "base_uri": "https://localhost:8080/"
        },
        "id": "8ditWHcdF34Q",
        "outputId": "b987c161-f45e-47db-9c56-955719466632"
      },
      "id": "8ditWHcdF34Q",
      "execution_count": null,
      "outputs": [
        {
          "output_type": "execute_result",
          "data": {
            "text/plain": [
              "0"
            ]
          },
          "metadata": {},
          "execution_count": 48
        }
      ]
    },
    {
      "cell_type": "code",
      "execution_count": null,
      "id": "7604c8ff",
      "metadata": {
        "id": "7604c8ff",
        "outputId": "6244d439-7b3b-48c3-e923-e0c413fb5ded",
        "colab": {
          "base_uri": "https://localhost:8080/"
        }
      },
      "outputs": [
        {
          "output_type": "execute_result",
          "data": {
            "text/plain": [
              "count    4121.000000\n",
              "mean     1971.179568\n",
              "std        15.881793\n",
              "min      1928.000000\n",
              "25%      1960.000000\n",
              "50%      1973.000000\n",
              "75%      1983.000000\n",
              "max      2001.000000\n",
              "Name: birth, dtype: float64"
            ]
          },
          "metadata": {},
          "execution_count": 49
        }
      ],
      "source": [
        "### 요약 통계량 구하기\n",
        "welfare1['birth'].describe()  "
      ]
    },
    {
      "cell_type": "code",
      "execution_count": null,
      "id": "d79f323e",
      "metadata": {
        "eval": false,
        "id": "d79f323e",
        "outputId": "725033e8-c8cb-4cc6-ad16-1f25f17de3c5",
        "colab": {
          "base_uri": "https://localhost:8080/",
          "height": 449
        }
      },
      "outputs": [
        {
          "output_type": "display_data",
          "data": {
            "text/plain": [
              "<Figure size 640x480 with 1 Axes>"
            ],
            "image/png": "[encoded data removed]"
          },
          "metadata": {}
        }
      ],
      "source": [
        " # 히스토그램 --> 시각화\n",
        "sns.histplot(data = welfare1, x = 'birth', kde=True)  \n",
        "plt.show()"
      ]
    },
    {
      "cell_type": "markdown",
      "id": "757ff7ce",
      "metadata": {
        "id": "757ff7ce"
      },
      "source": [
        "#### 3. 파생변수 만들기 - 나이"
      ]
    },
    {
      "cell_type": "code",
      "execution_count": null,
      "id": "0e9de17c",
      "metadata": {
        "id": "0e9de17c",
        "outputId": "a6df9eee-b243-4ac1-c310-cf184a7e6082",
        "colab": {
          "base_uri": "https://localhost:8080/"
        }
      },
      "outputs": [
        {
          "output_type": "execute_result",
          "data": {
            "text/plain": [
              "count    4121.000000\n",
              "mean       48.820432\n",
              "std        15.881793\n",
              "min        19.000000\n",
              "25%        37.000000\n",
              "50%        47.000000\n",
              "75%        60.000000\n",
              "max        92.000000\n",
              "Name: age, dtype: float64"
            ]
          },
          "metadata": {},
          "execution_count": 51
        }
      ],
      "source": [
        "### 나이 변수 만들기\n",
        "welfare1 = welfare1.assign(age = 2019 - welfare1['birth'] + 1)  \n",
        "\n",
        "# 결과 확인하기 --> 요약 통계량 구하기\n",
        "welfare1['age'].describe()                                   "
      ]
    },
    {
      "cell_type": "code",
      "execution_count": null,
      "id": "9d09266a",
      "metadata": {
        "eval": false,
        "id": "9d09266a",
        "outputId": "d30927bb-2e20-4659-8103-fbc9de2f4c5b",
        "colab": {
          "base_uri": "https://localhost:8080/",
          "height": 449
        }
      },
      "outputs": [
        {
          "output_type": "display_data",
          "data": {
            "text/plain": [
              "<Figure size 640x480 with 1 Axes>"
            ],
            "image/png": "[encoded data removed]"
          },
          "metadata": {}
        }
      ],
      "source": [
        "# 연령 --> 히스토그램 --> 시각화\n",
        "sns.histplot(data = welfare1, x = 'age', kde=True) \n",
        "plt.show()"
      ]
    },
    {
      "cell_type": "markdown",
      "id": "834ef6ee",
      "metadata": {
        "id": "834ef6ee"
      },
      "source": [
        "### 나이와 월급의 관계 분석하기\n",
        "\n",
        "#### 1. 나이에 따른 월급 평균표 만들기"
      ]
    },
    {
      "cell_type": "code",
      "source": [
        "### 나이별 월급 평균표 만들기\n",
        "\n",
        "'''\n",
        "1. age --> groupby\n",
        "2. income 평균 구하기\n",
        "'''\n",
        "\n",
        "age_income = welfare1.groupby(by='age').agg({'income':'mean'})\n",
        "\n",
        "# 결과 시각화\n",
        "age_income"
      ],
      "metadata": {
        "colab": {
          "base_uri": "https://localhost:8080/",
          "height": 455
        },
        "id": "Y7aFC0K3JMUE",
        "outputId": "0032037d-2051-45ef-9943-9f2feaff55ef"
      },
      "id": "Y7aFC0K3JMUE",
      "execution_count": null,
      "outputs": [
        {
          "output_type": "execute_result",
          "data": {
            "text/plain": [
              "          income\n",
              "age             \n",
              "19.0  162.000000\n",
              "20.0  121.333333\n",
              "21.0  136.400000\n",
              "22.0  123.666667\n",
              "23.0  179.676471\n",
              "...          ...\n",
              "88.0   27.000000\n",
              "89.0   27.000000\n",
              "90.0   27.000000\n",
              "91.0   20.000000\n",
              "92.0   27.000000\n",
              "\n",
              "[74 rows x 1 columns]"
            ],
            "text/html": [
              "\n",
              "  <div id=\"df-2b42db3e-86e0-4ac9-9900-b51d77e36d58\">\n",
              "    <div class=\"colab-df-container\">\n",
              "      <div>\n",
              "<style scoped>\n",
              "    .dataframe tbody tr th:only-of-type {\n",
              "        vertical-align: middle;\n",
              "    }\n",
              "\n",
              "    .dataframe tbody tr th {\n",
              "        vertical-align: top;\n",
              "    }\n",
              "\n",
              "    .dataframe thead th {\n",
              "        text-align: right;\n",
              "    }\n",
              "</style>\n",
              "<table border=\"1\" class=\"dataframe\">\n",
              "  <thead>\n",
              "    <tr style=\"text-align: right;\">\n",
              "      <th></th>\n",
              "      <th>income</th>\n",
              "    </tr>\n",
              "    <tr>\n",
              "      <th>age</th>\n",
              "      <th></th>\n",
              "    </tr>\n",
              "  </thead>\n",
              "  <tbody>\n",
              "    <tr>\n",
              "      <th>19.0</th>\n",
              "      <td>162.000000</td>\n",
              "    </tr>\n",
              "    <tr>\n",
              "      <th>20.0</th>\n",
              "      <td>121.333333</td>\n",
              "    </tr>\n",
              "    <tr>\n",
              "      <th>21.0</th>\n",
              "      <td>136.400000</td>\n",
              "    </tr>\n",
              "    <tr>\n",
              "      <th>22.0</th>\n",
              "      <td>123.666667</td>\n",
              "    </tr>\n",
              "    <tr>\n",
              "      <th>23.0</th>\n",
              "      <td>179.676471</td>\n",
              "    </tr>\n",
              "    <tr>\n",
              "      <th>...</th>\n",
              "      <td>...</td>\n",
              "    </tr>\n",
              "    <tr>\n",
              "      <th>88.0</th>\n",
              "      <td>27.000000</td>\n",
              "    </tr>\n",
              "    <tr>\n",
              "      <th>89.0</th>\n",
              "      <td>27.000000</td>\n",
              "    </tr>\n",
              "    <tr>\n",
              "      <th>90.0</th>\n",
              "      <td>27.000000</td>\n",
              "    </tr>\n",
              "    <tr>\n",
              "      <th>91.0</th>\n",
              "      <td>20.000000</td>\n",
              "    </tr>\n",
              "    <tr>\n",
              "      <th>92.0</th>\n",
              "      <td>27.000000</td>\n",
              "    </tr>\n",
              "  </tbody>\n",
              "</table>\n",
              "<p>74 rows × 1 columns</p>\n",
              "</div>\n",
              "      <button class=\"colab-df-convert\" onclick=\"convertToInteractive('df-2b42db3e-86e0-4ac9-9900-b51d77e36d58')\"\n",
              "              title=\"Convert this dataframe to an interactive table.\"\n",
              "              style=\"display:none;\">\n",
              "        \n",
              "  <svg xmlns=\"http://www.w3.org/2000/svg\" height=\"24px\"viewBox=\"0 0 24 24\"\n",
              "       width=\"24px\">\n",
              "    <path d=\"M0 0h24v24H0V0z\" fill=\"none\"/>\n",
              "    <path d=\"M18.56 5.44l.94 2.06.94-2.06 2.06-.94-2.06-.94-.94-2.06-.94 2.06-2.06.94zm-11 1L8.5 8.5l.94-2.06 2.06-.94-2.06-.94L8.5 2.5l-.94 2.06-2.06.94zm10 10l.94 2.06.94-2.06 2.06-.94-2.06-.94-.94-2.06-.94 2.06-2.06.94z\"/><path d=\"M17.41 7.96l-1.37-1.37c-.4-.4-.92-.59-1.43-.59-.52 0-1.04.2-1.43.59L10.3 9.45l-7.72 7.72c-.78.78-.78 2.05 0 2.83L4 21.41c.39.39.9.59 1.41.59.51 0 1.02-.2 1.41-.59l7.78-7.78 2.81-2.81c.8-.78.8-2.07 0-2.86zM5.41 20L4 18.59l7.72-7.72 1.47 1.35L5.41 20z\"/>\n",
              "  </svg>\n",
              "      </button>\n",
              "      \n",
              "  <style>\n",
              "    .colab-df-container {\n",
              "      display:flex;\n",
              "      flex-wrap:wrap;\n",
              "      gap: 12px;\n",
              "    }\n",
              "\n",
              "    .colab-df-convert {\n",
              "      background-color: #E8F0FE;\n",
              "      border: none;\n",
              "      border-radius: 50%;\n",
              "      cursor: pointer;\n",
              "      display: none;\n",
              "      fill: #1967D2;\n",
              "      height: 32px;\n",
              "      padding: 0 0 0 0;\n",
              "      width: 32px;\n",
              "    }\n",
              "\n",
              "    .colab-df-convert:hover {\n",
              "      background-color: #E2EBFA;\n",
              "      box-shadow: 0px 1px 2px rgba(60, 64, 67, 0.3), 0px 1px 3px 1px rgba(60, 64, 67, 0.15);\n",
              "      fill: #174EA6;\n",
              "    }\n",
              "\n",
              "    [theme=dark] .colab-df-convert {\n",
              "      background-color: #3B4455;\n",
              "      fill: #D2E3FC;\n",
              "    }\n",
              "\n",
              "    [theme=dark] .colab-df-convert:hover {\n",
              "      background-color: #434B5C;\n",
              "      box-shadow: 0px 1px 3px 1px rgba(0, 0, 0, 0.15);\n",
              "      filter: drop-shadow(0px 1px 2px rgba(0, 0, 0, 0.3));\n",
              "      fill: #FFFFFF;\n",
              "    }\n",
              "  </style>\n",
              "\n",
              "      <script>\n",
              "        const buttonEl =\n",
              "          document.querySelector('#df-2b42db3e-86e0-4ac9-9900-b51d77e36d58 button.colab-df-convert');\n",
              "        buttonEl.style.display =\n",
              "          google.colab.kernel.accessAllowed ? 'block' : 'none';\n",
              "\n",
              "        async function convertToInteractive(key) {\n",
              "          const element = document.querySelector('#df-2b42db3e-86e0-4ac9-9900-b51d77e36d58');\n",
              "          const dataTable =\n",
              "            await google.colab.kernel.invokeFunction('convertToInteractive',\n",
              "                                                     [key], {});\n",
              "          if (!dataTable) return;\n",
              "\n",
              "          const docLinkHtml = 'Like what you see? Visit the ' +\n",
              "            '<a target=\"_blank\" href=https://colab.research.google.com/notebooks/data_table.ipynb>data table notebook</a>'\n",
              "            + ' to learn more about interactive tables.';\n",
              "          element.innerHTML = '';\n",
              "          dataTable['output_type'] = 'display_data';\n",
              "          await google.colab.output.renderOutput(dataTable, element);\n",
              "          const docLink = document.createElement('div');\n",
              "          docLink.innerHTML = docLinkHtml;\n",
              "          element.appendChild(docLink);\n",
              "        }\n",
              "      </script>\n",
              "    </div>\n",
              "  </div>\n",
              "  "
            ]
          },
          "metadata": {},
          "execution_count": 53
        }
      ]
    },
    {
      "cell_type": "markdown",
      "id": "4f2e5974",
      "metadata": {
        "id": "4f2e5974"
      },
      "source": [
        "#### 2.  그래프 만들기"
      ]
    },
    {
      "cell_type": "code",
      "execution_count": null,
      "id": "8ba9470c",
      "metadata": {
        "eval": false,
        "id": "8ba9470c",
        "outputId": "b1cc8998-0d3c-4721-cd84-d7ac95bc3d8c",
        "colab": {
          "base_uri": "https://localhost:8080/",
          "height": 449
        }
      },
      "outputs": [
        {
          "output_type": "display_data",
          "data": {
            "text/plain": [
              "<Figure size 640x480 with 1 Axes>"
            ],
            "image/png": "[encoded data removed]"
          },
          "metadata": {}
        }
      ],
      "source": [
        "### 선 그래프 만들기\n",
        "sns.lineplot(data = age_income, x = 'age', y = 'income')\n",
        "plt.show()  "
      ]
    },
    {
      "cell_type": "markdown",
      "id": "b5dbddcd",
      "metadata": {
        "id": "b5dbddcd"
      },
      "source": [
        "## 03 연령대에 따른 월급 차이 - 어떤 연령대의 월급이 가장 많을까?\n",
        "\n",
        "### 연령대 변수 검토 및 전처리하기\n",
        "\n",
        "#### 파생변수 만들기 - 연령대\n"
      ]
    },
    {
      "cell_type": "code",
      "execution_count": null,
      "id": "434111bf",
      "metadata": {
        "id": "434111bf",
        "outputId": "3ce0baca-436f-41ff-d115-eb692956192b",
        "colab": {
          "base_uri": "https://localhost:8080/"
        }
      },
      "outputs": [
        {
          "output_type": "execute_result",
          "data": {
            "text/plain": [
              "dtype('float64')"
            ]
          },
          "metadata": {},
          "execution_count": 55
        }
      ],
      "source": [
        "# 나이 --> 변수 타입 출력\n",
        "welfare1['age'].dtypes"
      ]
    },
    {
      "cell_type": "code",
      "execution_count": null,
      "id": "14d84e59",
      "metadata": {
        "id": "14d84e59",
        "outputId": "cff33cbe-939c-4264-add1-99134ecf95d7",
        "colab": {
          "base_uri": "https://localhost:8080/"
        }
      },
      "outputs": [
        {
          "output_type": "execute_result",
          "data": {
            "text/plain": [
              "middle    2541\n",
              "old       1067\n",
              "young      513\n",
              "Name: age_group, dtype: int64"
            ]
          },
          "metadata": {},
          "execution_count": 56
        }
      ],
      "source": [
        "### 연령대 변수 만들기\n",
        "welfare1 = welfare1.assign(age_group = np.where(welfare1['age'] <  30, 'young', np.where(welfare1['age'] <= 59, 'middle', 'old')))\n",
        "\n",
        "# 항목별 빈도수 구하기\n",
        "welfare1['age_group'].value_counts()"
      ]
    },
    {
      "cell_type": "code",
      "source": [
        "### 연령별 빈도수 --> 막대 그래프 만들기\n",
        "sns.countplot(data = welfare1, x = 'age_group')\n",
        "plt.show()"
      ],
      "metadata": {
        "colab": {
          "base_uri": "https://localhost:8080/",
          "height": 449
        },
        "id": "atggsiYvNOzF",
        "outputId": "f9090d2d-800c-4a1e-9027-c60fa172e6a5"
      },
      "id": "atggsiYvNOzF",
      "execution_count": null,
      "outputs": [
        {
          "output_type": "display_data",
          "data": {
            "text/plain": [
              "<Figure size 640x480 with 1 Axes>"
            ],
            "image/png": "[encoded data removed]"
          },
          "metadata": {}
        }
      ]
    },
    {
      "cell_type": "markdown",
      "id": "31542b89",
      "metadata": {
        "id": "31542b89"
      },
      "source": [
        "### 연령대에 따른 월급 차이 분석하기\n",
        "\n",
        "#### 1. 연령대별 월급 평균표 만들기"
      ]
    },
    {
      "cell_type": "code",
      "source": [
        "### 연령대별 월급 평균표 만들기\n",
        "\n",
        "'''\n",
        "1. age_group --> groupby\n",
        "2. income 평균 구하기\n",
        "'''\n",
        "\n",
        "age_group_income = welfare1.groupby('age_group', as_index = False).agg({'income':'mean'})\n",
        "\n",
        "# 결과 확인하기\n",
        "age_group_income"
      ],
      "metadata": {
        "colab": {
          "base_uri": "https://localhost:8080/",
          "height": 143
        },
        "id": "aQW4KKHDN4jd",
        "outputId": "dab2665c-f341-4d08-cf31-4f312e588330"
      },
      "id": "aQW4KKHDN4jd",
      "execution_count": null,
      "outputs": [
        {
          "output_type": "execute_result",
          "data": {
            "text/plain": [
              "  age_group      income\n",
              "0    middle  268.201889\n",
              "1       old  126.295220\n",
              "2     young  194.908382"
            ],
            "text/html": [
              "\n",
              "  <div id=\"df-01f420b3-536b-42d4-816b-0c48acedd1ba\">\n",
              "    <div class=\"colab-df-container\">\n",
              "      <div>\n",
              "<style scoped>\n",
              "    .dataframe tbody tr th:only-of-type {\n",
              "        vertical-align: middle;\n",
              "    }\n",
              "\n",
              "    .dataframe tbody tr th {\n",
              "        vertical-align: top;\n",
              "    }\n",
              "\n",
              "    .dataframe thead th {\n",
              "        text-align: right;\n",
              "    }\n",
              "</style>\n",
              "<table border=\"1\" class=\"dataframe\">\n",
              "  <thead>\n",
              "    <tr style=\"text-align: right;\">\n",
              "      <th></th>\n",
              "      <th>age_group</th>\n",
              "      <th>income</th>\n",
              "    </tr>\n",
              "  </thead>\n",
              "  <tbody>\n",
              "    <tr>\n",
              "      <th>0</th>\n",
              "      <td>middle</td>\n",
              "      <td>268.201889</td>\n",
              "    </tr>\n",
              "    <tr>\n",
              "      <th>1</th>\n",
              "      <td>old</td>\n",
              "      <td>126.295220</td>\n",
              "    </tr>\n",
              "    <tr>\n",
              "      <th>2</th>\n",
              "      <td>young</td>\n",
              "      <td>194.908382</td>\n",
              "    </tr>\n",
              "  </tbody>\n",
              "</table>\n",
              "</div>\n",
              "      <button class=\"colab-df-convert\" onclick=\"convertToInteractive('df-01f420b3-536b-42d4-816b-0c48acedd1ba')\"\n",
              "              title=\"Convert this dataframe to an interactive table.\"\n",
              "              style=\"display:none;\">\n",
              "        \n",
              "  <svg xmlns=\"http://www.w3.org/2000/svg\" height=\"24px\"viewBox=\"0 0 24 24\"\n",
              "       width=\"24px\">\n",
              "    <path d=\"M0 0h24v24H0V0z\" fill=\"none\"/>\n",
              "    <path d=\"M18.56 5.44l.94 2.06.94-2.06 2.06-.94-2.06-.94-.94-2.06-.94 2.06-2.06.94zm-11 1L8.5 8.5l.94-2.06 2.06-.94-2.06-.94L8.5 2.5l-.94 2.06-2.06.94zm10 10l.94 2.06.94-2.06 2.06-.94-2.06-.94-.94-2.06-.94 2.06-2.06.94z\"/><path d=\"M17.41 7.96l-1.37-1.37c-.4-.4-.92-.59-1.43-.59-.52 0-1.04.2-1.43.59L10.3 9.45l-7.72 7.72c-.78.78-.78 2.05 0 2.83L4 21.41c.39.39.9.59 1.41.59.51 0 1.02-.2 1.41-.59l7.78-7.78 2.81-2.81c.8-.78.8-2.07 0-2.86zM5.41 20L4 18.59l7.72-7.72 1.47 1.35L5.41 20z\"/>\n",
              "  </svg>\n",
              "      </button>\n",
              "      \n",
              "  <style>\n",
              "    .colab-df-container {\n",
              "      display:flex;\n",
              "      flex-wrap:wrap;\n",
              "      gap: 12px;\n",
              "    }\n",
              "\n",
              "    .colab-df-convert {\n",
              "      background-color: #E8F0FE;\n",
              "      border: none;\n",
              "      border-radius: 50%;\n",
              "      cursor: pointer;\n",
              "      display: none;\n",
              "      fill: #1967D2;\n",
              "      height: 32px;\n",
              "      padding: 0 0 0 0;\n",
              "      width: 32px;\n",
              "    }\n",
              "\n",
              "    .colab-df-convert:hover {\n",
              "      background-color: #E2EBFA;\n",
              "      box-shadow: 0px 1px 2px rgba(60, 64, 67, 0.3), 0px 1px 3px 1px rgba(60, 64, 67, 0.15);\n",
              "      fill: #174EA6;\n",
              "    }\n",
              "\n",
              "    [theme=dark] .colab-df-convert {\n",
              "      background-color: #3B4455;\n",
              "      fill: #D2E3FC;\n",
              "    }\n",
              "\n",
              "    [theme=dark] .colab-df-convert:hover {\n",
              "      background-color: #434B5C;\n",
              "      box-shadow: 0px 1px 3px 1px rgba(0, 0, 0, 0.15);\n",
              "      filter: drop-shadow(0px 1px 2px rgba(0, 0, 0, 0.3));\n",
              "      fill: #FFFFFF;\n",
              "    }\n",
              "  </style>\n",
              "\n",
              "      <script>\n",
              "        const buttonEl =\n",
              "          document.querySelector('#df-01f420b3-536b-42d4-816b-0c48acedd1ba button.colab-df-convert');\n",
              "        buttonEl.style.display =\n",
              "          google.colab.kernel.accessAllowed ? 'block' : 'none';\n",
              "\n",
              "        async function convertToInteractive(key) {\n",
              "          const element = document.querySelector('#df-01f420b3-536b-42d4-816b-0c48acedd1ba');\n",
              "          const dataTable =\n",
              "            await google.colab.kernel.invokeFunction('convertToInteractive',\n",
              "                                                     [key], {});\n",
              "          if (!dataTable) return;\n",
              "\n",
              "          const docLinkHtml = 'Like what you see? Visit the ' +\n",
              "            '<a target=\"_blank\" href=https://colab.research.google.com/notebooks/data_table.ipynb>data table notebook</a>'\n",
              "            + ' to learn more about interactive tables.';\n",
              "          element.innerHTML = '';\n",
              "          dataTable['output_type'] = 'display_data';\n",
              "          await google.colab.output.renderOutput(dataTable, element);\n",
              "          const docLink = document.createElement('div');\n",
              "          docLink.innerHTML = docLinkHtml;\n",
              "          element.appendChild(docLink);\n",
              "        }\n",
              "      </script>\n",
              "    </div>\n",
              "  </div>\n",
              "  "
            ]
          },
          "metadata": {},
          "execution_count": 58
        }
      ]
    },
    {
      "cell_type": "markdown",
      "id": "99b63226",
      "metadata": {
        "id": "99b63226"
      },
      "source": [
        "#### 2. 그래프 만들기"
      ]
    },
    {
      "cell_type": "code",
      "execution_count": null,
      "id": "6bd6ae9f",
      "metadata": {
        "eval": false,
        "name": "p_ageg_income",
        "id": "6bd6ae9f",
        "outputId": "0f01f008-0ade-4086-bfc7-51d3ef62ac7a",
        "colab": {
          "base_uri": "https://localhost:8080/",
          "height": 449
        }
      },
      "outputs": [
        {
          "output_type": "display_data",
          "data": {
            "text/plain": [
              "<Figure size 640x480 with 1 Axes>"
            ],
            "image/png": "[encoded data removed]"
          },
          "metadata": {}
        }
      ],
      "source": [
        "### 연령대별 월급 평균표 --> 막대 그래프 --> 시각화\n",
        "sns.barplot(data = age_group_income, x = 'age_group', y = 'income')\n",
        "plt.show()"
      ]
    },
    {
      "cell_type": "code",
      "execution_count": null,
      "id": "1c6e69b3",
      "metadata": {
        "eval": false,
        "name": "p_ageg_income_reorder",
        "id": "1c6e69b3",
        "outputId": "1141eb37-6d69-4116-db6c-c9c15a34d7e2",
        "colab": {
          "base_uri": "https://localhost:8080/",
          "height": 449
        }
      },
      "outputs": [
        {
          "output_type": "display_data",
          "data": {
            "text/plain": [
              "<Figure size 640x480 with 1 Axes>"
            ],
            "image/png": "[encoded data removed]"
          },
          "metadata": {}
        }
      ],
      "source": [
        "### 막대 그래프 정렬하기\n",
        "sns.barplot(data = age_group_income, x = 'age_group', y = 'income', order = ['young', 'middle', 'old'])\n",
        "plt.show()"
      ]
    },
    {
      "cell_type": "markdown",
      "id": "bf9714f1",
      "metadata": {
        "id": "bf9714f1"
      },
      "source": [
        "## 04 연령대 및 성별 월급 차이 - 성별 월급 차이는 연령대별로 다를까?\n",
        "\n",
        "### 연령대 및 성별 월급 차이 분석하기\n",
        "\n",
        "#### 1. 연령대 및 성별 월급 평균표 만들기"
      ]
    },
    {
      "cell_type": "code",
      "source": [
        "### 연령대 및 성별 월급 평균표 만들기\n",
        "\n",
        "'''\n",
        "1. age_group, gender --> groupby\n",
        "2. income 평균 구하기\n",
        "'''\n",
        "\n",
        "gender_income = welfare1.groupby(['age_group', 'gender'], as_index = False).agg({'income':'mean'})\n",
        "\n",
        "# 결과 확인하기\n",
        "gender_income"
      ],
      "metadata": {
        "colab": {
          "base_uri": "https://localhost:8080/",
          "height": 237
        },
        "id": "jkpu93RXP2YT",
        "outputId": "2eecf4bb-6c3e-4ad8-88d2-f50d8b98b85f"
      },
      "id": "jkpu93RXP2YT",
      "execution_count": null,
      "outputs": [
        {
          "output_type": "execute_result",
          "data": {
            "text/plain": [
              "  age_group  gender      income\n",
              "0    middle  female  211.727778\n",
              "1    middle    male  323.750195\n",
              "2       old  female   88.433225\n",
              "3       old    male  177.613687\n",
              "4     young  female  189.822222\n",
              "5     young    male  203.000000"
            ],
            "text/html": [
              "\n",
              "  <div id=\"df-4188a3f5-f11b-4ba9-8ed6-fb3d489fdfc6\">\n",
              "    <div class=\"colab-df-container\">\n",
              "      <div>\n",
              "<style scoped>\n",
              "    .dataframe tbody tr th:only-of-type {\n",
              "        vertical-align: middle;\n",
              "    }\n",
              "\n",
              "    .dataframe tbody tr th {\n",
              "        vertical-align: top;\n",
              "    }\n",
              "\n",
              "    .dataframe thead th {\n",
              "        text-align: right;\n",
              "    }\n",
              "</style>\n",
              "<table border=\"1\" class=\"dataframe\">\n",
              "  <thead>\n",
              "    <tr style=\"text-align: right;\">\n",
              "      <th></th>\n",
              "      <th>age_group</th>\n",
              "      <th>gender</th>\n",
              "      <th>income</th>\n",
              "    </tr>\n",
              "  </thead>\n",
              "  <tbody>\n",
              "    <tr>\n",
              "      <th>0</th>\n",
              "      <td>middle</td>\n",
              "      <td>female</td>\n",
              "      <td>211.727778</td>\n",
              "    </tr>\n",
              "    <tr>\n",
              "      <th>1</th>\n",
              "      <td>middle</td>\n",
              "      <td>male</td>\n",
              "      <td>323.750195</td>\n",
              "    </tr>\n",
              "    <tr>\n",
              "      <th>2</th>\n",
              "      <td>old</td>\n",
              "      <td>female</td>\n",
              "      <td>88.433225</td>\n",
              "    </tr>\n",
              "    <tr>\n",
              "      <th>3</th>\n",
              "      <td>old</td>\n",
              "      <td>male</td>\n",
              "      <td>177.613687</td>\n",
              "    </tr>\n",
              "    <tr>\n",
              "      <th>4</th>\n",
              "      <td>young</td>\n",
              "      <td>female</td>\n",
              "      <td>189.822222</td>\n",
              "    </tr>\n",
              "    <tr>\n",
              "      <th>5</th>\n",
              "      <td>young</td>\n",
              "      <td>male</td>\n",
              "      <td>203.000000</td>\n",
              "    </tr>\n",
              "  </tbody>\n",
              "</table>\n",
              "</div>\n",
              "      <button class=\"colab-df-convert\" onclick=\"convertToInteractive('df-4188a3f5-f11b-4ba9-8ed6-fb3d489fdfc6')\"\n",
              "              title=\"Convert this dataframe to an interactive table.\"\n",
              "              style=\"display:none;\">\n",
              "        \n",
              "  <svg xmlns=\"http://www.w3.org/2000/svg\" height=\"24px\"viewBox=\"0 0 24 24\"\n",
              "       width=\"24px\">\n",
              "    <path d=\"M0 0h24v24H0V0z\" fill=\"none\"/>\n",
              "    <path d=\"M18.56 5.44l.94 2.06.94-2.06 2.06-.94-2.06-.94-.94-2.06-.94 2.06-2.06.94zm-11 1L8.5 8.5l.94-2.06 2.06-.94-2.06-.94L8.5 2.5l-.94 2.06-2.06.94zm10 10l.94 2.06.94-2.06 2.06-.94-2.06-.94-.94-2.06-.94 2.06-2.06.94z\"/><path d=\"M17.41 7.96l-1.37-1.37c-.4-.4-.92-.59-1.43-.59-.52 0-1.04.2-1.43.59L10.3 9.45l-7.72 7.72c-.78.78-.78 2.05 0 2.83L4 21.41c.39.39.9.59 1.41.59.51 0 1.02-.2 1.41-.59l7.78-7.78 2.81-2.81c.8-.78.8-2.07 0-2.86zM5.41 20L4 18.59l7.72-7.72 1.47 1.35L5.41 20z\"/>\n",
              "  </svg>\n",
              "      </button>\n",
              "      \n",
              "  <style>\n",
              "    .colab-df-container {\n",
              "      display:flex;\n",
              "      flex-wrap:wrap;\n",
              "      gap: 12px;\n",
              "    }\n",
              "\n",
              "    .colab-df-convert {\n",
              "      background-color: #E8F0FE;\n",
              "      border: none;\n",
              "      border-radius: 50%;\n",
              "      cursor: pointer;\n",
              "      display: none;\n",
              "      fill: #1967D2;\n",
              "      height: 32px;\n",
              "      padding: 0 0 0 0;\n",
              "      width: 32px;\n",
              "    }\n",
              "\n",
              "    .colab-df-convert:hover {\n",
              "      background-color: #E2EBFA;\n",
              "      box-shadow: 0px 1px 2px rgba(60, 64, 67, 0.3), 0px 1px 3px 1px rgba(60, 64, 67, 0.15);\n",
              "      fill: #174EA6;\n",
              "    }\n",
              "\n",
              "    [theme=dark] .colab-df-convert {\n",
              "      background-color: #3B4455;\n",
              "      fill: #D2E3FC;\n",
              "    }\n",
              "\n",
              "    [theme=dark] .colab-df-convert:hover {\n",
              "      background-color: #434B5C;\n",
              "      box-shadow: 0px 1px 3px 1px rgba(0, 0, 0, 0.15);\n",
              "      filter: drop-shadow(0px 1px 2px rgba(0, 0, 0, 0.3));\n",
              "      fill: #FFFFFF;\n",
              "    }\n",
              "  </style>\n",
              "\n",
              "      <script>\n",
              "        const buttonEl =\n",
              "          document.querySelector('#df-4188a3f5-f11b-4ba9-8ed6-fb3d489fdfc6 button.colab-df-convert');\n",
              "        buttonEl.style.display =\n",
              "          google.colab.kernel.accessAllowed ? 'block' : 'none';\n",
              "\n",
              "        async function convertToInteractive(key) {\n",
              "          const element = document.querySelector('#df-4188a3f5-f11b-4ba9-8ed6-fb3d489fdfc6');\n",
              "          const dataTable =\n",
              "            await google.colab.kernel.invokeFunction('convertToInteractive',\n",
              "                                                     [key], {});\n",
              "          if (!dataTable) return;\n",
              "\n",
              "          const docLinkHtml = 'Like what you see? Visit the ' +\n",
              "            '<a target=\"_blank\" href=https://colab.research.google.com/notebooks/data_table.ipynb>data table notebook</a>'\n",
              "            + ' to learn more about interactive tables.';\n",
              "          element.innerHTML = '';\n",
              "          dataTable['output_type'] = 'display_data';\n",
              "          await google.colab.output.renderOutput(dataTable, element);\n",
              "          const docLink = document.createElement('div');\n",
              "          docLink.innerHTML = docLinkHtml;\n",
              "          element.appendChild(docLink);\n",
              "        }\n",
              "      </script>\n",
              "    </div>\n",
              "  </div>\n",
              "  "
            ]
          },
          "metadata": {},
          "execution_count": 61
        }
      ]
    },
    {
      "cell_type": "markdown",
      "id": "19c531e2",
      "metadata": {
        "id": "19c531e2"
      },
      "source": [
        "#### 2. 그래프 만들기"
      ]
    },
    {
      "cell_type": "code",
      "source": [
        "# 연령대 및 성별 월급 평균표 --> 막대 그래프 --> 시각화\n",
        "sns.barplot(data = gender_income, x = 'age_group', y = 'income', hue = 'gender', order = ['young', 'middle', 'old'])\n",
        "plt.show()"
      ],
      "metadata": {
        "colab": {
          "base_uri": "https://localhost:8080/",
          "height": 449
        },
        "id": "Lih0S5CoQrXT",
        "outputId": "63c0d41e-50c9-44ab-aa09-c3847463c8c7"
      },
      "id": "Lih0S5CoQrXT",
      "execution_count": null,
      "outputs": [
        {
          "output_type": "display_data",
          "data": {
            "text/plain": [
              "<Figure size 640x480 with 1 Axes>"
            ],
            "image/png": "[encoded data removed]"
          },
          "metadata": {}
        }
      ]
    },
    {
      "cell_type": "markdown",
      "id": "a0f92cda",
      "metadata": {
        "id": "a0f92cda"
      },
      "source": [
        "### 나이 및 성별 월급 차이 분석하기"
      ]
    },
    {
      "cell_type": "code",
      "source": [
        "### 나이 및 성별 월급 평균표 만들기\n",
        "\n",
        "'''\n",
        "1. age, gender --> groupby\n",
        "2. income 평균 구하기\n",
        "'''\n",
        "\n",
        "gender_age = welfare1.groupby(['age', 'gender'], as_index = False).agg({'income':'mean'})\n",
        "\n",
        "# 결과 확인하기\n",
        "gender_age"
      ],
      "metadata": {
        "colab": {
          "base_uri": "https://localhost:8080/",
          "height": 423
        },
        "id": "1dbsotLgSvOa",
        "outputId": "760f44b3-8e69-4c28-cc06-6f9be7df362d"
      },
      "id": "1dbsotLgSvOa",
      "execution_count": null,
      "outputs": [
        {
          "output_type": "execute_result",
          "data": {
            "text/plain": [
              "      age  gender      income\n",
              "0    19.0    male  162.000000\n",
              "1    20.0  female   87.666667\n",
              "2    20.0    male  155.000000\n",
              "3    21.0  female  124.000000\n",
              "4    21.0    male  186.000000\n",
              "..    ...     ...         ...\n",
              "140  89.0    male   27.000000\n",
              "141  90.0  female   27.000000\n",
              "142  91.0  female   27.000000\n",
              "143  91.0    male   13.000000\n",
              "144  92.0  female   27.000000\n",
              "\n",
              "[145 rows x 3 columns]"
            ],
            "text/html": [
              "\n",
              "  <div id=\"df-088cf588-e4ba-4abf-ab9f-5c94d3cee8ce\">\n",
              "    <div class=\"colab-df-container\">\n",
              "      <div>\n",
              "<style scoped>\n",
              "    .dataframe tbody tr th:only-of-type {\n",
              "        vertical-align: middle;\n",
              "    }\n",
              "\n",
              "    .dataframe tbody tr th {\n",
              "        vertical-align: top;\n",
              "    }\n",
              "\n",
              "    .dataframe thead th {\n",
              "        text-align: right;\n",
              "    }\n",
              "</style>\n",
              "<table border=\"1\" class=\"dataframe\">\n",
              "  <thead>\n",
              "    <tr style=\"text-align: right;\">\n",
              "      <th></th>\n",
              "      <th>age</th>\n",
              "      <th>gender</th>\n",
              "      <th>income</th>\n",
              "    </tr>\n",
              "  </thead>\n",
              "  <tbody>\n",
              "    <tr>\n",
              "      <th>0</th>\n",
              "      <td>19.0</td>\n",
              "      <td>male</td>\n",
              "      <td>162.000000</td>\n",
              "    </tr>\n",
              "    <tr>\n",
              "      <th>1</th>\n",
              "      <td>20.0</td>\n",
              "      <td>female</td>\n",
              "      <td>87.666667</td>\n",
              "    </tr>\n",
              "    <tr>\n",
              "      <th>2</th>\n",
              "      <td>20.0</td>\n",
              "      <td>male</td>\n",
              "      <td>155.000000</td>\n",
              "    </tr>\n",
              "    <tr>\n",
              "      <th>3</th>\n",
              "      <td>21.0</td>\n",
              "      <td>female</td>\n",
              "      <td>124.000000</td>\n",
              "    </tr>\n",
              "    <tr>\n",
              "      <th>4</th>\n",
              "      <td>21.0</td>\n",
              "      <td>male</td>\n",
              "      <td>186.000000</td>\n",
              "    </tr>\n",
              "    <tr>\n",
              "      <th>...</th>\n",
              "      <td>...</td>\n",
              "      <td>...</td>\n",
              "      <td>...</td>\n",
              "    </tr>\n",
              "    <tr>\n",
              "      <th>140</th>\n",
              "      <td>89.0</td>\n",
              "      <td>male</td>\n",
              "      <td>27.000000</td>\n",
              "    </tr>\n",
              "    <tr>\n",
              "      <th>141</th>\n",
              "      <td>90.0</td>\n",
              "      <td>female</td>\n",
              "      <td>27.000000</td>\n",
              "    </tr>\n",
              "    <tr>\n",
              "      <th>142</th>\n",
              "      <td>91.0</td>\n",
              "      <td>female</td>\n",
              "      <td>27.000000</td>\n",
              "    </tr>\n",
              "    <tr>\n",
              "      <th>143</th>\n",
              "      <td>91.0</td>\n",
              "      <td>male</td>\n",
              "      <td>13.000000</td>\n",
              "    </tr>\n",
              "    <tr>\n",
              "      <th>144</th>\n",
              "      <td>92.0</td>\n",
              "      <td>female</td>\n",
              "      <td>27.000000</td>\n",
              "    </tr>\n",
              "  </tbody>\n",
              "</table>\n",
              "<p>145 rows × 3 columns</p>\n",
              "</div>\n",
              "      <button class=\"colab-df-convert\" onclick=\"convertToInteractive('df-088cf588-e4ba-4abf-ab9f-5c94d3cee8ce')\"\n",
              "              title=\"Convert this dataframe to an interactive table.\"\n",
              "              style=\"display:none;\">\n",
              "        \n",
              "  <svg xmlns=\"http://www.w3.org/2000/svg\" height=\"24px\"viewBox=\"0 0 24 24\"\n",
              "       width=\"24px\">\n",
              "    <path d=\"M0 0h24v24H0V0z\" fill=\"none\"/>\n",
              "    <path d=\"M18.56 5.44l.94 2.06.94-2.06 2.06-.94-2.06-.94-.94-2.06-.94 2.06-2.06.94zm-11 1L8.5 8.5l.94-2.06 2.06-.94-2.06-.94L8.5 2.5l-.94 2.06-2.06.94zm10 10l.94 2.06.94-2.06 2.06-.94-2.06-.94-.94-2.06-.94 2.06-2.06.94z\"/><path d=\"M17.41 7.96l-1.37-1.37c-.4-.4-.92-.59-1.43-.59-.52 0-1.04.2-1.43.59L10.3 9.45l-7.72 7.72c-.78.78-.78 2.05 0 2.83L4 21.41c.39.39.9.59 1.41.59.51 0 1.02-.2 1.41-.59l7.78-7.78 2.81-2.81c.8-.78.8-2.07 0-2.86zM5.41 20L4 18.59l7.72-7.72 1.47 1.35L5.41 20z\"/>\n",
              "  </svg>\n",
              "      </button>\n",
              "      \n",
              "  <style>\n",
              "    .colab-df-container {\n",
              "      display:flex;\n",
              "      flex-wrap:wrap;\n",
              "      gap: 12px;\n",
              "    }\n",
              "\n",
              "    .colab-df-convert {\n",
              "      background-color: #E8F0FE;\n",
              "      border: none;\n",
              "      border-radius: 50%;\n",
              "      cursor: pointer;\n",
              "      display: none;\n",
              "      fill: #1967D2;\n",
              "      height: 32px;\n",
              "      padding: 0 0 0 0;\n",
              "      width: 32px;\n",
              "    }\n",
              "\n",
              "    .colab-df-convert:hover {\n",
              "      background-color: #E2EBFA;\n",
              "      box-shadow: 0px 1px 2px rgba(60, 64, 67, 0.3), 0px 1px 3px 1px rgba(60, 64, 67, 0.15);\n",
              "      fill: #174EA6;\n",
              "    }\n",
              "\n",
              "    [theme=dark] .colab-df-convert {\n",
              "      background-color: #3B4455;\n",
              "      fill: #D2E3FC;\n",
              "    }\n",
              "\n",
              "    [theme=dark] .colab-df-convert:hover {\n",
              "      background-color: #434B5C;\n",
              "      box-shadow: 0px 1px 3px 1px rgba(0, 0, 0, 0.15);\n",
              "      filter: drop-shadow(0px 1px 2px rgba(0, 0, 0, 0.3));\n",
              "      fill: #FFFFFF;\n",
              "    }\n",
              "  </style>\n",
              "\n",
              "      <script>\n",
              "        const buttonEl =\n",
              "          document.querySelector('#df-088cf588-e4ba-4abf-ab9f-5c94d3cee8ce button.colab-df-convert');\n",
              "        buttonEl.style.display =\n",
              "          google.colab.kernel.accessAllowed ? 'block' : 'none';\n",
              "\n",
              "        async function convertToInteractive(key) {\n",
              "          const element = document.querySelector('#df-088cf588-e4ba-4abf-ab9f-5c94d3cee8ce');\n",
              "          const dataTable =\n",
              "            await google.colab.kernel.invokeFunction('convertToInteractive',\n",
              "                                                     [key], {});\n",
              "          if (!dataTable) return;\n",
              "\n",
              "          const docLinkHtml = 'Like what you see? Visit the ' +\n",
              "            '<a target=\"_blank\" href=https://colab.research.google.com/notebooks/data_table.ipynb>data table notebook</a>'\n",
              "            + ' to learn more about interactive tables.';\n",
              "          element.innerHTML = '';\n",
              "          dataTable['output_type'] = 'display_data';\n",
              "          await google.colab.output.renderOutput(dataTable, element);\n",
              "          const docLink = document.createElement('div');\n",
              "          docLink.innerHTML = docLinkHtml;\n",
              "          element.appendChild(docLink);\n",
              "        }\n",
              "      </script>\n",
              "    </div>\n",
              "  </div>\n",
              "  "
            ]
          },
          "metadata": {},
          "execution_count": 63
        }
      ]
    },
    {
      "cell_type": "code",
      "execution_count": null,
      "id": "4e3d6d81",
      "metadata": {
        "eval": false,
        "name": "p_sex_age",
        "id": "4e3d6d81",
        "outputId": "515dab67-c7ba-4c73-843f-286c8bf1c8e0",
        "colab": {
          "base_uri": "https://localhost:8080/",
          "height": 449
        }
      },
      "outputs": [
        {
          "output_type": "display_data",
          "data": {
            "text/plain": [
              "<Figure size 640x480 with 1 Axes>"
            ],
            "image/png": "[encoded data removed]"
          },
          "metadata": {}
        }
      ],
      "source": [
        "### 나이 및 성별 월급 평균표 --> 선 그래프 --> 시각화\n",
        "sns.lineplot(data = gender_age, x = 'age', y = 'income', hue = 'gender')\n",
        "plt.show()"
      ]
    },
    {
      "cell_type": "markdown",
      "id": "9ff6f8a8",
      "metadata": {
        "id": "9ff6f8a8"
      },
      "source": [
        "## 05 직업별 월급 차이 - 어떤 직업이 월급을 가장 많이 받을까?\n",
        "\n",
        "### 직업 변수 검토 및 전처리하기\n",
        "\n",
        "#### 1. 변수 검토하기"
      ]
    },
    {
      "cell_type": "code",
      "execution_count": null,
      "id": "e7ce726a",
      "metadata": {
        "id": "e7ce726a",
        "outputId": "aa8b236d-a2c8-45d4-ec7a-b28b907701c3",
        "colab": {
          "base_uri": "https://localhost:8080/"
        }
      },
      "outputs": [
        {
          "output_type": "execute_result",
          "data": {
            "text/plain": [
              "dtype('float64')"
            ]
          },
          "metadata": {},
          "execution_count": 68
        }
      ],
      "source": [
        "### 변수 타입 출력\n",
        "welfare1['code_job'].dtypes  "
      ]
    },
    {
      "cell_type": "code",
      "execution_count": null,
      "id": "ec5e7ea9",
      "metadata": {
        "id": "ec5e7ea9",
        "outputId": "9eaf51b6-273a-4842-e69a-a48e6c07fdf6",
        "colab": {
          "base_uri": "https://localhost:8080/"
        }
      },
      "outputs": [
        {
          "output_type": "execute_result",
          "data": {
            "text/plain": [
              "941.0    353\n",
              "312.0    197\n",
              "930.0    196\n",
              "313.0    193\n",
              "521.0    165\n",
              "        ... \n",
              "122.0      1\n",
              "742.0      1\n",
              "861.0      1\n",
              "112.0      1\n",
              "872.0      1\n",
              "Name: code_job, Length: 145, dtype: int64"
            ]
          },
          "metadata": {},
          "execution_count": 70
        }
      ],
      "source": [
        "### 항목별 빈도수 구하기\n",
        "welfare1['code_job'].value_counts()  "
      ]
    },
    {
      "cell_type": "markdown",
      "id": "fe8ece07",
      "metadata": {
        "id": "fe8ece07"
      },
      "source": [
        "#### 2. 전처리하기"
      ]
    },
    {
      "cell_type": "code",
      "execution_count": null,
      "id": "c189147d",
      "metadata": {
        "eval": false,
        "id": "c189147d",
        "outputId": "98e9c43a-c292-4f0f-cad5-c182263b89ed",
        "colab": {
          "base_uri": "https://localhost:8080/",
          "height": 423
        }
      },
      "outputs": [
        {
          "output_type": "execute_result",
          "data": {
            "text/plain": [
              "     code_job                     job\n",
              "0         111  의회 의원∙고위 공무원 및 공공단체 임원\n",
              "1         112                기업 고위 임원\n",
              "2         121          행정 및 경영 지원 관리자\n",
              "3         122         마케팅 및 광고∙홍보 관리자\n",
              "4         131       연구∙교육 및 법률 관련 관리자\n",
              "..        ...                     ...\n",
              "151       992      계기∙자판기 및 주차 관리 종사자\n",
              "152       999        기타 서비스 관련 단순 종사자\n",
              "153      1001                      장교\n",
              "154      1002                     부사관\n",
              "155      1009                   기타 군인\n",
              "\n",
              "[156 rows x 2 columns]"
            ],
            "text/html": [
              "\n",
              "  <div id=\"df-edfa4379-9f95-4002-827c-c48c35ced821\">\n",
              "    <div class=\"colab-df-container\">\n",
              "      <div>\n",
              "<style scoped>\n",
              "    .dataframe tbody tr th:only-of-type {\n",
              "        vertical-align: middle;\n",
              "    }\n",
              "\n",
              "    .dataframe tbody tr th {\n",
              "        vertical-align: top;\n",
              "    }\n",
              "\n",
              "    .dataframe thead th {\n",
              "        text-align: right;\n",
              "    }\n",
              "</style>\n",
              "<table border=\"1\" class=\"dataframe\">\n",
              "  <thead>\n",
              "    <tr style=\"text-align: right;\">\n",
              "      <th></th>\n",
              "      <th>code_job</th>\n",
              "      <th>job</th>\n",
              "    </tr>\n",
              "  </thead>\n",
              "  <tbody>\n",
              "    <tr>\n",
              "      <th>0</th>\n",
              "      <td>111</td>\n",
              "      <td>의회 의원∙고위 공무원 및 공공단체 임원</td>\n",
              "    </tr>\n",
              "    <tr>\n",
              "      <th>1</th>\n",
              "      <td>112</td>\n",
              "      <td>기업 고위 임원</td>\n",
              "    </tr>\n",
              "    <tr>\n",
              "      <th>2</th>\n",
              "      <td>121</td>\n",
              "      <td>행정 및 경영 지원 관리자</td>\n",
              "    </tr>\n",
              "    <tr>\n",
              "      <th>3</th>\n",
              "      <td>122</td>\n",
              "      <td>마케팅 및 광고∙홍보 관리자</td>\n",
              "    </tr>\n",
              "    <tr>\n",
              "      <th>4</th>\n",
              "      <td>131</td>\n",
              "      <td>연구∙교육 및 법률 관련 관리자</td>\n",
              "    </tr>\n",
              "    <tr>\n",
              "      <th>...</th>\n",
              "      <td>...</td>\n",
              "      <td>...</td>\n",
              "    </tr>\n",
              "    <tr>\n",
              "      <th>151</th>\n",
              "      <td>992</td>\n",
              "      <td>계기∙자판기 및 주차 관리 종사자</td>\n",
              "    </tr>\n",
              "    <tr>\n",
              "      <th>152</th>\n",
              "      <td>999</td>\n",
              "      <td>기타 서비스 관련 단순 종사자</td>\n",
              "    </tr>\n",
              "    <tr>\n",
              "      <th>153</th>\n",
              "      <td>1001</td>\n",
              "      <td>장교</td>\n",
              "    </tr>\n",
              "    <tr>\n",
              "      <th>154</th>\n",
              "      <td>1002</td>\n",
              "      <td>부사관</td>\n",
              "    </tr>\n",
              "    <tr>\n",
              "      <th>155</th>\n",
              "      <td>1009</td>\n",
              "      <td>기타 군인</td>\n",
              "    </tr>\n",
              "  </tbody>\n",
              "</table>\n",
              "<p>156 rows × 2 columns</p>\n",
              "</div>\n",
              "      <button class=\"colab-df-convert\" onclick=\"convertToInteractive('df-edfa4379-9f95-4002-827c-c48c35ced821')\"\n",
              "              title=\"Convert this dataframe to an interactive table.\"\n",
              "              style=\"display:none;\">\n",
              "        \n",
              "  <svg xmlns=\"http://www.w3.org/2000/svg\" height=\"24px\"viewBox=\"0 0 24 24\"\n",
              "       width=\"24px\">\n",
              "    <path d=\"M0 0h24v24H0V0z\" fill=\"none\"/>\n",
              "    <path d=\"M18.56 5.44l.94 2.06.94-2.06 2.06-.94-2.06-.94-.94-2.06-.94 2.06-2.06.94zm-11 1L8.5 8.5l.94-2.06 2.06-.94-2.06-.94L8.5 2.5l-.94 2.06-2.06.94zm10 10l.94 2.06.94-2.06 2.06-.94-2.06-.94-.94-2.06-.94 2.06-2.06.94z\"/><path d=\"M17.41 7.96l-1.37-1.37c-.4-.4-.92-.59-1.43-.59-.52 0-1.04.2-1.43.59L10.3 9.45l-7.72 7.72c-.78.78-.78 2.05 0 2.83L4 21.41c.39.39.9.59 1.41.59.51 0 1.02-.2 1.41-.59l7.78-7.78 2.81-2.81c.8-.78.8-2.07 0-2.86zM5.41 20L4 18.59l7.72-7.72 1.47 1.35L5.41 20z\"/>\n",
              "  </svg>\n",
              "      </button>\n",
              "      \n",
              "  <style>\n",
              "    .colab-df-container {\n",
              "      display:flex;\n",
              "      flex-wrap:wrap;\n",
              "      gap: 12px;\n",
              "    }\n",
              "\n",
              "    .colab-df-convert {\n",
              "      background-color: #E8F0FE;\n",
              "      border: none;\n",
              "      border-radius: 50%;\n",
              "      cursor: pointer;\n",
              "      display: none;\n",
              "      fill: #1967D2;\n",
              "      height: 32px;\n",
              "      padding: 0 0 0 0;\n",
              "      width: 32px;\n",
              "    }\n",
              "\n",
              "    .colab-df-convert:hover {\n",
              "      background-color: #E2EBFA;\n",
              "      box-shadow: 0px 1px 2px rgba(60, 64, 67, 0.3), 0px 1px 3px 1px rgba(60, 64, 67, 0.15);\n",
              "      fill: #174EA6;\n",
              "    }\n",
              "\n",
              "    [theme=dark] .colab-df-convert {\n",
              "      background-color: #3B4455;\n",
              "      fill: #D2E3FC;\n",
              "    }\n",
              "\n",
              "    [theme=dark] .colab-df-convert:hover {\n",
              "      background-color: #434B5C;\n",
              "      box-shadow: 0px 1px 3px 1px rgba(0, 0, 0, 0.15);\n",
              "      filter: drop-shadow(0px 1px 2px rgba(0, 0, 0, 0.3));\n",
              "      fill: #FFFFFF;\n",
              "    }\n",
              "  </style>\n",
              "\n",
              "      <script>\n",
              "        const buttonEl =\n",
              "          document.querySelector('#df-edfa4379-9f95-4002-827c-c48c35ced821 button.colab-df-convert');\n",
              "        buttonEl.style.display =\n",
              "          google.colab.kernel.accessAllowed ? 'block' : 'none';\n",
              "\n",
              "        async function convertToInteractive(key) {\n",
              "          const element = document.querySelector('#df-edfa4379-9f95-4002-827c-c48c35ced821');\n",
              "          const dataTable =\n",
              "            await google.colab.kernel.invokeFunction('convertToInteractive',\n",
              "                                                     [key], {});\n",
              "          if (!dataTable) return;\n",
              "\n",
              "          const docLinkHtml = 'Like what you see? Visit the ' +\n",
              "            '<a target=\"_blank\" href=https://colab.research.google.com/notebooks/data_table.ipynb>data table notebook</a>'\n",
              "            + ' to learn more about interactive tables.';\n",
              "          element.innerHTML = '';\n",
              "          dataTable['output_type'] = 'display_data';\n",
              "          await google.colab.output.renderOutput(dataTable, element);\n",
              "          const docLink = document.createElement('div');\n",
              "          docLink.innerHTML = docLinkHtml;\n",
              "          element.appendChild(docLink);\n",
              "        }\n",
              "      </script>\n",
              "    </div>\n",
              "  </div>\n",
              "  "
            ]
          },
          "metadata": {},
          "execution_count": 76
        }
      ],
      "source": [
        "### Koweps_Codebook_2019.xlsx file --> 직종코드 sheet 불러오기\n",
        "list_job = pd.read_excel('Koweps_Codebook_2019.xlsx', sheet_name = '직종코드')\n",
        "list_job"
      ]
    },
    {
      "cell_type": "code",
      "execution_count": null,
      "id": "587b97ce",
      "metadata": {
        "id": "587b97ce",
        "colab": {
          "base_uri": "https://localhost:8080/"
        },
        "outputId": "b016d835-dd20-41e7-ddcb-60ce6e651c31"
      },
      "outputs": [
        {
          "output_type": "execute_result",
          "data": {
            "text/plain": [
              "0       762.0\n",
              "1       855.0\n",
              "2       941.0\n",
              "3       999.0\n",
              "4       312.0\n",
              "        ...  \n",
              "4116    874.0\n",
              "4117    930.0\n",
              "4118    941.0\n",
              "4119    854.0\n",
              "4120    246.0\n",
              "Name: code_job, Length: 4121, dtype: float64"
            ]
          },
          "metadata": {},
          "execution_count": 82
        }
      ],
      "source": [
        "### welfare1에 list_job 결합하기\n",
        "welfare1 = welfare1.merge(list_job, how = 'left', on = 'code_job')"
      ]
    },
    {
      "cell_type": "code",
      "execution_count": null,
      "id": "ba88cbdf",
      "metadata": {
        "id": "ba88cbdf",
        "outputId": "50ae5ad3-4bc0-4d48-9174-b114230ec8cd",
        "colab": {
          "base_uri": "https://localhost:8080/",
          "height": 423
        }
      },
      "outputs": [
        {
          "output_type": "execute_result",
          "data": {
            "text/plain": [
              "      code_job               job\n",
              "0        762.0               전기공\n",
              "1        855.0       금속기계 부품 조립원\n",
              "2        941.0       청소원 및 환경미화원\n",
              "3        999.0  기타 서비스 관련 단순 종사자\n",
              "4        312.0         경영 관련 사무원\n",
              "...        ...               ...\n",
              "4116     874.0      물품 이동 장비 조작원\n",
              "4117     930.0      제조 관련 단순 종사자\n",
              "4118     941.0       청소원 및 환경미화원\n",
              "4119     854.0  운송차량 및 기계 관련 조립원\n",
              "4120     246.0      보건 의료 관련 종사자\n",
              "\n",
              "[4121 rows x 2 columns]"
            ],
            "text/html": [
              "\n",
              "  <div id=\"df-90ba399d-0a6e-48db-8a2e-ecdd2010f225\">\n",
              "    <div class=\"colab-df-container\">\n",
              "      <div>\n",
              "<style scoped>\n",
              "    .dataframe tbody tr th:only-of-type {\n",
              "        vertical-align: middle;\n",
              "    }\n",
              "\n",
              "    .dataframe tbody tr th {\n",
              "        vertical-align: top;\n",
              "    }\n",
              "\n",
              "    .dataframe thead th {\n",
              "        text-align: right;\n",
              "    }\n",
              "</style>\n",
              "<table border=\"1\" class=\"dataframe\">\n",
              "  <thead>\n",
              "    <tr style=\"text-align: right;\">\n",
              "      <th></th>\n",
              "      <th>code_job</th>\n",
              "      <th>job</th>\n",
              "    </tr>\n",
              "  </thead>\n",
              "  <tbody>\n",
              "    <tr>\n",
              "      <th>0</th>\n",
              "      <td>762.0</td>\n",
              "      <td>전기공</td>\n",
              "    </tr>\n",
              "    <tr>\n",
              "      <th>1</th>\n",
              "      <td>855.0</td>\n",
              "      <td>금속기계 부품 조립원</td>\n",
              "    </tr>\n",
              "    <tr>\n",
              "      <th>2</th>\n",
              "      <td>941.0</td>\n",
              "      <td>청소원 및 환경미화원</td>\n",
              "    </tr>\n",
              "    <tr>\n",
              "      <th>3</th>\n",
              "      <td>999.0</td>\n",
              "      <td>기타 서비스 관련 단순 종사자</td>\n",
              "    </tr>\n",
              "    <tr>\n",
              "      <th>4</th>\n",
              "      <td>312.0</td>\n",
              "      <td>경영 관련 사무원</td>\n",
              "    </tr>\n",
              "    <tr>\n",
              "      <th>...</th>\n",
              "      <td>...</td>\n",
              "      <td>...</td>\n",
              "    </tr>\n",
              "    <tr>\n",
              "      <th>4116</th>\n",
              "      <td>874.0</td>\n",
              "      <td>물품 이동 장비 조작원</td>\n",
              "    </tr>\n",
              "    <tr>\n",
              "      <th>4117</th>\n",
              "      <td>930.0</td>\n",
              "      <td>제조 관련 단순 종사자</td>\n",
              "    </tr>\n",
              "    <tr>\n",
              "      <th>4118</th>\n",
              "      <td>941.0</td>\n",
              "      <td>청소원 및 환경미화원</td>\n",
              "    </tr>\n",
              "    <tr>\n",
              "      <th>4119</th>\n",
              "      <td>854.0</td>\n",
              "      <td>운송차량 및 기계 관련 조립원</td>\n",
              "    </tr>\n",
              "    <tr>\n",
              "      <th>4120</th>\n",
              "      <td>246.0</td>\n",
              "      <td>보건 의료 관련 종사자</td>\n",
              "    </tr>\n",
              "  </tbody>\n",
              "</table>\n",
              "<p>4121 rows × 2 columns</p>\n",
              "</div>\n",
              "      <button class=\"colab-df-convert\" onclick=\"convertToInteractive('df-90ba399d-0a6e-48db-8a2e-ecdd2010f225')\"\n",
              "              title=\"Convert this dataframe to an interactive table.\"\n",
              "              style=\"display:none;\">\n",
              "        \n",
              "  <svg xmlns=\"http://www.w3.org/2000/svg\" height=\"24px\"viewBox=\"0 0 24 24\"\n",
              "       width=\"24px\">\n",
              "    <path d=\"M0 0h24v24H0V0z\" fill=\"none\"/>\n",
              "    <path d=\"M18.56 5.44l.94 2.06.94-2.06 2.06-.94-2.06-.94-.94-2.06-.94 2.06-2.06.94zm-11 1L8.5 8.5l.94-2.06 2.06-.94-2.06-.94L8.5 2.5l-.94 2.06-2.06.94zm10 10l.94 2.06.94-2.06 2.06-.94-2.06-.94-.94-2.06-.94 2.06-2.06.94z\"/><path d=\"M17.41 7.96l-1.37-1.37c-.4-.4-.92-.59-1.43-.59-.52 0-1.04.2-1.43.59L10.3 9.45l-7.72 7.72c-.78.78-.78 2.05 0 2.83L4 21.41c.39.39.9.59 1.41.59.51 0 1.02-.2 1.41-.59l7.78-7.78 2.81-2.81c.8-.78.8-2.07 0-2.86zM5.41 20L4 18.59l7.72-7.72 1.47 1.35L5.41 20z\"/>\n",
              "  </svg>\n",
              "      </button>\n",
              "      \n",
              "  <style>\n",
              "    .colab-df-container {\n",
              "      display:flex;\n",
              "      flex-wrap:wrap;\n",
              "      gap: 12px;\n",
              "    }\n",
              "\n",
              "    .colab-df-convert {\n",
              "      background-color: #E8F0FE;\n",
              "      border: none;\n",
              "      border-radius: 50%;\n",
              "      cursor: pointer;\n",
              "      display: none;\n",
              "      fill: #1967D2;\n",
              "      height: 32px;\n",
              "      padding: 0 0 0 0;\n",
              "      width: 32px;\n",
              "    }\n",
              "\n",
              "    .colab-df-convert:hover {\n",
              "      background-color: #E2EBFA;\n",
              "      box-shadow: 0px 1px 2px rgba(60, 64, 67, 0.3), 0px 1px 3px 1px rgba(60, 64, 67, 0.15);\n",
              "      fill: #174EA6;\n",
              "    }\n",
              "\n",
              "    [theme=dark] .colab-df-convert {\n",
              "      background-color: #3B4455;\n",
              "      fill: #D2E3FC;\n",
              "    }\n",
              "\n",
              "    [theme=dark] .colab-df-convert:hover {\n",
              "      background-color: #434B5C;\n",
              "      box-shadow: 0px 1px 3px 1px rgba(0, 0, 0, 0.15);\n",
              "      filter: drop-shadow(0px 1px 2px rgba(0, 0, 0, 0.3));\n",
              "      fill: #FFFFFF;\n",
              "    }\n",
              "  </style>\n",
              "\n",
              "      <script>\n",
              "        const buttonEl =\n",
              "          document.querySelector('#df-90ba399d-0a6e-48db-8a2e-ecdd2010f225 button.colab-df-convert');\n",
              "        buttonEl.style.display =\n",
              "          google.colab.kernel.accessAllowed ? 'block' : 'none';\n",
              "\n",
              "        async function convertToInteractive(key) {\n",
              "          const element = document.querySelector('#df-90ba399d-0a6e-48db-8a2e-ecdd2010f225');\n",
              "          const dataTable =\n",
              "            await google.colab.kernel.invokeFunction('convertToInteractive',\n",
              "                                                     [key], {});\n",
              "          if (!dataTable) return;\n",
              "\n",
              "          const docLinkHtml = 'Like what you see? Visit the ' +\n",
              "            '<a target=\"_blank\" href=https://colab.research.google.com/notebooks/data_table.ipynb>data table notebook</a>'\n",
              "            + ' to learn more about interactive tables.';\n",
              "          element.innerHTML = '';\n",
              "          dataTable['output_type'] = 'display_data';\n",
              "          await google.colab.output.renderOutput(dataTable, element);\n",
              "          const docLink = document.createElement('div');\n",
              "          docLink.innerHTML = docLinkHtml;\n",
              "          element.appendChild(docLink);\n",
              "        }\n",
              "      </script>\n",
              "    </div>\n",
              "  </div>\n",
              "  "
            ]
          },
          "metadata": {},
          "execution_count": 84
        }
      ],
      "source": [
        "### 결합의 결과 확인하기 --> code_job 결측치 제거하고 code_job, job 출력\n",
        "welfare1.dropna(subset = ['code_job'])[['code_job', 'job']]"
      ]
    },
    {
      "cell_type": "markdown",
      "id": "3208eef7",
      "metadata": {
        "id": "3208eef7"
      },
      "source": [
        "### 직업별 월급 차이 분석하기"
      ]
    },
    {
      "cell_type": "markdown",
      "source": [
        "#### 1. 직업별 월급 평균표 만들기"
      ],
      "metadata": {
        "id": "3Om0q5ScKwST"
      },
      "id": "3Om0q5ScKwST"
    },
    {
      "cell_type": "code",
      "execution_count": null,
      "id": "0f57616d",
      "metadata": {
        "id": "0f57616d",
        "outputId": "ec87b0da-e950-4a6d-9911-9b88f2a28348",
        "colab": {
          "base_uri": "https://localhost:8080/",
          "height": 455
        }
      },
      "outputs": [
        {
          "output_type": "execute_result",
          "data": {
            "text/plain": [
              "                             income\n",
              "job                                \n",
              "가사 및 육아 도우미               92.455882\n",
              "간호사                      254.154930\n",
              "감정∙기술영업및중개관련종사자          312.357143\n",
              "건물 관리원 및 검표원             168.375000\n",
              "건설 및 광업 단순 종사자           261.975000\n",
              "...                             ...\n",
              "화학∙고무 및 플라스틱 제품 생산기 조작원  289.000000\n",
              "화학공학 기술자 및 시험원           325.750000\n",
              "환경∙청소 및 경비 관련 관리자        201.000000\n",
              "환경공학∙가스·에너지 기술자 및 시험원    212.500000\n",
              "회계 및 경리 사무원              258.398964\n",
              "\n",
              "[145 rows x 1 columns]"
            ],
            "text/html": [
              "\n",
              "  <div id=\"df-f5a19e5a-1340-42c7-8bbb-5ad0844f24b7\">\n",
              "    <div class=\"colab-df-container\">\n",
              "      <div>\n",
              "<style scoped>\n",
              "    .dataframe tbody tr th:only-of-type {\n",
              "        vertical-align: middle;\n",
              "    }\n",
              "\n",
              "    .dataframe tbody tr th {\n",
              "        vertical-align: top;\n",
              "    }\n",
              "\n",
              "    .dataframe thead th {\n",
              "        text-align: right;\n",
              "    }\n",
              "</style>\n",
              "<table border=\"1\" class=\"dataframe\">\n",
              "  <thead>\n",
              "    <tr style=\"text-align: right;\">\n",
              "      <th></th>\n",
              "      <th>income</th>\n",
              "    </tr>\n",
              "    <tr>\n",
              "      <th>job</th>\n",
              "      <th></th>\n",
              "    </tr>\n",
              "  </thead>\n",
              "  <tbody>\n",
              "    <tr>\n",
              "      <th>가사 및 육아 도우미</th>\n",
              "      <td>92.455882</td>\n",
              "    </tr>\n",
              "    <tr>\n",
              "      <th>간호사</th>\n",
              "      <td>254.154930</td>\n",
              "    </tr>\n",
              "    <tr>\n",
              "      <th>감정∙기술영업및중개관련종사자</th>\n",
              "      <td>312.357143</td>\n",
              "    </tr>\n",
              "    <tr>\n",
              "      <th>건물 관리원 및 검표원</th>\n",
              "      <td>168.375000</td>\n",
              "    </tr>\n",
              "    <tr>\n",
              "      <th>건설 및 광업 단순 종사자</th>\n",
              "      <td>261.975000</td>\n",
              "    </tr>\n",
              "    <tr>\n",
              "      <th>...</th>\n",
              "      <td>...</td>\n",
              "    </tr>\n",
              "    <tr>\n",
              "      <th>화학∙고무 및 플라스틱 제품 생산기 조작원</th>\n",
              "      <td>289.000000</td>\n",
              "    </tr>\n",
              "    <tr>\n",
              "      <th>화학공학 기술자 및 시험원</th>\n",
              "      <td>325.750000</td>\n",
              "    </tr>\n",
              "    <tr>\n",
              "      <th>환경∙청소 및 경비 관련 관리자</th>\n",
              "      <td>201.000000</td>\n",
              "    </tr>\n",
              "    <tr>\n",
              "      <th>환경공학∙가스·에너지 기술자 및 시험원</th>\n",
              "      <td>212.500000</td>\n",
              "    </tr>\n",
              "    <tr>\n",
              "      <th>회계 및 경리 사무원</th>\n",
              "      <td>258.398964</td>\n",
              "    </tr>\n",
              "  </tbody>\n",
              "</table>\n",
              "<p>145 rows × 1 columns</p>\n",
              "</div>\n",
              "      <button class=\"colab-df-convert\" onclick=\"convertToInteractive('df-f5a19e5a-1340-42c7-8bbb-5ad0844f24b7')\"\n",
              "              title=\"Convert this dataframe to an interactive table.\"\n",
              "              style=\"display:none;\">\n",
              "        \n",
              "  <svg xmlns=\"http://www.w3.org/2000/svg\" height=\"24px\"viewBox=\"0 0 24 24\"\n",
              "       width=\"24px\">\n",
              "    <path d=\"M0 0h24v24H0V0z\" fill=\"none\"/>\n",
              "    <path d=\"M18.56 5.44l.94 2.06.94-2.06 2.06-.94-2.06-.94-.94-2.06-.94 2.06-2.06.94zm-11 1L8.5 8.5l.94-2.06 2.06-.94-2.06-.94L8.5 2.5l-.94 2.06-2.06.94zm10 10l.94 2.06.94-2.06 2.06-.94-2.06-.94-.94-2.06-.94 2.06-2.06.94z\"/><path d=\"M17.41 7.96l-1.37-1.37c-.4-.4-.92-.59-1.43-.59-.52 0-1.04.2-1.43.59L10.3 9.45l-7.72 7.72c-.78.78-.78 2.05 0 2.83L4 21.41c.39.39.9.59 1.41.59.51 0 1.02-.2 1.41-.59l7.78-7.78 2.81-2.81c.8-.78.8-2.07 0-2.86zM5.41 20L4 18.59l7.72-7.72 1.47 1.35L5.41 20z\"/>\n",
              "  </svg>\n",
              "      </button>\n",
              "      \n",
              "  <style>\n",
              "    .colab-df-container {\n",
              "      display:flex;\n",
              "      flex-wrap:wrap;\n",
              "      gap: 12px;\n",
              "    }\n",
              "\n",
              "    .colab-df-convert {\n",
              "      background-color: #E8F0FE;\n",
              "      border: none;\n",
              "      border-radius: 50%;\n",
              "      cursor: pointer;\n",
              "      display: none;\n",
              "      fill: #1967D2;\n",
              "      height: 32px;\n",
              "      padding: 0 0 0 0;\n",
              "      width: 32px;\n",
              "    }\n",
              "\n",
              "    .colab-df-convert:hover {\n",
              "      background-color: #E2EBFA;\n",
              "      box-shadow: 0px 1px 2px rgba(60, 64, 67, 0.3), 0px 1px 3px 1px rgba(60, 64, 67, 0.15);\n",
              "      fill: #174EA6;\n",
              "    }\n",
              "\n",
              "    [theme=dark] .colab-df-convert {\n",
              "      background-color: #3B4455;\n",
              "      fill: #D2E3FC;\n",
              "    }\n",
              "\n",
              "    [theme=dark] .colab-df-convert:hover {\n",
              "      background-color: #434B5C;\n",
              "      box-shadow: 0px 1px 3px 1px rgba(0, 0, 0, 0.15);\n",
              "      filter: drop-shadow(0px 1px 2px rgba(0, 0, 0, 0.3));\n",
              "      fill: #FFFFFF;\n",
              "    }\n",
              "  </style>\n",
              "\n",
              "      <script>\n",
              "        const buttonEl =\n",
              "          document.querySelector('#df-f5a19e5a-1340-42c7-8bbb-5ad0844f24b7 button.colab-df-convert');\n",
              "        buttonEl.style.display =\n",
              "          google.colab.kernel.accessAllowed ? 'block' : 'none';\n",
              "\n",
              "        async function convertToInteractive(key) {\n",
              "          const element = document.querySelector('#df-f5a19e5a-1340-42c7-8bbb-5ad0844f24b7');\n",
              "          const dataTable =\n",
              "            await google.colab.kernel.invokeFunction('convertToInteractive',\n",
              "                                                     [key], {});\n",
              "          if (!dataTable) return;\n",
              "\n",
              "          const docLinkHtml = 'Like what you see? Visit the ' +\n",
              "            '<a target=\"_blank\" href=https://colab.research.google.com/notebooks/data_table.ipynb>data table notebook</a>'\n",
              "            + ' to learn more about interactive tables.';\n",
              "          element.innerHTML = '';\n",
              "          dataTable['output_type'] = 'display_data';\n",
              "          await google.colab.output.renderOutput(dataTable, element);\n",
              "          const docLink = document.createElement('div');\n",
              "          docLink.innerHTML = docLinkHtml;\n",
              "          element.appendChild(docLink);\n",
              "        }\n",
              "      </script>\n",
              "    </div>\n",
              "  </div>\n",
              "  "
            ]
          },
          "metadata": {},
          "execution_count": 91
        }
      ],
      "source": [
        "### 직업별 월급 평균표 만들기\n",
        "\n",
        "'''\n",
        "1. job --> groupby\n",
        "2. income 평균 구하기\n",
        "'''\n",
        "\n",
        "job_income = welfare1.groupby(by=['job']).agg({'income':'mean'})\n",
        "# job_income = welfare1.groupby('job', as_index = False).agg({'income':'mean'})\n",
        "\n",
        "# 결과 확인하기\n",
        "job_income"
      ]
    },
    {
      "cell_type": "markdown",
      "id": "06329f1b",
      "metadata": {
        "id": "06329f1b"
      },
      "source": [
        "#### 2. 월급이 많은 직업 추출하기"
      ]
    },
    {
      "cell_type": "code",
      "execution_count": null,
      "id": "90974f3a",
      "metadata": {
        "id": "90974f3a",
        "outputId": "e92e4633-4983-485c-eaa1-66272781c059",
        "colab": {
          "base_uri": "https://localhost:8080/",
          "height": 394
        }
      },
      "outputs": [
        {
          "output_type": "execute_result",
          "data": {
            "text/plain": [
              "                        income\n",
              "job                           \n",
              "약사 및 한약사            515.000000\n",
              "연구∙교육 및 법률 관련 관리자   466.000000\n",
              "상품 기획∙홍보 및 조사 전문가   452.600000\n",
              "장교                  447.000000\n",
              "전기∙전자공학 기술자 및 시험원   429.714286\n",
              "부사관                 417.545455\n",
              "건설구조관련기능종사자         412.666667\n",
              "경찰∙소방 및 교도 관련 종사자   404.206897\n",
              "기타 전문 서비스 관리자       376.000000\n",
              "금속∙재료 공학 기술자 및 시험원  376.000000"
            ],
            "text/html": [
              "\n",
              "  <div id=\"df-8c0221bb-f7fb-4efb-9e28-d26e1e4ee768\">\n",
              "    <div class=\"colab-df-container\">\n",
              "      <div>\n",
              "<style scoped>\n",
              "    .dataframe tbody tr th:only-of-type {\n",
              "        vertical-align: middle;\n",
              "    }\n",
              "\n",
              "    .dataframe tbody tr th {\n",
              "        vertical-align: top;\n",
              "    }\n",
              "\n",
              "    .dataframe thead th {\n",
              "        text-align: right;\n",
              "    }\n",
              "</style>\n",
              "<table border=\"1\" class=\"dataframe\">\n",
              "  <thead>\n",
              "    <tr style=\"text-align: right;\">\n",
              "      <th></th>\n",
              "      <th>income</th>\n",
              "    </tr>\n",
              "    <tr>\n",
              "      <th>job</th>\n",
              "      <th></th>\n",
              "    </tr>\n",
              "  </thead>\n",
              "  <tbody>\n",
              "    <tr>\n",
              "      <th>약사 및 한약사</th>\n",
              "      <td>515.000000</td>\n",
              "    </tr>\n",
              "    <tr>\n",
              "      <th>연구∙교육 및 법률 관련 관리자</th>\n",
              "      <td>466.000000</td>\n",
              "    </tr>\n",
              "    <tr>\n",
              "      <th>상품 기획∙홍보 및 조사 전문가</th>\n",
              "      <td>452.600000</td>\n",
              "    </tr>\n",
              "    <tr>\n",
              "      <th>장교</th>\n",
              "      <td>447.000000</td>\n",
              "    </tr>\n",
              "    <tr>\n",
              "      <th>전기∙전자공학 기술자 및 시험원</th>\n",
              "      <td>429.714286</td>\n",
              "    </tr>\n",
              "    <tr>\n",
              "      <th>부사관</th>\n",
              "      <td>417.545455</td>\n",
              "    </tr>\n",
              "    <tr>\n",
              "      <th>건설구조관련기능종사자</th>\n",
              "      <td>412.666667</td>\n",
              "    </tr>\n",
              "    <tr>\n",
              "      <th>경찰∙소방 및 교도 관련 종사자</th>\n",
              "      <td>404.206897</td>\n",
              "    </tr>\n",
              "    <tr>\n",
              "      <th>기타 전문 서비스 관리자</th>\n",
              "      <td>376.000000</td>\n",
              "    </tr>\n",
              "    <tr>\n",
              "      <th>금속∙재료 공학 기술자 및 시험원</th>\n",
              "      <td>376.000000</td>\n",
              "    </tr>\n",
              "  </tbody>\n",
              "</table>\n",
              "</div>\n",
              "      <button class=\"colab-df-convert\" onclick=\"convertToInteractive('df-8c0221bb-f7fb-4efb-9e28-d26e1e4ee768')\"\n",
              "              title=\"Convert this dataframe to an interactive table.\"\n",
              "              style=\"display:none;\">\n",
              "        \n",
              "  <svg xmlns=\"http://www.w3.org/2000/svg\" height=\"24px\"viewBox=\"0 0 24 24\"\n",
              "       width=\"24px\">\n",
              "    <path d=\"M0 0h24v24H0V0z\" fill=\"none\"/>\n",
              "    <path d=\"M18.56 5.44l.94 2.06.94-2.06 2.06-.94-2.06-.94-.94-2.06-.94 2.06-2.06.94zm-11 1L8.5 8.5l.94-2.06 2.06-.94-2.06-.94L8.5 2.5l-.94 2.06-2.06.94zm10 10l.94 2.06.94-2.06 2.06-.94-2.06-.94-.94-2.06-.94 2.06-2.06.94z\"/><path d=\"M17.41 7.96l-1.37-1.37c-.4-.4-.92-.59-1.43-.59-.52 0-1.04.2-1.43.59L10.3 9.45l-7.72 7.72c-.78.78-.78 2.05 0 2.83L4 21.41c.39.39.9.59 1.41.59.51 0 1.02-.2 1.41-.59l7.78-7.78 2.81-2.81c.8-.78.8-2.07 0-2.86zM5.41 20L4 18.59l7.72-7.72 1.47 1.35L5.41 20z\"/>\n",
              "  </svg>\n",
              "      </button>\n",
              "      \n",
              "  <style>\n",
              "    .colab-df-container {\n",
              "      display:flex;\n",
              "      flex-wrap:wrap;\n",
              "      gap: 12px;\n",
              "    }\n",
              "\n",
              "    .colab-df-convert {\n",
              "      background-color: #E8F0FE;\n",
              "      border: none;\n",
              "      border-radius: 50%;\n",
              "      cursor: pointer;\n",
              "      display: none;\n",
              "      fill: #1967D2;\n",
              "      height: 32px;\n",
              "      padding: 0 0 0 0;\n",
              "      width: 32px;\n",
              "    }\n",
              "\n",
              "    .colab-df-convert:hover {\n",
              "      background-color: #E2EBFA;\n",
              "      box-shadow: 0px 1px 2px rgba(60, 64, 67, 0.3), 0px 1px 3px 1px rgba(60, 64, 67, 0.15);\n",
              "      fill: #174EA6;\n",
              "    }\n",
              "\n",
              "    [theme=dark] .colab-df-convert {\n",
              "      background-color: #3B4455;\n",
              "      fill: #D2E3FC;\n",
              "    }\n",
              "\n",
              "    [theme=dark] .colab-df-convert:hover {\n",
              "      background-color: #434B5C;\n",
              "      box-shadow: 0px 1px 3px 1px rgba(0, 0, 0, 0.15);\n",
              "      filter: drop-shadow(0px 1px 2px rgba(0, 0, 0, 0.3));\n",
              "      fill: #FFFFFF;\n",
              "    }\n",
              "  </style>\n",
              "\n",
              "      <script>\n",
              "        const buttonEl =\n",
              "          document.querySelector('#df-8c0221bb-f7fb-4efb-9e28-d26e1e4ee768 button.colab-df-convert');\n",
              "        buttonEl.style.display =\n",
              "          google.colab.kernel.accessAllowed ? 'block' : 'none';\n",
              "\n",
              "        async function convertToInteractive(key) {\n",
              "          const element = document.querySelector('#df-8c0221bb-f7fb-4efb-9e28-d26e1e4ee768');\n",
              "          const dataTable =\n",
              "            await google.colab.kernel.invokeFunction('convertToInteractive',\n",
              "                                                     [key], {});\n",
              "          if (!dataTable) return;\n",
              "\n",
              "          const docLinkHtml = 'Like what you see? Visit the ' +\n",
              "            '<a target=\"_blank\" href=https://colab.research.google.com/notebooks/data_table.ipynb>data table notebook</a>'\n",
              "            + ' to learn more about interactive tables.';\n",
              "          element.innerHTML = '';\n",
              "          dataTable['output_type'] = 'display_data';\n",
              "          await google.colab.output.renderOutput(dataTable, element);\n",
              "          const docLink = document.createElement('div');\n",
              "          docLink.innerHTML = docLinkHtml;\n",
              "          element.appendChild(docLink);\n",
              "        }\n",
              "      </script>\n",
              "    </div>\n",
              "  </div>\n",
              "  "
            ]
          },
          "metadata": {},
          "execution_count": 96
        }
      ],
      "source": [
        "### 상위 10위개 직업 추출\n",
        "top10 = job_income.sort_values(by=['income'], ascending = False).head(10)\n",
        "top10"
      ]
    },
    {
      "cell_type": "markdown",
      "id": "c1e9a96f",
      "metadata": {
        "id": "c1e9a96f"
      },
      "source": [
        "#### 3. 월급이 적은 직업 추출하기"
      ]
    },
    {
      "cell_type": "code",
      "execution_count": null,
      "id": "83d25273",
      "metadata": {
        "id": "83d25273",
        "outputId": "69a45076-c38d-46b6-f189-d3a83ddf3301",
        "colab": {
          "base_uri": "https://localhost:8080/",
          "height": 394
        }
      },
      "outputs": [
        {
          "output_type": "execute_result",
          "data": {
            "text/plain": [
              "                              income\n",
              "job                                 \n",
              "기타 돌봄∙보건 및 개인 생활 서비스 종사자   73.964286\n",
              "기타 서비스 관련 단순 종사자           77.789474\n",
              "청소원 및 환경미화원                88.461756\n",
              "가사 및 육아 도우미                92.455882\n",
              "돌봄 및 보건 서비스 종사자           117.162338\n",
              "음식 관련 단순 종사자              118.187500\n",
              "농림∙어업 관련 단순 종사자           122.625000\n",
              "채굴 및 토목 관련 기능 종사자         140.000000\n",
              "학예사∙사서 및 기록물 관리사          140.000000\n",
              "판매 관련 단순 종사자              140.909091"
            ],
            "text/html": [
              "\n",
              "  <div id=\"df-c6407aa2-7a4b-4aac-a892-51b137f7b38c\">\n",
              "    <div class=\"colab-df-container\">\n",
              "      <div>\n",
              "<style scoped>\n",
              "    .dataframe tbody tr th:only-of-type {\n",
              "        vertical-align: middle;\n",
              "    }\n",
              "\n",
              "    .dataframe tbody tr th {\n",
              "        vertical-align: top;\n",
              "    }\n",
              "\n",
              "    .dataframe thead th {\n",
              "        text-align: right;\n",
              "    }\n",
              "</style>\n",
              "<table border=\"1\" class=\"dataframe\">\n",
              "  <thead>\n",
              "    <tr style=\"text-align: right;\">\n",
              "      <th></th>\n",
              "      <th>income</th>\n",
              "    </tr>\n",
              "    <tr>\n",
              "      <th>job</th>\n",
              "      <th></th>\n",
              "    </tr>\n",
              "  </thead>\n",
              "  <tbody>\n",
              "    <tr>\n",
              "      <th>기타 돌봄∙보건 및 개인 생활 서비스 종사자</th>\n",
              "      <td>73.964286</td>\n",
              "    </tr>\n",
              "    <tr>\n",
              "      <th>기타 서비스 관련 단순 종사자</th>\n",
              "      <td>77.789474</td>\n",
              "    </tr>\n",
              "    <tr>\n",
              "      <th>청소원 및 환경미화원</th>\n",
              "      <td>88.461756</td>\n",
              "    </tr>\n",
              "    <tr>\n",
              "      <th>가사 및 육아 도우미</th>\n",
              "      <td>92.455882</td>\n",
              "    </tr>\n",
              "    <tr>\n",
              "      <th>돌봄 및 보건 서비스 종사자</th>\n",
              "      <td>117.162338</td>\n",
              "    </tr>\n",
              "    <tr>\n",
              "      <th>음식 관련 단순 종사자</th>\n",
              "      <td>118.187500</td>\n",
              "    </tr>\n",
              "    <tr>\n",
              "      <th>농림∙어업 관련 단순 종사자</th>\n",
              "      <td>122.625000</td>\n",
              "    </tr>\n",
              "    <tr>\n",
              "      <th>채굴 및 토목 관련 기능 종사자</th>\n",
              "      <td>140.000000</td>\n",
              "    </tr>\n",
              "    <tr>\n",
              "      <th>학예사∙사서 및 기록물 관리사</th>\n",
              "      <td>140.000000</td>\n",
              "    </tr>\n",
              "    <tr>\n",
              "      <th>판매 관련 단순 종사자</th>\n",
              "      <td>140.909091</td>\n",
              "    </tr>\n",
              "  </tbody>\n",
              "</table>\n",
              "</div>\n",
              "      <button class=\"colab-df-convert\" onclick=\"convertToInteractive('df-c6407aa2-7a4b-4aac-a892-51b137f7b38c')\"\n",
              "              title=\"Convert this dataframe to an interactive table.\"\n",
              "              style=\"display:none;\">\n",
              "        \n",
              "  <svg xmlns=\"http://www.w3.org/2000/svg\" height=\"24px\"viewBox=\"0 0 24 24\"\n",
              "       width=\"24px\">\n",
              "    <path d=\"M0 0h24v24H0V0z\" fill=\"none\"/>\n",
              "    <path d=\"M18.56 5.44l.94 2.06.94-2.06 2.06-.94-2.06-.94-.94-2.06-.94 2.06-2.06.94zm-11 1L8.5 8.5l.94-2.06 2.06-.94-2.06-.94L8.5 2.5l-.94 2.06-2.06.94zm10 10l.94 2.06.94-2.06 2.06-.94-2.06-.94-.94-2.06-.94 2.06-2.06.94z\"/><path d=\"M17.41 7.96l-1.37-1.37c-.4-.4-.92-.59-1.43-.59-.52 0-1.04.2-1.43.59L10.3 9.45l-7.72 7.72c-.78.78-.78 2.05 0 2.83L4 21.41c.39.39.9.59 1.41.59.51 0 1.02-.2 1.41-.59l7.78-7.78 2.81-2.81c.8-.78.8-2.07 0-2.86zM5.41 20L4 18.59l7.72-7.72 1.47 1.35L5.41 20z\"/>\n",
              "  </svg>\n",
              "      </button>\n",
              "      \n",
              "  <style>\n",
              "    .colab-df-container {\n",
              "      display:flex;\n",
              "      flex-wrap:wrap;\n",
              "      gap: 12px;\n",
              "    }\n",
              "\n",
              "    .colab-df-convert {\n",
              "      background-color: #E8F0FE;\n",
              "      border: none;\n",
              "      border-radius: 50%;\n",
              "      cursor: pointer;\n",
              "      display: none;\n",
              "      fill: #1967D2;\n",
              "      height: 32px;\n",
              "      padding: 0 0 0 0;\n",
              "      width: 32px;\n",
              "    }\n",
              "\n",
              "    .colab-df-convert:hover {\n",
              "      background-color: #E2EBFA;\n",
              "      box-shadow: 0px 1px 2px rgba(60, 64, 67, 0.3), 0px 1px 3px 1px rgba(60, 64, 67, 0.15);\n",
              "      fill: #174EA6;\n",
              "    }\n",
              "\n",
              "    [theme=dark] .colab-df-convert {\n",
              "      background-color: #3B4455;\n",
              "      fill: #D2E3FC;\n",
              "    }\n",
              "\n",
              "    [theme=dark] .colab-df-convert:hover {\n",
              "      background-color: #434B5C;\n",
              "      box-shadow: 0px 1px 3px 1px rgba(0, 0, 0, 0.15);\n",
              "      filter: drop-shadow(0px 1px 2px rgba(0, 0, 0, 0.3));\n",
              "      fill: #FFFFFF;\n",
              "    }\n",
              "  </style>\n",
              "\n",
              "      <script>\n",
              "        const buttonEl =\n",
              "          document.querySelector('#df-c6407aa2-7a4b-4aac-a892-51b137f7b38c button.colab-df-convert');\n",
              "        buttonEl.style.display =\n",
              "          google.colab.kernel.accessAllowed ? 'block' : 'none';\n",
              "\n",
              "        async function convertToInteractive(key) {\n",
              "          const element = document.querySelector('#df-c6407aa2-7a4b-4aac-a892-51b137f7b38c');\n",
              "          const dataTable =\n",
              "            await google.colab.kernel.invokeFunction('convertToInteractive',\n",
              "                                                     [key], {});\n",
              "          if (!dataTable) return;\n",
              "\n",
              "          const docLinkHtml = 'Like what you see? Visit the ' +\n",
              "            '<a target=\"_blank\" href=https://colab.research.google.com/notebooks/data_table.ipynb>data table notebook</a>'\n",
              "            + ' to learn more about interactive tables.';\n",
              "          element.innerHTML = '';\n",
              "          dataTable['output_type'] = 'display_data';\n",
              "          await google.colab.output.renderOutput(dataTable, element);\n",
              "          const docLink = document.createElement('div');\n",
              "          docLink.innerHTML = docLinkHtml;\n",
              "          element.appendChild(docLink);\n",
              "        }\n",
              "      </script>\n",
              "    </div>\n",
              "  </div>\n",
              "  "
            ]
          },
          "metadata": {},
          "execution_count": 97
        }
      ],
      "source": [
        "### 하위 10개 직업 추출\n",
        "bottom10 = job_income.sort_values(by=['income']).head(10)\n",
        "bottom10"
      ]
    },
    {
      "cell_type": "markdown",
      "id": "15c4b85a",
      "metadata": {
        "id": "15c4b85a"
      },
      "source": [
        "## 06 성별 직업 빈도 - 성별로 어떤 직업이 가장 많을까?"
      ]
    },
    {
      "cell_type": "markdown",
      "source": [
        "### 성별 직업 빈도 분석하기\n"
      ],
      "metadata": {
        "id": "he9n6I0OK-dj"
      },
      "id": "he9n6I0OK-dj"
    },
    {
      "cell_type": "code",
      "source": [
        "### 남성 직업 빈도 상위 10개 추출 --> loc 인덱서 + 블리언 배열\n",
        "male_job = welfare1.loc[welfare1.gender=='male', 'job'].value_counts()\n",
        "male_job_top10 = male_job[:10]\n",
        "male_job_top10"
      ],
      "metadata": {
        "colab": {
          "base_uri": "https://localhost:8080/"
        },
        "id": "Ct7KMex5HxMt",
        "outputId": "5c48b82a-4ea1-4ac5-fc26-4e94b8eca5a9"
      },
      "id": "Ct7KMex5HxMt",
      "execution_count": null,
      "outputs": [
        {
          "output_type": "execute_result",
          "data": {
            "text/plain": [
              "경영 관련 사무원           145\n",
              "자동차 운전원             111\n",
              "청소원 및 환경미화원          92\n",
              "건물 관리원 및 검표원         78\n",
              "영업 종사자               74\n",
              "제조 관련 단순 종사자         68\n",
              "매장 판매 종사자            59\n",
              "행정 사무원               54\n",
              "배달원                  52\n",
              "기타 서비스 관련 단순 종사자     50\n",
              "Name: job, dtype: int64"
            ]
          },
          "metadata": {},
          "execution_count": 104
        }
      ]
    },
    {
      "cell_type": "code",
      "source": [
        "### 남성 직업 빈도 상위 10개 추출 --> loc 인덱서 + 블리언 배열\n",
        "female_job = welfare1.loc[welfare1.gender=='female', 'job'].value_counts()\n",
        "female_job_top10 = female_job[:10]\n",
        "female_job_top10"
      ],
      "metadata": {
        "colab": {
          "base_uri": "https://localhost:8080/"
        },
        "id": "u126QoSaJJDU",
        "outputId": "03f9a641-3ec5-42d0-e6d5-1ee928240154"
      },
      "id": "u126QoSaJJDU",
      "execution_count": null,
      "outputs": [
        {
          "output_type": "execute_result",
          "data": {
            "text/plain": [
              "청소원 및 환경미화원         261\n",
              "돌봄 및 보건 서비스 종사자     151\n",
              "회계 및 경리 사무원         149\n",
              "제조 관련 단순 종사자        128\n",
              "매장 판매 종사자           106\n",
              "음식 관련 단순 종사자        101\n",
              "기타 서비스 관련 단순 종사자     83\n",
              "고객 상담 및 기타 사무원       73\n",
              "조리사                  72\n",
              "간호사                  68\n",
              "Name: job, dtype: int64"
            ]
          },
          "metadata": {},
          "execution_count": 105
        }
      ]
    }
  ],
  "metadata": {
    "jupytext": {
      "cell_metadata_filter": "eval,name,warning,cache,tags,echo,message,-all",
      "notebook_metadata_filter": "-all"
    },
    "kernelspec": {
      "display_name": "Python 3 (ipykernel)",
      "language": "python",
      "name": "python3"
    },
    "language_info": {
      "codemirror_mode": {
        "name": "ipython",
        "version": 3
      },
      "file_extension": ".py",
      "mimetype": "text/x-python",
      "name": "python",
      "nbconvert_exporter": "python",
      "pygments_lexer": "ipython3",
      "version": "3.9.11"
    },
    "colab": {
      "provenance": [],
      "toc_visible": true
    }
  },
  "nbformat": 4,
  "nbformat_minor": 5
}